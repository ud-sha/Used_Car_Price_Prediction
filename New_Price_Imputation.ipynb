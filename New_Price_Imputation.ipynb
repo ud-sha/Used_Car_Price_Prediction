{
 "cells": [
  {
   "cell_type": "code",
   "execution_count": 1,
   "metadata": {},
   "outputs": [],
   "source": [
    "import pandas as pd\n",
    "import numpy as np\n",
    "import seaborn as sns\n",
    "import matplotlib.pyplot as plt"
   ]
  },
  {
   "cell_type": "code",
   "execution_count": 2,
   "metadata": {},
   "outputs": [],
   "source": [
    "df = pd.read_csv('processed_data.csv')"
   ]
  },
  {
   "cell_type": "code",
   "execution_count": 3,
   "metadata": {},
   "outputs": [],
   "source": [
    "df_copy = df.copy()"
   ]
  },
  {
   "cell_type": "code",
   "execution_count": 4,
   "metadata": {},
   "outputs": [],
   "source": [
    "df_copy['Min new price']=df_copy['Min new price'].fillna(df_copy.groupby(['Model','fuel_type'])['Min new price'].transform('median'))"
   ]
  },
  {
   "cell_type": "code",
   "execution_count": 5,
   "metadata": {},
   "outputs": [],
   "source": [
    "df_copy['Max new price']=df_copy['Max new price'].fillna(df_copy.groupby(['Model','fuel_type'])['Max new price'].transform('median'))"
   ]
  },
  {
   "cell_type": "code",
   "execution_count": 6,
   "metadata": {},
   "outputs": [
    {
     "data": {
      "text/plain": [
       "Maker                 0.00\n",
       "Model                 0.00\n",
       "Min new price        42.16\n",
       "Max new price        43.82\n",
       "Age                   0.00\n",
       "km_driven             0.00\n",
       "seller_type           0.00\n",
       "owner_type            0.00\n",
       "fuel_type             0.00\n",
       "transmission_type     0.00\n",
       "mileage               0.00\n",
       "engine                0.00\n",
       "max_power             0.00\n",
       "seats                 0.00\n",
       "selling_price         0.00\n",
       "dtype: float64"
      ]
     },
     "execution_count": 6,
     "metadata": {},
     "output_type": "execute_result"
    }
   ],
   "source": [
    "round(df_copy.isnull().sum()/len(df_copy)*100 ,2)"
   ]
  },
  {
   "cell_type": "code",
   "execution_count": 7,
   "metadata": {},
   "outputs": [],
   "source": [
    "df_nan = df_copy[np.isnan(df_copy['Min new price'])]"
   ]
  },
  {
   "cell_type": "code",
   "execution_count": 8,
   "metadata": {},
   "outputs": [
    {
     "data": {
      "text/plain": [
       "8276"
      ]
     },
     "execution_count": 8,
     "metadata": {},
     "output_type": "execute_result"
    }
   ],
   "source": [
    "df_nan['Model'].count()"
   ]
  },
  {
   "cell_type": "code",
   "execution_count": 9,
   "metadata": {},
   "outputs": [
    {
     "data": {
      "text/plain": [
       "570"
      ]
     },
     "execution_count": 9,
     "metadata": {},
     "output_type": "execute_result"
    }
   ],
   "source": [
    "df_nan['Model'].nunique()"
   ]
  },
  {
   "cell_type": "code",
   "execution_count": 10,
   "metadata": {},
   "outputs": [],
   "source": [
    "list_nan = df_nan['Model'].value_counts().head(200)"
   ]
  },
  {
   "cell_type": "code",
   "execution_count": null,
   "metadata": {},
   "outputs": [],
   "source": []
  },
  {
   "cell_type": "markdown",
   "metadata": {},
   "source": [
    "# Manual Filling on Nan value for Min and Max Value"
   ]
  },
  {
   "cell_type": "code",
   "execution_count": 11,
   "metadata": {},
   "outputs": [
    {
     "name": "stderr",
     "output_type": "stream",
     "text": [
      "C:\\ProgramData\\Anaconda3\\lib\\site-packages\\pandas\\core\\indexing.py:670: SettingWithCopyWarning: \n",
      "A value is trying to be set on a copy of a slice from a DataFrame\n",
      "\n",
      "See the caveats in the documentation: https://pandas.pydata.org/pandas-docs/stable/user_guide/indexing.html#returning-a-view-versus-a-copy\n",
      "  self._setitem_with_indexer(indexer, value)\n"
     ]
    }
   ],
   "source": [
    "df_copy['Min new price'].loc[(df_copy['Model'] == 'ALTO STD')] = 299800\n",
    "df_copy['Max new price'].loc[(df_copy['Model'] == 'ALTO STD')] = 299800"
   ]
  },
  {
   "cell_type": "code",
   "execution_count": 12,
   "metadata": {},
   "outputs": [],
   "source": [
    "df_copy['Min new price'].loc[(df_copy['Model'] == 'ALTO K10')] = 356000\n",
    "df_copy['Max new price'].loc[(df_copy['Model'] == 'ALTO K10')] = 451000"
   ]
  },
  {
   "cell_type": "code",
   "execution_count": 13,
   "metadata": {},
   "outputs": [],
   "source": [
    "df_copy['Min new price'].loc[(df_copy['Model'] == 'TUV 300')] = 860000\n",
    "df_copy['Max new price'].loc[(df_copy['Model'] == 'TUV 300')] = 1061000"
   ]
  },
  {
   "cell_type": "code",
   "execution_count": 14,
   "metadata": {},
   "outputs": [],
   "source": [
    "df_copy['Min new price'].loc[(df_copy['Model'] == 'INDIGO LX')] = 668818\n",
    "df_copy['Max new price'].loc[(df_copy['Model'] == 'INDIGO LX')] = 710449"
   ]
  },
  {
   "cell_type": "code",
   "execution_count": 15,
   "metadata": {},
   "outputs": [],
   "source": [
    "df_copy['Min new price'].loc[(df_copy['Model'] == 'CAPTUR PLATINE')] = 1051000\n",
    "df_copy['Max new price'].loc[(df_copy['Model'] == 'CAPTUR PLATINE')] = 1305000"
   ]
  },
  {
   "cell_type": "code",
   "execution_count": 16,
   "metadata": {},
   "outputs": [],
   "source": [
    "df_copy['Min new price'].loc[(df_copy['Model'] == 'MICRA XL')] = 743000\n",
    "df_copy['Max new price'].loc[(df_copy['Model'] == 'MICRA XL')] = 743000"
   ]
  },
  {
   "cell_type": "code",
   "execution_count": 17,
   "metadata": {},
   "outputs": [],
   "source": [
    "df_copy['Min new price'].loc[(df_copy['Model'] == 'SWIFT VDI')] = 600000\n",
    "df_copy['Max new price'].loc[(df_copy['Model'] == 'SWIFT VDI')] = 750000"
   ]
  },
  {
   "cell_type": "code",
   "execution_count": 18,
   "metadata": {},
   "outputs": [],
   "source": [
    "df_copy['Min new price'].loc[((df_copy['Model'] == 'SWIFT DZIRE') & (df_copy['fuel_type'] == 'Diesel'))] = 598000\n",
    "df_copy['Max new price'].loc[((df_copy['Model'] == 'SWIFT DZIRE') & (df_copy['fuel_type'] == 'Diesel'))] = 903000"
   ]
  },
  {
   "cell_type": "code",
   "execution_count": 19,
   "metadata": {},
   "outputs": [],
   "source": [
    "df_copy['Min new price'].loc[((df_copy['Model'] == 'VITARA BREZZA') & (df_copy['transmission_type'] == 'Manual'))] = 750000\n",
    "df_copy['Max new price'].loc[((df_copy['Model'] == 'VITARA BREZZA') & (df_copy['transmission_type'] == 'Manual'))] = 1003000"
   ]
  },
  {
   "cell_type": "code",
   "execution_count": 20,
   "metadata": {},
   "outputs": [],
   "source": [
    "df_copy['Min new price'].loc[((df_copy['Model'] == 'VITARA BREZZA') & (df_copy['transmission_type'] == 'Automatic'))] = 1393000\n",
    "df_copy['Max new price'].loc[((df_copy['Model'] == 'VITARA BREZZA') & (df_copy['transmission_type'] == 'Automatic'))] = 1413000"
   ]
  },
  {
   "cell_type": "code",
   "execution_count": 21,
   "metadata": {},
   "outputs": [],
   "source": [
    "df_copy['Min new price'].loc[((df_copy['Model'] == 'GRAND I10') & (df_copy['fuel_type'] == 'Diesel'))] =  887000\n",
    "df_copy['Max new price'].loc[((df_copy['Model'] == 'GRAND I10') & (df_copy['fuel_type'] == 'Diesel'))] = 918000"
   ]
  },
  {
   "cell_type": "code",
   "execution_count": 22,
   "metadata": {},
   "outputs": [],
   "source": [
    "df_copy['Min new price'].loc[(df_copy['Model'] == '1 SERIES')] = 3804000\n",
    "df_copy['Max new price'].loc[(df_copy['Model'] == '1 SERIES')] = 3807000"
   ]
  },
  {
   "cell_type": "code",
   "execution_count": 23,
   "metadata": {},
   "outputs": [],
   "source": [
    "df_copy['Min new price'].loc[(df_copy['Model'] == 'INNOVA 2.5')] = 1689824\n",
    "df_copy['Max new price'].loc[(df_copy['Model'] == 'INNOVA 2.5')] = 2078690"
   ]
  },
  {
   "cell_type": "code",
   "execution_count": 24,
   "metadata": {},
   "outputs": [],
   "source": [
    "df_copy['Min new price'].loc[(df_copy['Model'] == 'ALTO LXI')] = 381000\n",
    "df_copy['Max new price'].loc[(df_copy['Model'] == 'ALTO LXI')] = 381000"
   ]
  },
  {
   "cell_type": "code",
   "execution_count": 25,
   "metadata": {},
   "outputs": [],
   "source": [
    "df_copy['Min new price'].loc[(df_copy['Model'] == 'SANTRO XING')] = 379000\n",
    "df_copy['Max new price'].loc[(df_copy['Model'] == 'SANTRO XING')] = 409000"
   ]
  },
  {
   "cell_type": "code",
   "execution_count": 26,
   "metadata": {},
   "outputs": [],
   "source": [
    "df_copy['Min new price'].loc[(df_copy['Model'] == 'COROLLA ALTIS') & (df_copy['transmission_type'] == 'Automatic')] = 1995000\n",
    "df_copy['Max new price'].loc[(df_copy['Model'] == 'COROLLA ALTIS') & (df_copy['transmission_type'] == 'Automatic')] = 2290000"
   ]
  },
  {
   "cell_type": "code",
   "execution_count": 27,
   "metadata": {},
   "outputs": [],
   "source": [
    "df_copy['Min new price'].loc[(df_copy['Model'] == 'COROLLA ALTIS') & (df_copy['transmission_type'] == 'Manual')] = 1982000\n",
    "df_copy['Max new price'].loc[(df_copy['Model'] == 'COROLLA ALTIS') & (df_copy['transmission_type'] == 'Manual')] = 2210000"
   ]
  },
  {
   "cell_type": "code",
   "execution_count": 28,
   "metadata": {},
   "outputs": [],
   "source": [
    "df_copy['Min new price'].loc[(df_copy['Model'] == 'XCENT 1.2') & (df_copy['transmission_type'] == 'Manual')] = 630000\n",
    "df_copy['Max new price'].loc[(df_copy['Model'] == 'XCENT 1.2') & (df_copy['transmission_type'] == 'Manual')] = 875000"
   ]
  },
  {
   "cell_type": "code",
   "execution_count": 29,
   "metadata": {},
   "outputs": [],
   "source": [
    "df_copy['Min new price'].loc[(df_copy['Model'] == 'XCENT 1.2') & (df_copy['transmission_type'] == 'Automatic')] = 670000\n",
    "df_copy['Max new price'].loc[(df_copy['Model'] == 'XCENT 1.2') & (df_copy['transmission_type'] == 'Automatic')] = 820000"
   ]
  },
  {
   "cell_type": "code",
   "execution_count": 30,
   "metadata": {},
   "outputs": [],
   "source": [
    "df_copy['Min new price'].loc[(df_copy['Model'] == 'BEAT DIESEL')] = 425000\n",
    "df_copy['Max new price'].loc[(df_copy['Model'] == 'BEAT DIESEL')] = 490000"
   ]
  },
  {
   "cell_type": "code",
   "execution_count": 31,
   "metadata": {},
   "outputs": [],
   "source": [
    "df_copy['Min new price'].loc[(df_copy['Model'] == 'DUSTER 85PS')] = 973000\n",
    "df_copy['Max new price'].loc[(df_copy['Model'] == 'DUSTER 85PS')] = 1417000"
   ]
  },
  {
   "cell_type": "code",
   "execution_count": 32,
   "metadata": {},
   "outputs": [],
   "source": [
    "df_copy['Min new price'].loc[(df_copy['Model'] == 'EON ERA')] = 388000\n",
    "df_copy['Max new price'].loc[(df_copy['Model'] == 'EON ERA')] = 448000"
   ]
  },
  {
   "cell_type": "code",
   "execution_count": 33,
   "metadata": {},
   "outputs": [],
   "source": [
    "df_copy['Min new price'].loc[(df_copy['Model'] == 'DUSTER 110PS')] = 1214000\n",
    "df_copy['Max new price'].loc[(df_copy['Model'] == 'DUSTER 110PS')] = 1450000"
   ]
  },
  {
   "cell_type": "code",
   "execution_count": 34,
   "metadata": {},
   "outputs": [],
   "source": [
    "df_copy['Min new price'].loc[((df_copy['Model'] == 'I20 ACTIVE') & (df_copy['fuel_type'] == 'Diesel'))] = 913000\n",
    "df_copy['Max new price'].loc[((df_copy['Model'] == 'I20 ACTIVE') & (df_copy['fuel_type'] == 'Diesel'))] = 1033000"
   ]
  },
  {
   "cell_type": "code",
   "execution_count": 35,
   "metadata": {},
   "outputs": [],
   "source": [
    "df_copy['Min new price'].loc[((df_copy['Model'] == 'I20 ACTIVE') & (df_copy['fuel_type'] == 'Petrol'))] =  718000\n",
    "df_copy['Max new price'].loc[((df_copy['Model'] == 'I20 ACTIVE') & (df_copy['fuel_type'] == 'Petrol'))] = 888000"
   ]
  },
  {
   "cell_type": "code",
   "execution_count": 36,
   "metadata": {},
   "outputs": [],
   "source": [
    "df_copy['Min new price'].loc[(df_copy['Model'] == 'RAPID 1.5')] = 980000\n",
    "df_copy['Max new price'].loc[(df_copy['Model'] == 'RAPID 1.5')] = 1100000"
   ]
  },
  {
   "cell_type": "code",
   "execution_count": 37,
   "metadata": {},
   "outputs": [],
   "source": [
    "df_copy['Min new price'].loc[(df_copy['Model'] == 'VENTO 1.5')] = 1270000\n",
    "df_copy['Max new price'].loc[(df_copy['Model'] == 'VENTO 1.5')] = 1410000"
   ]
  },
  {
   "cell_type": "code",
   "execution_count": 38,
   "metadata": {},
   "outputs": [],
   "source": [
    "df_copy['Min new price'].loc[(df_copy['Model'] == 'ZEN ESTILO')] = 420000\n",
    "df_copy['Max new price'].loc[(df_copy['Model'] == 'ZEN ESTILO')] = 510000"
   ]
  },
  {
   "cell_type": "code",
   "execution_count": 39,
   "metadata": {},
   "outputs": [],
   "source": [
    "df_copy['Min new price'].loc[(df_copy['Model'] == 'CIAZ VDI')] = 900000\n",
    "df_copy['Max new price'].loc[(df_copy['Model'] == 'CIAZ VDI')] = 900000"
   ]
  },
  {
   "cell_type": "code",
   "execution_count": 40,
   "metadata": {},
   "outputs": [],
   "source": [
    "df_copy['Min new price'].loc[(df_copy['Model'] == 'ERTIGA SHVS')] = 1038000\n",
    "df_copy['Max new price'].loc[(df_copy['Model'] == 'ERTIGA SHVS')] = 1370000"
   ]
  },
  {
   "cell_type": "code",
   "execution_count": 41,
   "metadata": {},
   "outputs": [],
   "source": [
    "df_copy['Min new price'].loc[(df_copy['Model'] == 'POLO 1.5')] = 838000\n",
    "df_copy['Max new price'].loc[(df_copy['Model'] == 'POLO 1.5')] = 1010000"
   ]
  },
  {
   "cell_type": "code",
   "execution_count": 42,
   "metadata": {},
   "outputs": [],
   "source": [
    "df_copy['Min new price'].loc[(df_copy['Model'] == 'RITZ VDI')] = 680000\n",
    "df_copy['Max new price'].loc[(df_copy['Model'] == 'RITZ VDI')] = 680000"
   ]
  },
  {
   "cell_type": "code",
   "execution_count": 43,
   "metadata": {},
   "outputs": [],
   "source": [
    "df_copy['Min new price'].loc[(df_copy['Model'] == 'ETIOS LIVA')] = 785000\n",
    "df_copy['Max new price'].loc[(df_copy['Model'] == 'ETIOS LIVA')] = 930000"
   ]
  },
  {
   "cell_type": "code",
   "execution_count": 44,
   "metadata": {},
   "outputs": [],
   "source": [
    "df_copy['Min new price'].loc[(df_copy['Model'] == 'VENTO DIESEL')] = 1238000\n",
    "df_copy['Max new price'].loc[(df_copy['Model'] == 'VENTO DIESEL')] = 1420000"
   ]
  },
  {
   "cell_type": "code",
   "execution_count": 45,
   "metadata": {},
   "outputs": [],
   "source": [
    "df_copy['Min new price'].loc[(df_copy['Model'] == 'BRIO S')] = 600000\n",
    "df_copy['Max new price'].loc[(df_copy['Model'] == 'BRIO S')] = 710000"
   ]
  },
  {
   "cell_type": "code",
   "execution_count": 46,
   "metadata": {},
   "outputs": [],
   "source": [
    "df_copy['Min new price'].loc[(df_copy['Model'] == 'POLO DIESEL')] = 885000\n",
    "df_copy['Max new price'].loc[(df_copy['Model'] == 'POLO DIESEL')] = 1070000"
   ]
  },
  {
   "cell_type": "code",
   "execution_count": 47,
   "metadata": {},
   "outputs": [],
   "source": [
    "df_copy['Min new price'].loc[(df_copy['Model'] == 'SX4 S')] = 838000\n",
    "df_copy['Max new price'].loc[(df_copy['Model'] == 'SX4 S')] = 1040000"
   ]
  },
  {
   "cell_type": "code",
   "execution_count": 48,
   "metadata": {},
   "outputs": [],
   "source": [
    "df_copy['Min new price'].loc[(df_copy['Model'] == 'CIAZ ZDI')] = 1088000\n",
    "df_copy['Max new price'].loc[(df_copy['Model'] == 'CIAZ ZDI')] = 1088000"
   ]
  },
  {
   "cell_type": "code",
   "execution_count": 49,
   "metadata": {},
   "outputs": [],
   "source": [
    "df_copy['Min new price'].loc[(df_copy['Model'] == 'SPARK 1.0')] = 410000\n",
    "df_copy['Max new price'].loc[(df_copy['Model'] == 'SPARK 1.0')] = 490000"
   ]
  },
  {
   "cell_type": "code",
   "execution_count": 50,
   "metadata": {},
   "outputs": [],
   "source": [
    "df_copy['Min new price'].loc[(df_copy['Model'] == 'ERTIGA ZDI')] = 1170000\n",
    "df_copy['Max new price'].loc[(df_copy['Model'] == 'ERTIGA ZDI')] = 1170000"
   ]
  },
  {
   "cell_type": "code",
   "execution_count": 51,
   "metadata": {},
   "outputs": [],
   "source": [
    "df_copy['Min new price'].loc[(df_copy['Model'] == 'ERTIGA VDI')] = 1035000\n",
    "df_copy['Max new price'].loc[(df_copy['Model'] == 'ERTIGA VDI')] = 1035000"
   ]
  },
  {
   "cell_type": "code",
   "execution_count": 52,
   "metadata": {},
   "outputs": [],
   "source": [
    "df_copy['Min new price'].loc[(df_copy['Model'] == 'XCENT 1.1')] = 640000\n",
    "df_copy['Max new price'].loc[(df_copy['Model'] == 'XCENT 1.1')] = 820000"
   ]
  },
  {
   "cell_type": "code",
   "execution_count": 53,
   "metadata": {},
   "outputs": [],
   "source": [
    "df_copy['Min new price'].loc[(df_copy['Model'] == 'SWIFT LDI')] = 680000\n",
    "df_copy['Max new price'].loc[(df_copy['Model'] == 'SWIFT LDI')] = 680000"
   ]
  },
  {
   "cell_type": "code",
   "execution_count": 54,
   "metadata": {},
   "outputs": [],
   "source": [
    "df_copy['Min new price'].loc[(df_copy['Model'] == 'EON MAGNA')] = 475000\n",
    "df_copy['Max new price'].loc[(df_copy['Model'] == 'EON MAGNA')] = 580000"
   ]
  },
  {
   "cell_type": "code",
   "execution_count": 55,
   "metadata": {},
   "outputs": [],
   "source": [
    "df_copy['Min new price'].loc[(df_copy['Model'] == 'SAFARI STORME')] = 1100000\n",
    "df_copy['Max new price'].loc[(df_copy['Model'] == 'SAFARI STORME')] = 1420000"
   ]
  },
  {
   "cell_type": "code",
   "execution_count": 56,
   "metadata": {},
   "outputs": [],
   "source": [
    "df_copy['Min new price'].loc[(df_copy['Model'] == 'A4 2.0')] = 4305000\n",
    "df_copy['Max new price'].loc[(df_copy['Model'] == 'A4 2.0')] = 4700000"
   ]
  },
  {
   "cell_type": "code",
   "execution_count": 57,
   "metadata": {},
   "outputs": [],
   "source": [
    "df_copy['Min new price'].loc[(df_copy['Model'] == 'SWIFT ZDI')] = 820000\n",
    "df_copy['Max new price'].loc[(df_copy['Model'] == 'SWIFT ZDI')] = 820000"
   ]
  },
  {
   "cell_type": "code",
   "execution_count": 58,
   "metadata": {},
   "outputs": [],
   "source": [
    "df_copy['Min new price'].loc[(df_copy['Model'] == 'TERRANO XL')] = 1236000\n",
    "df_copy['Max new price'].loc[(df_copy['Model'] == 'TERRANO XL')] = 1390000"
   ]
  },
  {
   "cell_type": "code",
   "execution_count": 59,
   "metadata": {},
   "outputs": [],
   "source": [
    "df_copy['Min new price'].loc[(df_copy['Model'] == 'RAPID 1.6')] = 890000\n",
    "df_copy['Max new price'].loc[(df_copy['Model'] == 'RAPID 1.6')] = 1300000"
   ]
  },
  {
   "cell_type": "code",
   "execution_count": 60,
   "metadata": {},
   "outputs": [],
   "source": [
    "df_copy['Min new price'].loc[(df_copy['Model'] == 'EON D')] = 375000\n",
    "df_copy['Max new price'].loc[(df_copy['Model'] == 'EON D')] = 450000"
   ]
  },
  {
   "cell_type": "code",
   "execution_count": 61,
   "metadata": {},
   "outputs": [],
   "source": [
    "df_copy['Min new price'].loc[(df_copy['Model'] == 'ZEST QUADRAJET')] = 780000\n",
    "df_copy['Max new price'].loc[(df_copy['Model'] == 'ZEST QUADRAJET')] = 860000"
   ]
  },
  {
   "cell_type": "code",
   "execution_count": 62,
   "metadata": {},
   "outputs": [],
   "source": [
    "df_copy['Min new price'].loc[(df_copy['Model'] == 'S-CROSS 2017-2020')] = 920000\n",
    "df_copy['Max new price'].loc[(df_copy['Model'] == 'S-CROSS 2017-2020')] = 1230000"
   ]
  },
  {
   "cell_type": "code",
   "execution_count": 63,
   "metadata": {},
   "outputs": [],
   "source": [
    "df_copy['Min new price'].loc[(df_copy['Model'] == 'INDICA VISTA')] = 610000\n",
    "df_copy['Max new price'].loc[(df_copy['Model'] == 'INDICA VISTA')] = 710000"
   ]
  },
  {
   "cell_type": "code",
   "execution_count": 64,
   "metadata": {},
   "outputs": [],
   "source": [
    "df_copy['Min new price'].loc[(df_copy['Model'] == 'ALTO LX')] = 360000\n",
    "df_copy['Max new price'].loc[(df_copy['Model'] == 'ALTO LX')] = 360000"
   ]
  },
  {
   "cell_type": "code",
   "execution_count": 65,
   "metadata": {},
   "outputs": [],
   "source": [
    "df_copy['Min new price'].loc[(df_copy['Model'] == 'A STAR')] = 970000\n",
    "df_copy['Max new price'].loc[(df_copy['Model'] == 'A STAR')] = 430000"
   ]
  },
  {
   "cell_type": "code",
   "execution_count": 66,
   "metadata": {},
   "outputs": [],
   "source": [
    "df_copy['Min new price'].loc[(df_copy['Model'] == 'BOLERO POWER')] = 859000\n",
    "df_copy['Max new price'].loc[(df_copy['Model'] == 'BOLERO POWER')] = 960000"
   ]
  },
  {
   "cell_type": "code",
   "execution_count": 67,
   "metadata": {},
   "outputs": [],
   "source": [
    "df_copy['Min new price'].loc[(df_copy['Model'] == 'SUNNY DIESEL')] = 970000\n",
    "df_copy['Max new price'].loc[(df_copy['Model'] == 'SUNNY DIESEL')] = 1060000"
   ]
  },
  {
   "cell_type": "code",
   "execution_count": 68,
   "metadata": {},
   "outputs": [],
   "source": [
    "df_copy['Min new price'].loc[(df_copy['Model'] == 'BEAT LT')] = 485000\n",
    "df_copy['Max new price'].loc[(df_copy['Model'] == 'BEAT LT')] = 570000"
   ]
  },
  {
   "cell_type": "code",
   "execution_count": 69,
   "metadata": {},
   "outputs": [
    {
     "data": {
      "text/plain": [
       "Maker                 0.00\n",
       "Model                 0.00\n",
       "Min new price        17.79\n",
       "Max new price        19.45\n",
       "Age                   0.00\n",
       "km_driven             0.00\n",
       "seller_type           0.00\n",
       "owner_type            0.00\n",
       "fuel_type             0.00\n",
       "transmission_type     0.00\n",
       "mileage               0.00\n",
       "engine                0.00\n",
       "max_power             0.00\n",
       "seats                 0.00\n",
       "selling_price         0.00\n",
       "dtype: float64"
      ]
     },
     "execution_count": 69,
     "metadata": {},
     "output_type": "execute_result"
    }
   ],
   "source": [
    "round(df_copy.isnull().sum()/len(df_copy)*100 ,2)"
   ]
  },
  {
   "cell_type": "code",
   "execution_count": 70,
   "metadata": {},
   "outputs": [],
   "source": [
    "df_copy['Min new price'].loc[(df_copy['Model'] == 'SANTA FE')] = 2787000\n",
    "df_copy['Max new price'].loc[(df_copy['Model'] == 'SANTA FE')] = 3107000"
   ]
  },
  {
   "cell_type": "code",
   "execution_count": 71,
   "metadata": {},
   "outputs": [],
   "source": [
    "df_copy['Min new price'].loc[(df_copy['Model'] == 'JAZZ 1.5')] = 766000\n",
    "df_copy['Max new price'].loc[(df_copy['Model'] == 'JAZZ 1.5')] = 989000"
   ]
  },
  {
   "cell_type": "code",
   "execution_count": 72,
   "metadata": {},
   "outputs": [],
   "source": [
    "df_copy['Min new price'].loc[(df_copy['Model'] == 'RITZ VXI')] = 489163\n",
    "df_copy['Max new price'].loc[(df_copy['Model'] == 'RITZ VXI')] = 506000"
   ]
  },
  {
   "cell_type": "code",
   "execution_count": 73,
   "metadata": {},
   "outputs": [],
   "source": [
    "df_copy['Min new price'].loc[(df_copy['Model'] == 'ETIOS G')] = 650000\n",
    "df_copy['Max new price'].loc[(df_copy['Model'] == 'ETIOS G')] = 680000"
   ]
  },
  {
   "cell_type": "code",
   "execution_count": 74,
   "metadata": {},
   "outputs": [],
   "source": [
    "df_copy['Min new price'].loc[(df_copy['Model'] == 'INDIGO LX')] = 608000\n",
    "df_copy['Max new price'].loc[(df_copy['Model'] == 'INDIGO LX')] = 627000"
   ]
  },
  {
   "cell_type": "code",
   "execution_count": 75,
   "metadata": {},
   "outputs": [],
   "source": [
    "df_copy['Min new price'].loc[(df_copy['Model'] == 'A6 2.0')] = 5708000\n",
    "df_copy['Max new price'].loc[(df_copy['Model'] == 'A6 2.0')] = 6181000"
   ]
  },
  {
   "cell_type": "code",
   "execution_count": 76,
   "metadata": {},
   "outputs": [],
   "source": [
    "df_copy['Min new price'].loc[((df_copy['Model'] == 'GRANDE PUNTO') & (df_copy['fuel_type'] == 'Diesel'))] = 590000\n",
    "df_copy['Max new price'].loc[((df_copy['Model'] == 'GRANDE PUNTO') & (df_copy['fuel_type'] == 'Diesel'))] = 804000"
   ]
  },
  {
   "cell_type": "code",
   "execution_count": 77,
   "metadata": {},
   "outputs": [],
   "source": [
    "df_copy['Min new price'].loc[((df_copy['Model'] == 'GRANDE PUNTO') & (df_copy['fuel_type'] == 'Petrol'))] =  488000\n",
    "df_copy['Max new price'].loc[((df_copy['Model'] == 'GRANDE PUNTO') & (df_copy['fuel_type'] == 'Petrol'))] = 771000"
   ]
  },
  {
   "cell_type": "code",
   "execution_count": 78,
   "metadata": {},
   "outputs": [],
   "source": [
    "df_copy['Min new price'].loc[(df_copy['Model'] == 'CLA 200')] = 3696000\n",
    "df_copy['Max new price'].loc[(df_copy['Model'] == 'CLA 200')] = 5000000"
   ]
  },
  {
   "cell_type": "code",
   "execution_count": 79,
   "metadata": {},
   "outputs": [],
   "source": [
    "df_copy['Min new price'].loc[(df_copy['Model'] == 'KUV 100')] = 554000\n",
    "df_copy['Max new price'].loc[(df_copy['Model'] == 'KUV 100')] = 716000"
   ]
  },
  {
   "cell_type": "code",
   "execution_count": 80,
   "metadata": {},
   "outputs": [],
   "source": [
    "df_copy['Min new price'].loc[(df_copy['Model'] == 'M-CLASS ML')] = 5674000\n",
    "df_copy['Max new price'].loc[(df_copy['Model'] == 'M-CLASS ML')] = 6091000"
   ]
  },
  {
   "cell_type": "code",
   "execution_count": 81,
   "metadata": {},
   "outputs": [],
   "source": [
    "df_copy['Min new price'].loc[(df_copy['Model'] == 'RITZ LDI')] = 484711\n",
    "df_copy['Max new price'].loc[(df_copy['Model'] == 'RITZ LDI')] = 783133"
   ]
  },
  {
   "cell_type": "code",
   "execution_count": 82,
   "metadata": {},
   "outputs": [],
   "source": [
    "df_copy['Min new price'].loc[(df_copy['Model'] == 'AMEO 1.2')] = 745100\n",
    "df_copy['Max new price'].loc[(df_copy['Model'] == 'AMEO 1.2')] = 870992"
   ]
  },
  {
   "cell_type": "code",
   "execution_count": 83,
   "metadata": {},
   "outputs": [],
   "source": [
    "df_copy['Min new price'].loc[((df_copy['Model'] == 'GRANDE PUNTO') & (df_copy['fuel_type'] == 'Diesel'))] = 3678000\n",
    "df_copy['Max new price'].loc[((df_copy['Model'] == 'GRANDE PUNTO') & (df_copy['fuel_type'] == 'Diesel'))] = 4361000"
   ]
  },
  {
   "cell_type": "code",
   "execution_count": 84,
   "metadata": {},
   "outputs": [],
   "source": [
    "df_copy['Min new price'].loc[((df_copy['Model'] == 'GRANDE PUNTO') & (df_copy['fuel_type'] == 'Petrol'))] = 3497000\n",
    "df_copy['Max new price'].loc[((df_copy['Model'] == 'GRANDE PUNTO') & (df_copy['fuel_type'] == 'Petrol'))] = 3687000"
   ]
  },
  {
   "cell_type": "code",
   "execution_count": 85,
   "metadata": {},
   "outputs": [],
   "source": [
    "df_copy['Min new price'].loc[((df_copy['Model'] == 'GLA CLASS') & (df_copy['fuel_type'] == 'Diesel'))] = 4370000\n",
    "df_copy['Max new price'].loc[((df_copy['Model'] == 'GLA CLASS') & (df_copy['fuel_type'] == 'Diesel'))] = 4670000"
   ]
  },
  {
   "cell_type": "code",
   "execution_count": 86,
   "metadata": {},
   "outputs": [],
   "source": [
    "df_copy['Min new price'].loc[((df_copy['Model'] == 'GLA CLASS') & (df_copy['fuel_type'] == 'Petrol'))] = 4210000\n",
    "df_copy['Max new price'].loc[((df_copy['Model'] == 'GLA CLASS') & (df_copy['fuel_type'] == 'Petrol'))] = 4570000"
   ]
  },
  {
   "cell_type": "code",
   "execution_count": 87,
   "metadata": {},
   "outputs": [],
   "source": [
    "df_copy['Min new price'].loc[((df_copy['Model'] == 'POLO 2015-2019') & (df_copy['fuel_type'] == 'Diesel'))] = 816000\n",
    "df_copy['Max new price'].loc[((df_copy['Model'] == 'POLO 2015-2019') & (df_copy['fuel_type'] == 'Diesel'))] = 918000"
   ]
  },
  {
   "cell_type": "code",
   "execution_count": 88,
   "metadata": {},
   "outputs": [],
   "source": [
    "df_copy['Min new price'].loc[(df_copy['Model'] == 'WAGON R')] = 480000\n",
    "df_copy['Max new price'].loc[(df_copy['Model'] == 'WAGON R')] = 633000"
   ]
  },
  {
   "cell_type": "code",
   "execution_count": 89,
   "metadata": {},
   "outputs": [],
   "source": [
    "df_copy['Min new price'].loc[(df_copy['Model'] == 'TERRANO XV')] = 1420000\n",
    "df_copy['Max new price'].loc[(df_copy['Model'] == 'TERRANO XV')] = 1650000"
   ]
  },
  {
   "cell_type": "code",
   "execution_count": 90,
   "metadata": {},
   "outputs": [],
   "source": [
    "df_copy['Min new price'].loc[(df_copy['Model'] == 'BRIO 1.2')] = 523000\n",
    "df_copy['Max new price'].loc[(df_copy['Model'] == 'BRIO 1.2')] = 681000"
   ]
  },
  {
   "cell_type": "code",
   "execution_count": 91,
   "metadata": {},
   "outputs": [],
   "source": [
    "df_copy['Min new price'].loc[(df_copy['Model'] == 'MICRA ACTIVE')] = 599000\n",
    "df_copy['Max new price'].loc[(df_copy['Model'] == 'MICRA ACTIVE')] = 723000"
   ]
  },
  {
   "cell_type": "code",
   "execution_count": 92,
   "metadata": {},
   "outputs": [],
   "source": [
    "df_copy['Min new price'].loc[(df_copy['Model'] == 'ETIOS GD')] = 757900\n",
    "df_copy['Max new price'].loc[(df_copy['Model'] == 'ETIOS GD')] = 885900"
   ]
  },
  {
   "cell_type": "code",
   "execution_count": 93,
   "metadata": {},
   "outputs": [],
   "source": [
    "df_copy['Min new price'].loc[(df_copy['Model'] == 'BRV I-VTEC')] = 1167000\n",
    "df_copy['Max new price'].loc[(df_copy['Model'] == 'BRV I-VTEC')] = 1292000"
   ]
  },
  {
   "cell_type": "code",
   "execution_count": 94,
   "metadata": {},
   "outputs": [],
   "source": [
    "df_copy['Min new price'].loc[(df_copy['Model'] == 'SWIFT DDIS')] = 580000\n",
    "df_copy['Max new price'].loc[(df_copy['Model'] == 'SWIFT DDIS')] = 620000"
   ]
  },
  {
   "cell_type": "code",
   "execution_count": 95,
   "metadata": {},
   "outputs": [],
   "source": [
    "df_copy['Min new price'].loc[(df_copy['Model'] == 'AMEO 1.5')] = 815000\n",
    "df_copy['Max new price'].loc[(df_copy['Model'] == 'AMEO 1.5')] = 925000"
   ]
  },
  {
   "cell_type": "code",
   "execution_count": 96,
   "metadata": {},
   "outputs": [],
   "source": [
    "df_copy['Min new price'].loc[(df_copy['Model'] == 'MICRA DIESEL')] = 776000\n",
    "df_copy['Max new price'].loc[(df_copy['Model'] == 'MICRA DIESEL')] = 855000"
   ]
  },
  {
   "cell_type": "code",
   "execution_count": 97,
   "metadata": {},
   "outputs": [],
   "source": [
    "df_copy['Min new price'].loc[(df_copy['Model'] == 'EON 1.0')] = 471000\n",
    "df_copy['Max new price'].loc[(df_copy['Model'] == 'EON 1.0')] = 595000"
   ]
  },
  {
   "cell_type": "code",
   "execution_count": 98,
   "metadata": {},
   "outputs": [],
   "source": [
    "df_copy['Min new price'].loc[(df_copy['Model'] == 'SUNNY XL')] = 836000\n",
    "df_copy['Max new price'].loc[(df_copy['Model'] == 'SUNNY XL')] = 912000"
   ]
  },
  {
   "cell_type": "code",
   "execution_count": 99,
   "metadata": {},
   "outputs": [],
   "source": [
    "df_copy['Min new price'].loc[((df_copy['Model'] == 'TIAGO 1.05') & (df_copy['fuel_type'] == 'Diesel'))] = 574000\n",
    "df_copy['Max new price'].loc[((df_copy['Model'] == 'TIAGO 1.05') & (df_copy['fuel_type'] == 'Diesel'))] = 589000"
   ]
  },
  {
   "cell_type": "code",
   "execution_count": 100,
   "metadata": {},
   "outputs": [],
   "source": [
    "df_copy['Min new price'].loc[((df_copy['Model'] == 'TIGOR 1.05') & (df_copy['fuel_type'] == 'Petrol'))] = 563000\n",
    "df_copy['Max new price'].loc[((df_copy['Model'] == 'TIGOR 1.05') & (df_copy['fuel_type'] == 'Petrol'))] = 600800"
   ]
  },
  {
   "cell_type": "code",
   "execution_count": 101,
   "metadata": {},
   "outputs": [],
   "source": [
    "df_copy['Min new price'].loc[(df_copy['Model'] == 'BALENO DELTA')] = 598000\n",
    "df_copy['Max new price'].loc[(df_copy['Model'] == 'BALENO DELTA')] = 930000"
   ]
  },
  {
   "cell_type": "code",
   "execution_count": 102,
   "metadata": {},
   "outputs": [],
   "source": [
    "df_copy['Min new price'].loc[(df_copy['Model'] == 'CRUZE LTZ')] = 1465000\n",
    "df_copy['Max new price'].loc[(df_copy['Model'] == 'CRUZE LTZ')] = 1642000"
   ]
  },
  {
   "cell_type": "code",
   "execution_count": 103,
   "metadata": {},
   "outputs": [],
   "source": [
    "df_copy['Min new price'].loc[(df_copy['Model'] == 'Q3 35')] = 3992000\n",
    "df_copy['Max new price'].loc[(df_copy['Model'] == 'Q3 35')] = 4361000"
   ]
  },
  {
   "cell_type": "code",
   "execution_count": 104,
   "metadata": {},
   "outputs": [],
   "source": [
    "df_copy['Min new price'].loc[(df_copy['Model'] == 'NEW ACCORD')] = 4428000\n",
    "df_copy['Max new price'].loc[(df_copy['Model'] == 'NEW ACCORD')] = 4685000"
   ]
  },
  {
   "cell_type": "code",
   "execution_count": 105,
   "metadata": {},
   "outputs": [],
   "source": [
    "df_copy['Min new price'].loc[(df_copy['Model'] == 'SAIL HATCHBACK')] = 491000\n",
    "df_copy['Max new price'].loc[(df_copy['Model'] == 'SAIL HATCHBACK')] = 761000"
   ]
  },
  {
   "cell_type": "code",
   "execution_count": 106,
   "metadata": {},
   "outputs": [],
   "source": [
    "df_copy['Min new price'].loc[(df_copy['Model'] == 'XF 2.2')] = 5190000\n",
    "df_copy['Max new price'].loc[(df_copy['Model'] == 'XF 2.2')] = 6167000"
   ]
  },
  {
   "cell_type": "code",
   "execution_count": 107,
   "metadata": {},
   "outputs": [],
   "source": [
    "df_copy['Min new price'].loc[(df_copy['Model'] == 'BEAT LS')] = 529000\n",
    "df_copy['Max new price'].loc[(df_copy['Model'] == 'BEAT LS')] = 640000"
   ]
  },
  {
   "cell_type": "code",
   "execution_count": 108,
   "metadata": {},
   "outputs": [],
   "source": [
    "df_copy['Min new price'].loc[(df_copy['Model'] == 'BALENO ALPHA')] = 806000\n",
    "df_copy['Max new price'].loc[(df_copy['Model'] == 'BALENO ALPHA')] = 927000"
   ]
  },
  {
   "cell_type": "code",
   "execution_count": 109,
   "metadata": {},
   "outputs": [],
   "source": [
    "df_copy['Min new price'].loc[(df_copy['Model'] == 'ZEST REVOTRON')] = 622012\n",
    "df_copy['Max new price'].loc[(df_copy['Model'] == 'ZEST REVOTRON')] = 733627"
   ]
  },
  {
   "cell_type": "code",
   "execution_count": 110,
   "metadata": {},
   "outputs": [],
   "source": [
    "df_copy['Min new price'].loc[(df_copy['Model'] == 'MANZA AURA')] = 701000\n",
    "df_copy['Max new price'].loc[(df_copy['Model'] == 'MANZA AURA')] = 827000"
   ]
  },
  {
   "cell_type": "code",
   "execution_count": 111,
   "metadata": {},
   "outputs": [],
   "source": [
    "df_copy['Min new price'].loc[(df_copy['Model'] == 'GLE CLASS')] = 6715000\n",
    "df_copy['Max new price'].loc[(df_copy['Model'] == 'GLE CLASS')] = 9307000"
   ]
  },
  {
   "cell_type": "code",
   "execution_count": 112,
   "metadata": {},
   "outputs": [],
   "source": [
    "df_copy['Min new price'].loc[(df_copy['Model'] == 'MOBILIO S')] = 838000\n",
    "df_copy['Max new price'].loc[(df_copy['Model'] == 'MOBILIO S')] = 965000"
   ]
  },
  {
   "cell_type": "code",
   "execution_count": 113,
   "metadata": {},
   "outputs": [],
   "source": [
    "df_copy['Min new price'].loc[(df_copy['Model'] == 'JETTA 2.0L')] = 1786000\n",
    "df_copy['Max new price'].loc[(df_copy['Model'] == 'JETTA 2.0L')] = 1983000"
   ]
  },
  {
   "cell_type": "code",
   "execution_count": 114,
   "metadata": {},
   "outputs": [],
   "source": [
    "df_copy['Min new price'].loc[(df_copy['Model'] == '800 AC')] = 299800\n",
    "df_copy['Max new price'].loc[(df_copy['Model'] == '800 AC')] = 448200"
   ]
  },
  {
   "cell_type": "code",
   "execution_count": 115,
   "metadata": {},
   "outputs": [],
   "source": [
    "df_copy['Min new price'].loc[(df_copy['Model'] == 'OMNI E')] = 280841\n",
    "df_copy['Max new price'].loc[(df_copy['Model'] == 'OMNI E')] = 336664"
   ]
  },
  {
   "cell_type": "code",
   "execution_count": 116,
   "metadata": {},
   "outputs": [],
   "source": [
    "df_copy['Min new price'].loc[(df_copy['Model'] == 'SX4 ZXI')] = 816000\n",
    "df_copy['Max new price'].loc[(df_copy['Model'] == 'SX4 ZXI')] = 848000"
   ]
  },
  {
   "cell_type": "code",
   "execution_count": 117,
   "metadata": {},
   "outputs": [],
   "source": [
    "df_copy['Min new price'].loc[(df_copy['Model'] == 'INDIGO LS')] = 609000\n",
    "df_copy['Max new price'].loc[(df_copy['Model'] == 'INDIGO LS')] = 733636"
   ]
  },
  {
   "cell_type": "code",
   "execution_count": 118,
   "metadata": {},
   "outputs": [],
   "source": [
    "df_copy['Min new price'].loc[(df_copy['Model'] == 'XYLO D4')] = 918000\n",
    "df_copy['Max new price'].loc[(df_copy['Model'] == 'XYLO D4')] = 999000"
   ]
  },
  {
   "cell_type": "code",
   "execution_count": 119,
   "metadata": {},
   "outputs": [],
   "source": [
    "df_copy['Min new price'].loc[(df_copy['Model'] == 'FIESTA 1.4')] = 680000\n",
    "df_copy['Max new price'].loc[(df_copy['Model'] == 'FIESTA 1.4')] = 787000"
   ]
  },
  {
   "cell_type": "code",
   "execution_count": 120,
   "metadata": {},
   "outputs": [],
   "source": [
    "df_copy['Min new price'].loc[(df_copy['Model'] == 'GL-CLASS 350')] = 7768000\n",
    "df_copy['Max new price'].loc[(df_copy['Model'] == 'GL-CLASS 350')] = 10078000"
   ]
  },
  {
   "cell_type": "code",
   "execution_count": 121,
   "metadata": {},
   "outputs": [],
   "source": [
    "df_copy['Min new price'].loc[(df_copy['Model'] == 'A4 35')] = 4340000\n",
    "df_copy['Max new price'].loc[(df_copy['Model'] == 'A4 35')] = 5010000"
   ]
  },
  {
   "cell_type": "code",
   "execution_count": 122,
   "metadata": {},
   "outputs": [],
   "source": [
    "df_copy['Min new price'].loc[(df_copy['Model'] == 'FIESTA CLASSIC')] = 550000\n",
    "df_copy['Max new price'].loc[(df_copy['Model'] == 'FIESTA CLASSIC')] = 840000"
   ]
  },
  {
   "cell_type": "code",
   "execution_count": 123,
   "metadata": {},
   "outputs": [],
   "source": [
    "df_copy['Min new price'].loc[(df_copy['Model'] == 'EON SPORTZ')] = 448000\n",
    "df_copy['Max new price'].loc[(df_copy['Model'] == 'EON SPORTZ')] = 471000"
   ]
  },
  {
   "cell_type": "code",
   "execution_count": 124,
   "metadata": {},
   "outputs": [],
   "source": [
    "df_copy['Min new price'].loc[(df_copy['Model'] == 'SUPERB ELEGANCE')] = 2307000\n",
    "df_copy['Max new price'].loc[(df_copy['Model'] == 'SUPERB ELEGANCE')] = 3204000"
   ]
  },
  {
   "cell_type": "code",
   "execution_count": 125,
   "metadata": {},
   "outputs": [
    {
     "data": {
      "text/plain": [
       "Maker                 0.00\n",
       "Model                 0.00\n",
       "Min new price        10.59\n",
       "Max new price        12.25\n",
       "Age                   0.00\n",
       "km_driven             0.00\n",
       "seller_type           0.00\n",
       "owner_type            0.00\n",
       "fuel_type             0.00\n",
       "transmission_type     0.00\n",
       "mileage               0.00\n",
       "engine                0.00\n",
       "max_power             0.00\n",
       "seats                 0.00\n",
       "selling_price         0.00\n",
       "dtype: float64"
      ]
     },
     "execution_count": 125,
     "metadata": {},
     "output_type": "execute_result"
    }
   ],
   "source": [
    "round(df_copy.isnull().sum()/len(df_copy)*100 ,2)"
   ]
  },
  {
   "cell_type": "code",
   "execution_count": 126,
   "metadata": {},
   "outputs": [],
   "source": [
    "df_copy['Min new price'].loc[(df_copy['Model'] == 'A6 35')] = 5703000\n",
    "df_copy['Max new price'].loc[(df_copy['Model'] == 'A6 35')] = 6181000"
   ]
  },
  {
   "cell_type": "code",
   "execution_count": 127,
   "metadata": {},
   "outputs": [],
   "source": [
    "df_copy['Min new price'].loc[(df_copy['Model'] == 'MULSANNE 6.8')] = 29903000\n",
    "df_copy['Max new price'].loc[(df_copy['Model'] == 'MULSANNE 6.8')] = 55681000"
   ]
  },
  {
   "cell_type": "code",
   "execution_count": 128,
   "metadata": {},
   "outputs": [],
   "source": [
    "df_copy['Min new price'].loc[(df_copy['Model'] == 'BRIO 1.2')] = 473000\n",
    "df_copy['Max new price'].loc[(df_copy['Model'] == 'BRIO 1.2')] = 681000"
   ]
  },
  {
   "cell_type": "code",
   "execution_count": 129,
   "metadata": {},
   "outputs": [],
   "source": [
    "df_copy['Min new price'].loc[(df_copy['Model'] == 'ALTO LX')] = 372000\n",
    "df_copy['Max new price'].loc[(df_copy['Model'] == 'ALTO LX')] = 535000"
   ]
  },
  {
   "cell_type": "code",
   "execution_count": 130,
   "metadata": {},
   "outputs": [],
   "source": [
    "df_copy['Min new price'].loc[(df_copy['Model'] == 'SCALA RXL')] = 779000\n",
    "df_copy['Max new price'].loc[(df_copy['Model'] == 'SCALA RXL')] = 1030000"
   ]
  },
  {
   "cell_type": "code",
   "execution_count": 131,
   "metadata": {},
   "outputs": [],
   "source": [
    "df_copy['Min new price'].loc[(df_copy['Model'] == 'EON ERA')] = 332000\n",
    "df_copy['Max new price'].loc[(df_copy['Model'] == 'EON ERA')] = 435000"
   ]
  },
  {
   "cell_type": "code",
   "execution_count": 132,
   "metadata": {},
   "outputs": [],
   "source": [
    "df_copy['Min new price'].loc[(df_copy['Model'] == 'AMEO 1.2')] = 567000\n",
    "df_copy['Max new price'].loc[(df_copy['Model'] == 'AMEO 1.2')] = 1040000"
   ]
  },
  {
   "cell_type": "code",
   "execution_count": 133,
   "metadata": {},
   "outputs": [],
   "source": [
    "df_copy['Min new price'].loc[(df_copy['Model'] == 'SPARK 1.0')] = 426000\n",
    "df_copy['Max new price'].loc[(df_copy['Model'] == 'SPARK 1.0')] = 501000"
   ]
  },
  {
   "cell_type": "code",
   "execution_count": 134,
   "metadata": {},
   "outputs": [],
   "source": [
    "df_copy['Min new price'].loc[(df_copy['Model'] == 'GLE CLASS')] = 7720000\n",
    "df_copy['Max new price'].loc[(df_copy['Model'] == 'GLE CLASS')] = 9540000"
   ]
  },
  {
   "cell_type": "code",
   "execution_count": 135,
   "metadata": {},
   "outputs": [],
   "source": [
    "df_copy['Min new price'].loc[(df_copy['Model'] == 'RITZ VDI')] = 597000\n",
    "df_copy['Max new price'].loc[(df_copy['Model'] == 'RITZ VDI')] = 674000"
   ]
  },
  {
   "cell_type": "code",
   "execution_count": 136,
   "metadata": {},
   "outputs": [],
   "source": [
    "df_copy['Min new price'].loc[(df_copy['Model'] == 'KIZASHI CVT')] = 1698000\n",
    "df_copy['Max new price'].loc[(df_copy['Model'] == 'KIZASHI CVT')] =1923000"
   ]
  },
  {
   "cell_type": "code",
   "execution_count": 137,
   "metadata": {},
   "outputs": [],
   "source": [
    "df_copy['Min new price'].loc[(df_copy['Model'] == 'SUPRO LX')] = 474000\n",
    "df_copy['Max new price'].loc[(df_copy['Model'] == 'SUPRO LX')] = 691000"
   ]
  },
  {
   "cell_type": "code",
   "execution_count": 138,
   "metadata": {},
   "outputs": [],
   "source": [
    "df_copy['Min new price'].loc[(df_copy['Model'] == 'CAYENNE DIESEL')] = 19200000\n",
    "df_copy['Max new price'].loc[(df_copy['Model'] == 'CAYENNE DIESEL')] = 20900000"
   ]
  },
  {
   "cell_type": "code",
   "execution_count": 139,
   "metadata": {},
   "outputs": [],
   "source": [
    "df_copy['Min new price'].loc[(df_copy['Model'] == 'BALENO ALPHA')] = 597000\n",
    "df_copy['Max new price'].loc[(df_copy['Model'] == 'BALENO ALPHA')] = 927000"
   ]
  },
  {
   "cell_type": "code",
   "execution_count": 140,
   "metadata": {},
   "outputs": [],
   "source": [
    "df_copy['Min new price'].loc[(df_copy['Model'] == 'FABIA 1.2')] = 447000\n",
    "df_copy['Max new price'].loc[(df_copy['Model'] == 'FABIA 1.2')] = 753000"
   ]
  },
  {
   "cell_type": "code",
   "execution_count": 141,
   "metadata": {},
   "outputs": [],
   "source": [
    "df_copy['Min new price'].loc[(df_copy['Model'] == 'ERTIGA SHVS')] = 897000\n",
    "df_copy['Max new price'].loc[(df_copy['Model'] == 'ERTIGA SHVS')] = 1175000"
   ]
  },
  {
   "cell_type": "code",
   "execution_count": 142,
   "metadata": {},
   "outputs": [],
   "source": [
    "df_copy['Min new price'].loc[(df_copy['Model'] == 'BOLT REVOTRON')] = 525000\n",
    "df_copy['Max new price'].loc[(df_copy['Model'] == 'BOLT REVOTRON')] = 785000"
   ]
  },
  {
   "cell_type": "code",
   "execution_count": 143,
   "metadata": {},
   "outputs": [],
   "source": [
    "df_copy['Min new price'].loc[(df_copy['Model'] == 'CAPTIVA LT')] = 2558312\n",
    "df_copy['Max new price'].loc[(df_copy['Model'] == 'CAPTIVA LT')] = 3062257"
   ]
  },
  {
   "cell_type": "code",
   "execution_count": 144,
   "metadata": {},
   "outputs": [],
   "source": [
    "df_copy['Min new price'].loc[(df_copy['Model'] == 'SX4 ZXI')] = 869000\n",
    "df_copy['Max new price'].loc[(df_copy['Model'] == 'SX4 ZXI')] = 1140000"
   ]
  },
  {
   "cell_type": "code",
   "execution_count": 145,
   "metadata": {},
   "outputs": [],
   "source": [
    "df_copy['Min new price'].loc[(df_copy['Model'] == '1 SERIES')] = 2280000\n",
    "df_copy['Max new price'].loc[(df_copy['Model'] == '1 SERIES')] = 3268000"
   ]
  },
  {
   "cell_type": "code",
   "execution_count": 146,
   "metadata": {},
   "outputs": [],
   "source": [
    "df_copy['Min new price'].loc[(df_copy['Model'] == 'BRIO VX')] = 473000\n",
    "df_copy['Max new price'].loc[(df_copy['Model'] == 'BRIO VX')] = 681000"
   ]
  },
  {
   "cell_type": "code",
   "execution_count": 147,
   "metadata": {},
   "outputs": [],
   "source": [
    "df_copy['Min new price'].loc[(df_copy['Model'] == 'PLATINUM ETIOS')] = 704000\n",
    "df_copy['Max new price'].loc[(df_copy['Model'] == 'PLATINUM ETIOS')] = 924000"
   ]
  },
  {
   "cell_type": "code",
   "execution_count": 148,
   "metadata": {},
   "outputs": [],
   "source": [
    "df_copy['Min new price'].loc[(df_copy['Model'] == 'INDICA GLS')] = 439000\n",
    "df_copy['Max new price'].loc[(df_copy['Model'] == 'INDICA GLS')] = 615000"
   ]
  },
  {
   "cell_type": "code",
   "execution_count": 149,
   "metadata": {},
   "outputs": [],
   "source": [
    "df_copy['Min new price'].loc[(df_copy['Model'] == 'A STAR')] = 450000\n",
    "df_copy['Max new price'].loc[(df_copy['Model'] == 'A STAR')] = 539000"
   ]
  },
  {
   "cell_type": "code",
   "execution_count": 150,
   "metadata": {},
   "outputs": [],
   "source": [
    "df_copy['Min new price'].loc[(df_copy['Model'] == 'ZEST PREMIO')] = 582000\n",
    "df_copy['Max new price'].loc[(df_copy['Model'] == 'ZEST PREMIO')] = 739000"
   ]
  },
  {
   "cell_type": "code",
   "execution_count": 151,
   "metadata": {},
   "outputs": [],
   "source": [
    "df_copy['Min new price'].loc[(df_copy['Model'] == 'SUPERB ELEGANCE')] = 3199000\n",
    "df_copy['Max new price'].loc[(df_copy['Model'] == 'SUPERB ELEGANCE')] = 3543000"
   ]
  },
  {
   "cell_type": "code",
   "execution_count": 152,
   "metadata": {},
   "outputs": [],
   "source": [
    "df_copy['Min new price'].loc[(df_copy['Model'] == 'S60 2015-2020')] = 3299000\n",
    "df_copy['Max new price'].loc[(df_copy['Model'] == 'S60 2015-2020')] = 5640000"
   ]
  },
  {
   "cell_type": "code",
   "execution_count": 153,
   "metadata": {},
   "outputs": [],
   "source": [
    "df_copy['Min new price'].loc[(df_copy['Model'] == 'SUNNY XL')] = 707000\n",
    "df_copy['Max new price'].loc[(df_copy['Model'] == 'SUNNY XL')] = 994000"
   ]
  },
  {
   "cell_type": "code",
   "execution_count": 154,
   "metadata": {},
   "outputs": [],
   "source": [
    "df_copy['Min new price'].loc[(df_copy['Model'] == 'RAPID 1.5')] = 780000\n",
    "df_copy['Max new price'].loc[(df_copy['Model'] == 'RAPID 1.5')] = 1329000"
   ]
  },
  {
   "cell_type": "code",
   "execution_count": 155,
   "metadata": {},
   "outputs": [],
   "source": [
    "df_copy['Min new price'].loc[(df_copy['Model'] == 'ZEST REVOTRON')] = 582000\n",
    "df_copy['Max new price'].loc[(df_copy['Model'] == 'ZEST REVOTRON')] = 732000"
   ]
  },
  {
   "cell_type": "code",
   "execution_count": 156,
   "metadata": {},
   "outputs": [],
   "source": [
    "df_copy['Min new price'].loc[(df_copy['Model'] == 'XENON XT')] = 937000\n",
    "df_copy['Max new price'].loc[(df_copy['Model'] == 'XENON XT')] = 1034000"
   ]
  },
  {
   "cell_type": "code",
   "execution_count": 157,
   "metadata": {},
   "outputs": [],
   "source": [
    "df_copy['Min new price'].loc[(df_copy['Model'] == 'LINEA DYNAMIC')] = 837000\n",
    "df_copy['Max new price'].loc[(df_copy['Model'] == 'LINEA DYNAMIC')] = 1234000"
   ]
  },
  {
   "cell_type": "code",
   "execution_count": 158,
   "metadata": {},
   "outputs": [],
   "source": [
    "df_copy['Min new price'].loc[(df_copy['Model'] == 'RITZ LDI')] = 597000\n",
    "df_copy['Max new price'].loc[(df_copy['Model'] == 'RITZ LDI')] = 674000"
   ]
  },
  {
   "cell_type": "code",
   "execution_count": 159,
   "metadata": {},
   "outputs": [],
   "source": [
    "df_copy['Min new price'].loc[(df_copy['Model'] == 'PULSE PETROL')] = 605000\n",
    "df_copy['Max new price'].loc[(df_copy['Model'] == 'PULSE PETROL')] = 824000"
   ]
  },
  {
   "cell_type": "code",
   "execution_count": 160,
   "metadata": {},
   "outputs": [],
   "source": [
    "df_copy['Min new price'].loc[(df_copy['Model'] == 'NANO LX')] = 190000\n",
    "df_copy['Max new price'].loc[(df_copy['Model'] == 'NANO LX')] = 289000"
   ]
  },
  {
   "cell_type": "code",
   "execution_count": 161,
   "metadata": {},
   "outputs": [],
   "source": [
    "df_copy['Min new price'].loc[(df_copy['Model'] == 'INDICA DLE')] = 439000\n",
    "df_copy['Max new price'].loc[(df_copy['Model'] == 'INDICA DLE')] = 615000"
   ]
  },
  {
   "cell_type": "code",
   "execution_count": 162,
   "metadata": {},
   "outputs": [],
   "source": [
    "df_copy['Min new price'].loc[(df_copy['Model'] == 'GLA CLASS')] = 4310000\n",
    "df_copy['Max new price'].loc[(df_copy['Model'] == 'GLA CLASS')] = 4615000"
   ]
  },
  {
   "cell_type": "code",
   "execution_count": 163,
   "metadata": {},
   "outputs": [],
   "source": [
    "df_copy['Min new price'].loc[(df_copy['Model'] == 'A5 SPORTBACK')] = 5510000\n",
    "df_copy['Max new price'].loc[(df_copy['Model'] == 'A5 SPORTBACK')] = 7215000"
   ]
  },
  {
   "cell_type": "code",
   "execution_count": 164,
   "metadata": {},
   "outputs": [],
   "source": [
    "df_copy['Min new price'].loc[(df_copy['Model'] == 'INDICA ELS')] = 439000\n",
    "df_copy['Max new price'].loc[(df_copy['Model'] == 'INDICA ELS')] = 615000"
   ]
  },
  {
   "cell_type": "code",
   "execution_count": 165,
   "metadata": {},
   "outputs": [],
   "source": [
    "df_copy['Min new price'].loc[(df_copy['Model'] == 'INDIGO EVX')] = 589000\n",
    "df_copy['Max new price'].loc[(df_copy['Model'] == 'INDIGO EVX')] = 645000"
   ]
  },
  {
   "cell_type": "code",
   "execution_count": 166,
   "metadata": {},
   "outputs": [],
   "source": [
    "df_copy['Min new price'].loc[(df_copy['Model'] == 'ZEN LXI')] = 392000\n",
    "df_copy['Max new price'].loc[(df_copy['Model'] == 'ZEN LXI')] = 414000"
   ]
  },
  {
   "cell_type": "code",
   "execution_count": 167,
   "metadata": {},
   "outputs": [],
   "source": [
    "df_copy['Min new price'].loc[(df_copy['Model'] == 'A4 35')] = 4312000\n",
    "df_copy['Max new price'].loc[(df_copy['Model'] == 'A4 35')] = 4764000"
   ]
  },
  {
   "cell_type": "code",
   "execution_count": 168,
   "metadata": {},
   "outputs": [],
   "source": [
    "df_copy['Min new price'].loc[(df_copy['Model'] == 'MICRA ACTIVE')] = 525000\n",
    "df_copy['Max new price'].loc[(df_copy['Model'] == 'MICRA ACTIVE')] = 600000"
   ]
  },
  {
   "cell_type": "code",
   "execution_count": 169,
   "metadata": {},
   "outputs": [],
   "source": [
    "df_copy['Min new price'].loc[(df_copy['Model'] == 'EON LPG')] = 312000\n",
    "df_copy['Max new price'].loc[(df_copy['Model'] == 'EON LPG')] = 425000"
   ]
  },
  {
   "cell_type": "code",
   "execution_count": 170,
   "metadata": {},
   "outputs": [],
   "source": [
    "df_copy['Min new price'].loc[(df_copy['Model'] == 'CIAZ DELTA')] = 812000\n",
    "df_copy['Max new price'].loc[(df_copy['Model'] == 'CIAZ DELTA')] = 1149000"
   ]
  },
  {
   "cell_type": "code",
   "execution_count": 171,
   "metadata": {},
   "outputs": [],
   "source": [
    "df_copy['Min new price'].loc[(df_copy['Model'] == 'AVEO U-VA')] = 559000\n",
    "df_copy['Max new price'].loc[(df_copy['Model'] == 'AVEO U-VA')] = 727000"
   ]
  },
  {
   "cell_type": "code",
   "execution_count": 172,
   "metadata": {},
   "outputs": [],
   "source": [
    "df_copy['Min new price'].loc[(df_copy['Model'] == 'CROSSPOLO 1.2')] = 769000\n",
    "df_copy['Max new price'].loc[(df_copy['Model'] == 'CROSSPOLO 1.2')] = 887000"
   ]
  },
  {
   "cell_type": "code",
   "execution_count": 173,
   "metadata": {},
   "outputs": [],
   "source": [
    "df_copy['Min new price'].loc[(df_copy['Model'] == 'IKON 1.3')] = 469000\n",
    "df_copy['Max new price'].loc[(df_copy['Model'] == 'IKON 1.3')] = 793000"
   ]
  },
  {
   "cell_type": "code",
   "execution_count": 174,
   "metadata": {},
   "outputs": [],
   "source": [
    "df_copy['Min new price'].loc[(df_copy['Model'] == 'ACCENT GLX')] = 524000\n",
    "df_copy['Max new price'].loc[(df_copy['Model'] == 'ACCENT GLX')] = 604000"
   ]
  },
  {
   "cell_type": "code",
   "execution_count": 175,
   "metadata": {},
   "outputs": [
    {
     "data": {
      "text/plain": [
       "Maker                 0.00\n",
       "Model                 0.00\n",
       "Min new price         9.44\n",
       "Max new price        11.09\n",
       "Age                   0.00\n",
       "km_driven             0.00\n",
       "seller_type           0.00\n",
       "owner_type            0.00\n",
       "fuel_type             0.00\n",
       "transmission_type     0.00\n",
       "mileage               0.00\n",
       "engine                0.00\n",
       "max_power             0.00\n",
       "seats                 0.00\n",
       "selling_price         0.00\n",
       "dtype: float64"
      ]
     },
     "execution_count": 175,
     "metadata": {},
     "output_type": "execute_result"
    }
   ],
   "source": [
    "round(df_copy.isnull().sum()/len(df_copy)*100 ,2)"
   ]
  },
  {
   "cell_type": "code",
   "execution_count": 176,
   "metadata": {},
   "outputs": [
    {
     "data": {
      "text/html": [
       "<div>\n",
       "<style scoped>\n",
       "    .dataframe tbody tr th:only-of-type {\n",
       "        vertical-align: middle;\n",
       "    }\n",
       "\n",
       "    .dataframe tbody tr th {\n",
       "        vertical-align: top;\n",
       "    }\n",
       "\n",
       "    .dataframe thead th {\n",
       "        text-align: right;\n",
       "    }\n",
       "</style>\n",
       "<table border=\"1\" class=\"dataframe\">\n",
       "  <thead>\n",
       "    <tr style=\"text-align: right;\">\n",
       "      <th></th>\n",
       "      <th>Maker</th>\n",
       "      <th>Model</th>\n",
       "      <th>Min new price</th>\n",
       "      <th>Max new price</th>\n",
       "      <th>Age</th>\n",
       "      <th>km_driven</th>\n",
       "      <th>seller_type</th>\n",
       "      <th>owner_type</th>\n",
       "      <th>fuel_type</th>\n",
       "      <th>transmission_type</th>\n",
       "      <th>mileage</th>\n",
       "      <th>engine</th>\n",
       "      <th>max_power</th>\n",
       "      <th>seats</th>\n",
       "      <th>selling_price</th>\n",
       "    </tr>\n",
       "  </thead>\n",
       "  <tbody>\n",
       "    <tr>\n",
       "      <th>0</th>\n",
       "      <td>MARUTI</td>\n",
       "      <td>ALTO STD</td>\n",
       "      <td>299800.0</td>\n",
       "      <td>299800.0</td>\n",
       "      <td>9.0</td>\n",
       "      <td>120000.0</td>\n",
       "      <td>Individual</td>\n",
       "      <td>First Owner</td>\n",
       "      <td>Petrol</td>\n",
       "      <td>Manual</td>\n",
       "      <td>19.70</td>\n",
       "      <td>796.0</td>\n",
       "      <td>46.30</td>\n",
       "      <td>5.0</td>\n",
       "      <td>120000.0</td>\n",
       "    </tr>\n",
       "    <tr>\n",
       "      <th>1</th>\n",
       "      <td>HYUNDAI</td>\n",
       "      <td>GRAND I10</td>\n",
       "      <td>711000.0</td>\n",
       "      <td>748000.0</td>\n",
       "      <td>5.0</td>\n",
       "      <td>20000.0</td>\n",
       "      <td>Individual</td>\n",
       "      <td>First Owner</td>\n",
       "      <td>Petrol</td>\n",
       "      <td>Manual</td>\n",
       "      <td>18.90</td>\n",
       "      <td>1197.0</td>\n",
       "      <td>82.00</td>\n",
       "      <td>5.0</td>\n",
       "      <td>550000.0</td>\n",
       "    </tr>\n",
       "    <tr>\n",
       "      <th>2</th>\n",
       "      <td>HYUNDAI</td>\n",
       "      <td>I20 ASTA</td>\n",
       "      <td>791000.0</td>\n",
       "      <td>1324000.0</td>\n",
       "      <td>11.0</td>\n",
       "      <td>60000.0</td>\n",
       "      <td>Individual</td>\n",
       "      <td>First Owner</td>\n",
       "      <td>Petrol</td>\n",
       "      <td>Manual</td>\n",
       "      <td>17.00</td>\n",
       "      <td>1197.0</td>\n",
       "      <td>80.00</td>\n",
       "      <td>5.0</td>\n",
       "      <td>215000.0</td>\n",
       "    </tr>\n",
       "    <tr>\n",
       "      <th>3</th>\n",
       "      <td>MARUTI</td>\n",
       "      <td>ALTO K10</td>\n",
       "      <td>356000.0</td>\n",
       "      <td>451000.0</td>\n",
       "      <td>9.0</td>\n",
       "      <td>37000.0</td>\n",
       "      <td>Individual</td>\n",
       "      <td>First Owner</td>\n",
       "      <td>Petrol</td>\n",
       "      <td>Manual</td>\n",
       "      <td>20.92</td>\n",
       "      <td>998.0</td>\n",
       "      <td>67.10</td>\n",
       "      <td>5.0</td>\n",
       "      <td>226000.0</td>\n",
       "    </tr>\n",
       "    <tr>\n",
       "      <th>4</th>\n",
       "      <td>FORD</td>\n",
       "      <td>ECOSPORT 2015-2021</td>\n",
       "      <td>1014000.0</td>\n",
       "      <td>1379000.0</td>\n",
       "      <td>6.0</td>\n",
       "      <td>30000.0</td>\n",
       "      <td>Dealer</td>\n",
       "      <td>First Owner</td>\n",
       "      <td>Diesel</td>\n",
       "      <td>Manual</td>\n",
       "      <td>22.77</td>\n",
       "      <td>1498.0</td>\n",
       "      <td>98.59</td>\n",
       "      <td>5.0</td>\n",
       "      <td>570000.0</td>\n",
       "    </tr>\n",
       "  </tbody>\n",
       "</table>\n",
       "</div>"
      ],
      "text/plain": [
       "     Maker               Model  Min new price  Max new price   Age  km_driven  \\\n",
       "0   MARUTI            ALTO STD       299800.0       299800.0   9.0   120000.0   \n",
       "1  HYUNDAI           GRAND I10       711000.0       748000.0   5.0    20000.0   \n",
       "2  HYUNDAI            I20 ASTA       791000.0      1324000.0  11.0    60000.0   \n",
       "3   MARUTI            ALTO K10       356000.0       451000.0   9.0    37000.0   \n",
       "4     FORD  ECOSPORT 2015-2021      1014000.0      1379000.0   6.0    30000.0   \n",
       "\n",
       "  seller_type   owner_type fuel_type transmission_type  mileage  engine  \\\n",
       "0  Individual  First Owner    Petrol            Manual    19.70   796.0   \n",
       "1  Individual  First Owner    Petrol            Manual    18.90  1197.0   \n",
       "2  Individual  First Owner    Petrol            Manual    17.00  1197.0   \n",
       "3  Individual  First Owner    Petrol            Manual    20.92   998.0   \n",
       "4      Dealer  First Owner    Diesel            Manual    22.77  1498.0   \n",
       "\n",
       "   max_power  seats  selling_price  \n",
       "0      46.30    5.0       120000.0  \n",
       "1      82.00    5.0       550000.0  \n",
       "2      80.00    5.0       215000.0  \n",
       "3      67.10    5.0       226000.0  \n",
       "4      98.59    5.0       570000.0  "
      ]
     },
     "execution_count": 176,
     "metadata": {},
     "output_type": "execute_result"
    }
   ],
   "source": [
    "df_copy.head()"
   ]
  },
  {
   "cell_type": "code",
   "execution_count": 177,
   "metadata": {},
   "outputs": [],
   "source": [
    "df_copy['mileage'] = np.where(df_copy['mileage'] == 0 ,df_copy.groupby(['Model'])['mileage'].transform('median'),df_copy['mileage'])"
   ]
  },
  {
   "cell_type": "code",
   "execution_count": 178,
   "metadata": {},
   "outputs": [],
   "source": [
    "df_copy['mileage'] = np.where(df_copy['mileage'] == 0 ,df_copy.groupby(['Maker'])['mileage'].transform('median'),df_copy['mileage'])"
   ]
  },
  {
   "cell_type": "code",
   "execution_count": 179,
   "metadata": {},
   "outputs": [],
   "source": [
    "df_copy.dropna(subset = ['Min new price','Max new price'],inplace=True)"
   ]
  },
  {
   "cell_type": "code",
   "execution_count": 180,
   "metadata": {},
   "outputs": [
    {
     "data": {
      "text/plain": [
       "(0, 15)"
      ]
     },
     "execution_count": 180,
     "metadata": {},
     "output_type": "execute_result"
    }
   ],
   "source": [
    "df_copy[df_copy['Min new price'] > df_copy['Max new price']].shape"
   ]
  },
  {
   "cell_type": "code",
   "execution_count": 181,
   "metadata": {},
   "outputs": [],
   "source": [
    "df_copy['Max new price'] = np.where(df_copy['Min new price'] > df_copy['Max new price'], df_copy['Min new price'],df_copy['Max new price'])"
   ]
  },
  {
   "cell_type": "code",
   "execution_count": 182,
   "metadata": {},
   "outputs": [],
   "source": [
    "df_copy['Min new price'] = np.where((df_copy['Max new price'] > 10000000) & (df_copy['Min new price'] < 1000000), df_copy['Max new price'],df_copy['Min new price'])"
   ]
  },
  {
   "cell_type": "code",
   "execution_count": 183,
   "metadata": {},
   "outputs": [
    {
     "data": {
      "text/plain": [
       "(17451, 15)"
      ]
     },
     "execution_count": 183,
     "metadata": {},
     "output_type": "execute_result"
    }
   ],
   "source": [
    "df_copy.shape "
   ]
  },
  {
   "cell_type": "code",
   "execution_count": 184,
   "metadata": {},
   "outputs": [],
   "source": [
    "df_copy.dropna(subset = ['Min new price','Max new price'],inplace=True)"
   ]
  },
  {
   "cell_type": "code",
   "execution_count": 185,
   "metadata": {},
   "outputs": [
    {
     "data": {
      "text/plain": [
       "(17451, 15)"
      ]
     },
     "execution_count": 185,
     "metadata": {},
     "output_type": "execute_result"
    }
   ],
   "source": [
    "df_copy.shape"
   ]
  },
  {
   "cell_type": "code",
   "execution_count": 186,
   "metadata": {},
   "outputs": [
    {
     "data": {
      "text/plain": [
       "Maker                0.0\n",
       "Model                0.0\n",
       "Min new price        0.0\n",
       "Max new price        0.0\n",
       "Age                  0.0\n",
       "km_driven            0.0\n",
       "seller_type          0.0\n",
       "owner_type           0.0\n",
       "fuel_type            0.0\n",
       "transmission_type    0.0\n",
       "mileage              0.0\n",
       "engine               0.0\n",
       "max_power            0.0\n",
       "seats                0.0\n",
       "selling_price        0.0\n",
       "dtype: float64"
      ]
     },
     "execution_count": 186,
     "metadata": {},
     "output_type": "execute_result"
    }
   ],
   "source": [
    "round(df_copy.isnull().sum()/len(df_copy)*100 ,2)"
   ]
  },
  {
   "cell_type": "code",
   "execution_count": 187,
   "metadata": {},
   "outputs": [
    {
     "data": {
      "text/html": [
       "<div>\n",
       "<style scoped>\n",
       "    .dataframe tbody tr th:only-of-type {\n",
       "        vertical-align: middle;\n",
       "    }\n",
       "\n",
       "    .dataframe tbody tr th {\n",
       "        vertical-align: top;\n",
       "    }\n",
       "\n",
       "    .dataframe thead th {\n",
       "        text-align: right;\n",
       "    }\n",
       "</style>\n",
       "<table border=\"1\" class=\"dataframe\">\n",
       "  <thead>\n",
       "    <tr style=\"text-align: right;\">\n",
       "      <th></th>\n",
       "      <th>Min new price</th>\n",
       "      <th>Max new price</th>\n",
       "      <th>Age</th>\n",
       "      <th>km_driven</th>\n",
       "      <th>mileage</th>\n",
       "      <th>engine</th>\n",
       "      <th>max_power</th>\n",
       "      <th>seats</th>\n",
       "      <th>selling_price</th>\n",
       "    </tr>\n",
       "  </thead>\n",
       "  <tbody>\n",
       "    <tr>\n",
       "      <th>count</th>\n",
       "      <td>17451.000000</td>\n",
       "      <td>17451.000000</td>\n",
       "      <td>17451.000000</td>\n",
       "      <td>17451.000000</td>\n",
       "      <td>17451.000000</td>\n",
       "      <td>17451.000000</td>\n",
       "      <td>17451.000000</td>\n",
       "      <td>17451.000000</td>\n",
       "      <td>17451.000000</td>\n",
       "    </tr>\n",
       "    <tr>\n",
       "      <th>mean</th>\n",
       "      <td>1360446.042576</td>\n",
       "      <td>1719557.629591</td>\n",
       "      <td>6.251046</td>\n",
       "      <td>56632.728898</td>\n",
       "      <td>19.653189</td>\n",
       "      <td>1449.986820</td>\n",
       "      <td>97.368242</td>\n",
       "      <td>5.298779</td>\n",
       "      <td>711406.290585</td>\n",
       "    </tr>\n",
       "    <tr>\n",
       "      <th>std</th>\n",
       "      <td>2345930.933231</td>\n",
       "      <td>2620169.028603</td>\n",
       "      <td>3.061258</td>\n",
       "      <td>50483.104073</td>\n",
       "      <td>4.000263</td>\n",
       "      <td>496.209358</td>\n",
       "      <td>39.961621</td>\n",
       "      <td>0.780572</td>\n",
       "      <td>826357.874816</td>\n",
       "    </tr>\n",
       "    <tr>\n",
       "      <th>min</th>\n",
       "      <td>190000.000000</td>\n",
       "      <td>289000.000000</td>\n",
       "      <td>0.000000</td>\n",
       "      <td>100.000000</td>\n",
       "      <td>4.000000</td>\n",
       "      <td>0.000000</td>\n",
       "      <td>34.200000</td>\n",
       "      <td>2.000000</td>\n",
       "      <td>34000.000000</td>\n",
       "    </tr>\n",
       "    <tr>\n",
       "      <th>25%</th>\n",
       "      <td>598000.000000</td>\n",
       "      <td>742000.000000</td>\n",
       "      <td>4.000000</td>\n",
       "      <td>30000.000000</td>\n",
       "      <td>17.000000</td>\n",
       "      <td>1197.000000</td>\n",
       "      <td>73.900000</td>\n",
       "      <td>5.000000</td>\n",
       "      <td>350000.000000</td>\n",
       "    </tr>\n",
       "    <tr>\n",
       "      <th>50%</th>\n",
       "      <td>803000.000000</td>\n",
       "      <td>1040000.000000</td>\n",
       "      <td>6.000000</td>\n",
       "      <td>50000.000000</td>\n",
       "      <td>19.500000</td>\n",
       "      <td>1248.000000</td>\n",
       "      <td>86.700000</td>\n",
       "      <td>5.000000</td>\n",
       "      <td>525000.000000</td>\n",
       "    </tr>\n",
       "    <tr>\n",
       "      <th>75%</th>\n",
       "      <td>1263000.000000</td>\n",
       "      <td>1680000.000000</td>\n",
       "      <td>8.000000</td>\n",
       "      <td>71896.500000</td>\n",
       "      <td>22.540000</td>\n",
       "      <td>1499.000000</td>\n",
       "      <td>108.600000</td>\n",
       "      <td>5.000000</td>\n",
       "      <td>775000.000000</td>\n",
       "    </tr>\n",
       "    <tr>\n",
       "      <th>max</th>\n",
       "      <td>91100000.000000</td>\n",
       "      <td>91100000.000000</td>\n",
       "      <td>29.000000</td>\n",
       "      <td>3800000.000000</td>\n",
       "      <td>33.540000</td>\n",
       "      <td>6752.000000</td>\n",
       "      <td>626.000000</td>\n",
       "      <td>9.000000</td>\n",
       "      <td>39500000.000000</td>\n",
       "    </tr>\n",
       "  </tbody>\n",
       "</table>\n",
       "</div>"
      ],
      "text/plain": [
       "         Min new price    Max new price           Age       km_driven  \\\n",
       "count     17451.000000     17451.000000  17451.000000    17451.000000   \n",
       "mean    1360446.042576   1719557.629591      6.251046    56632.728898   \n",
       "std     2345930.933231   2620169.028603      3.061258    50483.104073   \n",
       "min      190000.000000    289000.000000      0.000000      100.000000   \n",
       "25%      598000.000000    742000.000000      4.000000    30000.000000   \n",
       "50%      803000.000000   1040000.000000      6.000000    50000.000000   \n",
       "75%     1263000.000000   1680000.000000      8.000000    71896.500000   \n",
       "max    91100000.000000  91100000.000000     29.000000  3800000.000000   \n",
       "\n",
       "            mileage        engine     max_power         seats    selling_price  \n",
       "count  17451.000000  17451.000000  17451.000000  17451.000000     17451.000000  \n",
       "mean      19.653189   1449.986820     97.368242      5.298779    711406.290585  \n",
       "std        4.000263    496.209358     39.961621      0.780572    826357.874816  \n",
       "min        4.000000      0.000000     34.200000      2.000000     34000.000000  \n",
       "25%       17.000000   1197.000000     73.900000      5.000000    350000.000000  \n",
       "50%       19.500000   1248.000000     86.700000      5.000000    525000.000000  \n",
       "75%       22.540000   1499.000000    108.600000      5.000000    775000.000000  \n",
       "max       33.540000   6752.000000    626.000000      9.000000  39500000.000000  "
      ]
     },
     "execution_count": 187,
     "metadata": {},
     "output_type": "execute_result"
    }
   ],
   "source": [
    "df_copy.describe().apply(lambda s: s.apply(lambda x: format(x, 'f')))"
   ]
  },
  {
   "cell_type": "code",
   "execution_count": 188,
   "metadata": {},
   "outputs": [],
   "source": [
    "df_copy.to_csv('filed_NAN_values.csv',index = None,header=True)"
   ]
  }
 ],
 "metadata": {
  "kernelspec": {
   "display_name": "Python 3",
   "language": "python",
   "name": "python3"
  },
  "language_info": {
   "codemirror_mode": {
    "name": "ipython",
    "version": 3
   },
   "file_extension": ".py",
   "mimetype": "text/x-python",
   "name": "python",
   "nbconvert_exporter": "python",
   "pygments_lexer": "ipython3",
   "version": "3.8.5"
  }
 },
 "nbformat": 4,
 "nbformat_minor": 4
}
