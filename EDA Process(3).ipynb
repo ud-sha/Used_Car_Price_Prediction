{
 "cells": [
  {
   "cell_type": "code",
   "execution_count": 1,
   "metadata": {},
   "outputs": [],
   "source": [
    "import pandas as pd\n",
    "import numpy as np\n",
    "import seaborn as sns\n",
    "import matplotlib.pyplot as plt"
   ]
  },
  {
   "cell_type": "code",
   "execution_count": 2,
   "metadata": {},
   "outputs": [
    {
     "data": {
      "text/html": [
       "<div>\n",
       "<style scoped>\n",
       "    .dataframe tbody tr th:only-of-type {\n",
       "        vertical-align: middle;\n",
       "    }\n",
       "\n",
       "    .dataframe tbody tr th {\n",
       "        vertical-align: top;\n",
       "    }\n",
       "\n",
       "    .dataframe thead th {\n",
       "        text-align: right;\n",
       "    }\n",
       "</style>\n",
       "<table border=\"1\" class=\"dataframe\">\n",
       "  <thead>\n",
       "    <tr style=\"text-align: right;\">\n",
       "      <th></th>\n",
       "      <th>Maker</th>\n",
       "      <th>Model</th>\n",
       "      <th>Min new price</th>\n",
       "      <th>Max new price</th>\n",
       "      <th>Age</th>\n",
       "      <th>km_driven</th>\n",
       "      <th>seller_type</th>\n",
       "      <th>owner_type</th>\n",
       "      <th>fuel_type</th>\n",
       "      <th>transmission_type</th>\n",
       "      <th>mileage</th>\n",
       "      <th>engine</th>\n",
       "      <th>max_power</th>\n",
       "      <th>seats</th>\n",
       "      <th>selling_price</th>\n",
       "    </tr>\n",
       "  </thead>\n",
       "  <tbody>\n",
       "    <tr>\n",
       "      <th>0</th>\n",
       "      <td>MARUTI</td>\n",
       "      <td>ALTO STD</td>\n",
       "      <td>299800.0</td>\n",
       "      <td>299800.0</td>\n",
       "      <td>9.0</td>\n",
       "      <td>120000.0</td>\n",
       "      <td>Individual</td>\n",
       "      <td>First Owner</td>\n",
       "      <td>Petrol</td>\n",
       "      <td>Manual</td>\n",
       "      <td>19.70</td>\n",
       "      <td>796.0</td>\n",
       "      <td>46.30</td>\n",
       "      <td>5.0</td>\n",
       "      <td>120000.0</td>\n",
       "    </tr>\n",
       "    <tr>\n",
       "      <th>1</th>\n",
       "      <td>HYUNDAI</td>\n",
       "      <td>GRAND I10</td>\n",
       "      <td>711000.0</td>\n",
       "      <td>748000.0</td>\n",
       "      <td>5.0</td>\n",
       "      <td>20000.0</td>\n",
       "      <td>Individual</td>\n",
       "      <td>First Owner</td>\n",
       "      <td>Petrol</td>\n",
       "      <td>Manual</td>\n",
       "      <td>18.90</td>\n",
       "      <td>1197.0</td>\n",
       "      <td>82.00</td>\n",
       "      <td>5.0</td>\n",
       "      <td>550000.0</td>\n",
       "    </tr>\n",
       "    <tr>\n",
       "      <th>2</th>\n",
       "      <td>HYUNDAI</td>\n",
       "      <td>I20 ASTA</td>\n",
       "      <td>791000.0</td>\n",
       "      <td>1324000.0</td>\n",
       "      <td>11.0</td>\n",
       "      <td>60000.0</td>\n",
       "      <td>Individual</td>\n",
       "      <td>First Owner</td>\n",
       "      <td>Petrol</td>\n",
       "      <td>Manual</td>\n",
       "      <td>17.00</td>\n",
       "      <td>1197.0</td>\n",
       "      <td>80.00</td>\n",
       "      <td>5.0</td>\n",
       "      <td>215000.0</td>\n",
       "    </tr>\n",
       "    <tr>\n",
       "      <th>3</th>\n",
       "      <td>MARUTI</td>\n",
       "      <td>ALTO K10</td>\n",
       "      <td>356000.0</td>\n",
       "      <td>451000.0</td>\n",
       "      <td>9.0</td>\n",
       "      <td>37000.0</td>\n",
       "      <td>Individual</td>\n",
       "      <td>First Owner</td>\n",
       "      <td>Petrol</td>\n",
       "      <td>Manual</td>\n",
       "      <td>20.92</td>\n",
       "      <td>998.0</td>\n",
       "      <td>67.10</td>\n",
       "      <td>5.0</td>\n",
       "      <td>226000.0</td>\n",
       "    </tr>\n",
       "    <tr>\n",
       "      <th>4</th>\n",
       "      <td>FORD</td>\n",
       "      <td>ECOSPORT 2015-2021</td>\n",
       "      <td>1014000.0</td>\n",
       "      <td>1379000.0</td>\n",
       "      <td>6.0</td>\n",
       "      <td>30000.0</td>\n",
       "      <td>Dealer</td>\n",
       "      <td>First Owner</td>\n",
       "      <td>Diesel</td>\n",
       "      <td>Manual</td>\n",
       "      <td>22.77</td>\n",
       "      <td>1498.0</td>\n",
       "      <td>98.59</td>\n",
       "      <td>5.0</td>\n",
       "      <td>570000.0</td>\n",
       "    </tr>\n",
       "  </tbody>\n",
       "</table>\n",
       "</div>"
      ],
      "text/plain": [
       "     Maker               Model  Min new price  Max new price   Age  km_driven  \\\n",
       "0   MARUTI            ALTO STD       299800.0       299800.0   9.0   120000.0   \n",
       "1  HYUNDAI           GRAND I10       711000.0       748000.0   5.0    20000.0   \n",
       "2  HYUNDAI            I20 ASTA       791000.0      1324000.0  11.0    60000.0   \n",
       "3   MARUTI            ALTO K10       356000.0       451000.0   9.0    37000.0   \n",
       "4     FORD  ECOSPORT 2015-2021      1014000.0      1379000.0   6.0    30000.0   \n",
       "\n",
       "  seller_type   owner_type fuel_type transmission_type  mileage  engine  \\\n",
       "0  Individual  First Owner    Petrol            Manual    19.70   796.0   \n",
       "1  Individual  First Owner    Petrol            Manual    18.90  1197.0   \n",
       "2  Individual  First Owner    Petrol            Manual    17.00  1197.0   \n",
       "3  Individual  First Owner    Petrol            Manual    20.92   998.0   \n",
       "4      Dealer  First Owner    Diesel            Manual    22.77  1498.0   \n",
       "\n",
       "   max_power  seats  selling_price  \n",
       "0      46.30    5.0       120000.0  \n",
       "1      82.00    5.0       550000.0  \n",
       "2      80.00    5.0       215000.0  \n",
       "3      67.10    5.0       226000.0  \n",
       "4      98.59    5.0       570000.0  "
      ]
     },
     "execution_count": 2,
     "metadata": {},
     "output_type": "execute_result"
    }
   ],
   "source": [
    "df = pd.read_csv('filed_NAN_values.csv')\n",
    "df.head()"
   ]
  },
  {
   "cell_type": "code",
   "execution_count": 3,
   "metadata": {},
   "outputs": [],
   "source": [
    "df_copy = df.copy()"
   ]
  },
  {
   "cell_type": "code",
   "execution_count": 4,
   "metadata": {},
   "outputs": [
    {
     "name": "stdout",
     "output_type": "stream",
     "text": [
      "Maker                0.0\n",
      "Model                0.0\n",
      "Min new price        0.0\n",
      "Max new price        0.0\n",
      "Age                  0.0\n",
      "km_driven            0.0\n",
      "seller_type          0.0\n",
      "owner_type           0.0\n",
      "fuel_type            0.0\n",
      "transmission_type    0.0\n",
      "mileage              0.0\n",
      "engine               0.0\n",
      "max_power            0.0\n",
      "seats                0.0\n",
      "selling_price        0.0\n",
      "dtype: float64 3\n"
     ]
    }
   ],
   "source": [
    "print(round(df_copy.isnull().sum()/len(df_copy)*100),3)"
   ]
  },
  {
   "cell_type": "code",
   "execution_count": 5,
   "metadata": {},
   "outputs": [
    {
     "data": {
      "text/plain": [
       "Maker                 object\n",
       "Model                 object\n",
       "Min new price        float64\n",
       "Max new price        float64\n",
       "Age                  float64\n",
       "km_driven            float64\n",
       "seller_type           object\n",
       "owner_type            object\n",
       "fuel_type             object\n",
       "transmission_type     object\n",
       "mileage              float64\n",
       "engine               float64\n",
       "max_power            float64\n",
       "seats                float64\n",
       "selling_price        float64\n",
       "dtype: object"
      ]
     },
     "execution_count": 5,
     "metadata": {},
     "output_type": "execute_result"
    }
   ],
   "source": [
    "df_copy.dtypes"
   ]
  },
  {
   "cell_type": "markdown",
   "metadata": {},
   "source": [
    "cat_type = [\"\"]"
   ]
  },
  {
   "cell_type": "code",
   "execution_count": 6,
   "metadata": {},
   "outputs": [
    {
     "data": {
      "text/plain": [
       "(17451, 15)"
      ]
     },
     "execution_count": 6,
     "metadata": {},
     "output_type": "execute_result"
    }
   ],
   "source": [
    "df_copy.shape"
   ]
  },
  {
   "cell_type": "code",
   "execution_count": 7,
   "metadata": {},
   "outputs": [],
   "source": [
    "cat_cols = ['seller_type','owner_type','fuel_type','transmission_type','Maker','Model']\n",
    "num_cols = ['selling_price','km_driven','mileage','engine','max_power','seats','Min new price','Max new price','Age']"
   ]
  },
  {
   "cell_type": "code",
   "execution_count": 8,
   "metadata": {},
   "outputs": [
    {
     "name": "stdout",
     "output_type": "stream",
     "text": [
      "<class 'pandas.core.frame.DataFrame'>\n",
      "RangeIndex: 17451 entries, 0 to 17450\n",
      "Data columns (total 15 columns):\n",
      " #   Column             Non-Null Count  Dtype  \n",
      "---  ------             --------------  -----  \n",
      " 0   Maker              17451 non-null  object \n",
      " 1   Model              17451 non-null  object \n",
      " 2   Min new price      17451 non-null  float64\n",
      " 3   Max new price      17451 non-null  float64\n",
      " 4   Age                17451 non-null  float64\n",
      " 5   km_driven          17451 non-null  float64\n",
      " 6   seller_type        17451 non-null  object \n",
      " 7   owner_type         17451 non-null  object \n",
      " 8   fuel_type          17451 non-null  object \n",
      " 9   transmission_type  17451 non-null  object \n",
      " 10  mileage            17451 non-null  float64\n",
      " 11  engine             17451 non-null  float64\n",
      " 12  max_power          17451 non-null  float64\n",
      " 13  seats              17451 non-null  float64\n",
      " 14  selling_price      17451 non-null  float64\n",
      "dtypes: float64(9), object(6)\n",
      "memory usage: 2.0+ MB\n"
     ]
    }
   ],
   "source": [
    "df_copy.info()"
   ]
  },
  {
   "cell_type": "markdown",
   "metadata": {},
   "source": [
    "# Univerate Analysis"
   ]
  },
  {
   "cell_type": "markdown",
   "metadata": {},
   "source": [
    "### Selling Price"
   ]
  },
  {
   "cell_type": "code",
   "execution_count": 9,
   "metadata": {},
   "outputs": [
    {
     "data": {
      "image/png": "[encoded data removed]",
      "text/plain": [
       "<Figure size 1080x360 with 2 Axes>"
      ]
     },
     "metadata": {},
     "output_type": "display_data"
    },
    {
     "data": {
      "text/plain": [
       "<Figure size 432x288 with 0 Axes>"
      ]
     },
     "metadata": {},
     "output_type": "display_data"
    }
   ],
   "source": [
    "sns.set_style('darkgrid')\n",
    "fig ,ax = plt.subplots(1,2,figsize = (15,5))\n",
    "sns.boxplot(df_copy['selling_price'],ax=ax[0])\n",
    "sns.distplot(df_copy['selling_price'],ax=ax[1])\n",
    "plt.show()\n",
    "plt.savefig('Selling Price.png')"
   ]
  },
  {
   "cell_type": "code",
   "execution_count": 10,
   "metadata": {},
   "outputs": [
    {
     "name": "stdout",
     "output_type": "stream",
     "text": [
      "11.915943502307702\n"
     ]
    }
   ],
   "source": [
    "print(df_copy['selling_price'].skew())"
   ]
  },
  {
   "cell_type": "code",
   "execution_count": 11,
   "metadata": {},
   "outputs": [
    {
     "data": {
      "text/html": [
       "<div>\n",
       "<style scoped>\n",
       "    .dataframe tbody tr th:only-of-type {\n",
       "        vertical-align: middle;\n",
       "    }\n",
       "\n",
       "    .dataframe tbody tr th {\n",
       "        vertical-align: top;\n",
       "    }\n",
       "\n",
       "    .dataframe thead th {\n",
       "        text-align: right;\n",
       "    }\n",
       "</style>\n",
       "<table border=\"1\" class=\"dataframe\">\n",
       "  <thead>\n",
       "    <tr style=\"text-align: right;\">\n",
       "      <th></th>\n",
       "      <th>Min new price</th>\n",
       "      <th>Max new price</th>\n",
       "      <th>Age</th>\n",
       "      <th>km_driven</th>\n",
       "      <th>mileage</th>\n",
       "      <th>engine</th>\n",
       "      <th>max_power</th>\n",
       "      <th>seats</th>\n",
       "      <th>selling_price</th>\n",
       "    </tr>\n",
       "  </thead>\n",
       "  <tbody>\n",
       "    <tr>\n",
       "      <th>count</th>\n",
       "      <td>17451.000000</td>\n",
       "      <td>17451.000000</td>\n",
       "      <td>17451.000000</td>\n",
       "      <td>17451.000000</td>\n",
       "      <td>17451.000000</td>\n",
       "      <td>17451.000000</td>\n",
       "      <td>17451.000000</td>\n",
       "      <td>17451.000000</td>\n",
       "      <td>17451.000000</td>\n",
       "    </tr>\n",
       "    <tr>\n",
       "      <th>mean</th>\n",
       "      <td>1360446.042576</td>\n",
       "      <td>1719557.629591</td>\n",
       "      <td>6.251046</td>\n",
       "      <td>56632.728898</td>\n",
       "      <td>19.653189</td>\n",
       "      <td>1449.986820</td>\n",
       "      <td>97.368242</td>\n",
       "      <td>5.298779</td>\n",
       "      <td>711406.290585</td>\n",
       "    </tr>\n",
       "    <tr>\n",
       "      <th>std</th>\n",
       "      <td>2345930.933231</td>\n",
       "      <td>2620169.028603</td>\n",
       "      <td>3.061258</td>\n",
       "      <td>50483.104073</td>\n",
       "      <td>4.000263</td>\n",
       "      <td>496.209358</td>\n",
       "      <td>39.961621</td>\n",
       "      <td>0.780572</td>\n",
       "      <td>826357.874816</td>\n",
       "    </tr>\n",
       "    <tr>\n",
       "      <th>min</th>\n",
       "      <td>190000.000000</td>\n",
       "      <td>289000.000000</td>\n",
       "      <td>0.000000</td>\n",
       "      <td>100.000000</td>\n",
       "      <td>4.000000</td>\n",
       "      <td>0.000000</td>\n",
       "      <td>34.200000</td>\n",
       "      <td>2.000000</td>\n",
       "      <td>34000.000000</td>\n",
       "    </tr>\n",
       "    <tr>\n",
       "      <th>25%</th>\n",
       "      <td>598000.000000</td>\n",
       "      <td>742000.000000</td>\n",
       "      <td>4.000000</td>\n",
       "      <td>30000.000000</td>\n",
       "      <td>17.000000</td>\n",
       "      <td>1197.000000</td>\n",
       "      <td>73.900000</td>\n",
       "      <td>5.000000</td>\n",
       "      <td>350000.000000</td>\n",
       "    </tr>\n",
       "    <tr>\n",
       "      <th>50%</th>\n",
       "      <td>803000.000000</td>\n",
       "      <td>1040000.000000</td>\n",
       "      <td>6.000000</td>\n",
       "      <td>50000.000000</td>\n",
       "      <td>19.500000</td>\n",
       "      <td>1248.000000</td>\n",
       "      <td>86.700000</td>\n",
       "      <td>5.000000</td>\n",
       "      <td>525000.000000</td>\n",
       "    </tr>\n",
       "    <tr>\n",
       "      <th>75%</th>\n",
       "      <td>1263000.000000</td>\n",
       "      <td>1680000.000000</td>\n",
       "      <td>8.000000</td>\n",
       "      <td>71896.500000</td>\n",
       "      <td>22.540000</td>\n",
       "      <td>1499.000000</td>\n",
       "      <td>108.600000</td>\n",
       "      <td>5.000000</td>\n",
       "      <td>775000.000000</td>\n",
       "    </tr>\n",
       "    <tr>\n",
       "      <th>max</th>\n",
       "      <td>91100000.000000</td>\n",
       "      <td>91100000.000000</td>\n",
       "      <td>29.000000</td>\n",
       "      <td>3800000.000000</td>\n",
       "      <td>33.540000</td>\n",
       "      <td>6752.000000</td>\n",
       "      <td>626.000000</td>\n",
       "      <td>9.000000</td>\n",
       "      <td>39500000.000000</td>\n",
       "    </tr>\n",
       "  </tbody>\n",
       "</table>\n",
       "</div>"
      ],
      "text/plain": [
       "         Min new price    Max new price           Age       km_driven  \\\n",
       "count     17451.000000     17451.000000  17451.000000    17451.000000   \n",
       "mean    1360446.042576   1719557.629591      6.251046    56632.728898   \n",
       "std     2345930.933231   2620169.028603      3.061258    50483.104073   \n",
       "min      190000.000000    289000.000000      0.000000      100.000000   \n",
       "25%      598000.000000    742000.000000      4.000000    30000.000000   \n",
       "50%      803000.000000   1040000.000000      6.000000    50000.000000   \n",
       "75%     1263000.000000   1680000.000000      8.000000    71896.500000   \n",
       "max    91100000.000000  91100000.000000     29.000000  3800000.000000   \n",
       "\n",
       "            mileage        engine     max_power         seats    selling_price  \n",
       "count  17451.000000  17451.000000  17451.000000  17451.000000     17451.000000  \n",
       "mean      19.653189   1449.986820     97.368242      5.298779    711406.290585  \n",
       "std        4.000263    496.209358     39.961621      0.780572    826357.874816  \n",
       "min        4.000000      0.000000     34.200000      2.000000     34000.000000  \n",
       "25%       17.000000   1197.000000     73.900000      5.000000    350000.000000  \n",
       "50%       19.500000   1248.000000     86.700000      5.000000    525000.000000  \n",
       "75%       22.540000   1499.000000    108.600000      5.000000    775000.000000  \n",
       "max       33.540000   6752.000000    626.000000      9.000000  39500000.000000  "
      ]
     },
     "execution_count": 11,
     "metadata": {},
     "output_type": "execute_result"
    }
   ],
   "source": [
    "df_copy.describe().apply(lambda s: s.apply(lambda x: format(x, 'f')))"
   ]
  },
  {
   "cell_type": "markdown",
   "metadata": {},
   "source": [
    "#### KMs driven"
   ]
  },
  {
   "cell_type": "code",
   "execution_count": 12,
   "metadata": {},
   "outputs": [
    {
     "data": {
      "image/png": "[encoded data removed]",
      "text/plain": [
       "<Figure size 1080x360 with 2 Axes>"
      ]
     },
     "metadata": {},
     "output_type": "display_data"
    },
    {
     "data": {
      "text/plain": [
       "<Figure size 432x288 with 0 Axes>"
      ]
     },
     "metadata": {},
     "output_type": "display_data"
    }
   ],
   "source": [
    "sns.set_style('darkgrid')\n",
    "fig ,ax = plt.subplots(1,2,figsize = (15,5))\n",
    "sns.boxplot(df_copy['km_driven'],ax=ax[0])\n",
    "sns.distplot(df_copy['km_driven'],ax=ax[1])\n",
    "plt.show()\n",
    "plt.savefig('KMs driven.png')"
   ]
  },
  {
   "cell_type": "code",
   "execution_count": 13,
   "metadata": {},
   "outputs": [
    {
     "name": "stdout",
     "output_type": "stream",
     "text": [
      "26.757006975812413\n"
     ]
    }
   ],
   "source": [
    "print(df_copy['km_driven'].skew())"
   ]
  },
  {
   "cell_type": "code",
   "execution_count": 14,
   "metadata": {},
   "outputs": [
    {
     "name": "stdout",
     "output_type": "stream",
     "text": [
      "count      17451.000\n",
      "mean       56632.729\n",
      "std        50483.104\n",
      "min          100.000\n",
      "25%        30000.000\n",
      "50%        50000.000\n",
      "75%        71896.500\n",
      "max      3800000.000\n",
      "Name: km_driven, dtype: float64\n"
     ]
    }
   ],
   "source": [
    "print(round(df_copy['km_driven'].describe(),3))"
   ]
  },
  {
   "cell_type": "code",
   "execution_count": null,
   "metadata": {},
   "outputs": [],
   "source": []
  },
  {
   "cell_type": "markdown",
   "metadata": {},
   "source": [
    "#### Mileage"
   ]
  },
  {
   "cell_type": "code",
   "execution_count": 15,
   "metadata": {},
   "outputs": [
    {
     "data": {
      "image/png": "[encoded data removed]",
      "text/plain": [
       "<Figure size 1080x360 with 2 Axes>"
      ]
     },
     "metadata": {},
     "output_type": "display_data"
    },
    {
     "data": {
      "text/plain": [
       "<Figure size 432x288 with 0 Axes>"
      ]
     },
     "metadata": {},
     "output_type": "display_data"
    }
   ],
   "source": [
    "sns.set_style('darkgrid')\n",
    "fig ,ax = plt.subplots(1,2,figsize = (15,5))\n",
    "sns.boxplot(df_copy['mileage'],ax=ax[0])\n",
    "sns.distplot(df_copy['mileage'],ax=ax[1])\n",
    "plt.show()\n",
    "plt.savefig('Mileage.png')"
   ]
  },
  {
   "cell_type": "code",
   "execution_count": 16,
   "metadata": {},
   "outputs": [
    {
     "name": "stdout",
     "output_type": "stream",
     "text": [
      "0.1039368804169764\n"
     ]
    }
   ],
   "source": [
    "print(df_copy['mileage'].skew())"
   ]
  },
  {
   "cell_type": "code",
   "execution_count": 17,
   "metadata": {},
   "outputs": [
    {
     "name": "stdout",
     "output_type": "stream",
     "text": [
      "count    17451.000\n",
      "mean        19.653\n",
      "std          4.000\n",
      "min          4.000\n",
      "25%         17.000\n",
      "50%         19.500\n",
      "75%         22.540\n",
      "max         33.540\n",
      "Name: mileage, dtype: float64\n"
     ]
    }
   ],
   "source": [
    "print(round(df_copy['mileage'].describe(),3))"
   ]
  },
  {
   "cell_type": "code",
   "execution_count": null,
   "metadata": {},
   "outputs": [],
   "source": []
  },
  {
   "cell_type": "markdown",
   "metadata": {},
   "source": [
    "####  engine"
   ]
  },
  {
   "cell_type": "code",
   "execution_count": 18,
   "metadata": {},
   "outputs": [
    {
     "data": {
      "image/png": "[encoded data removed]",
      "text/plain": [
       "<Figure size 1080x360 with 2 Axes>"
      ]
     },
     "metadata": {},
     "output_type": "display_data"
    },
    {
     "data": {
      "text/plain": [
       "<Figure size 432x288 with 0 Axes>"
      ]
     },
     "metadata": {},
     "output_type": "display_data"
    }
   ],
   "source": [
    "sns.set_style('darkgrid')\n",
    "fig ,ax = plt.subplots(1,2,figsize = (15,5))\n",
    "sns.boxplot(df_copy['engine'],ax=ax[0])\n",
    "sns.distplot(df_copy['engine'],ax=ax[1])\n",
    "plt.show()\n",
    "plt.savefig('Engine.png')"
   ]
  },
  {
   "cell_type": "code",
   "execution_count": 19,
   "metadata": {},
   "outputs": [
    {
     "name": "stdout",
     "output_type": "stream",
     "text": [
      "1.7375374072654908\n"
     ]
    }
   ],
   "source": [
    "print(df_copy['engine'].skew())"
   ]
  },
  {
   "cell_type": "code",
   "execution_count": 20,
   "metadata": {},
   "outputs": [
    {
     "name": "stdout",
     "output_type": "stream",
     "text": [
      "count    17451.000\n",
      "mean      1449.987\n",
      "std        496.209\n",
      "min          0.000\n",
      "25%       1197.000\n",
      "50%       1248.000\n",
      "75%       1499.000\n",
      "max       6752.000\n",
      "Name: engine, dtype: float64\n"
     ]
    }
   ],
   "source": [
    "print(round(df_copy['engine'].describe(),3))"
   ]
  },
  {
   "cell_type": "code",
   "execution_count": null,
   "metadata": {},
   "outputs": [],
   "source": []
  },
  {
   "cell_type": "markdown",
   "metadata": {},
   "source": [
    "#### Max Power"
   ]
  },
  {
   "cell_type": "code",
   "execution_count": 21,
   "metadata": {},
   "outputs": [
    {
     "data": {
      "image/png": "[encoded data removed]",
      "text/plain": [
       "<Figure size 1080x360 with 2 Axes>"
      ]
     },
     "metadata": {},
     "output_type": "display_data"
    },
    {
     "data": {
      "text/plain": [
       "<Figure size 432x288 with 0 Axes>"
      ]
     },
     "metadata": {},
     "output_type": "display_data"
    }
   ],
   "source": [
    "sns.set_style('darkgrid')\n",
    "fig ,ax = plt.subplots(1,2,figsize = (15,5))\n",
    "sns.boxplot(df_copy['max_power'],ax=ax[0])\n",
    "sns.distplot(df_copy['max_power'],ax=ax[1])\n",
    "plt.show()\n",
    "plt.savefig('Max Power.png')"
   ]
  },
  {
   "cell_type": "code",
   "execution_count": 22,
   "metadata": {},
   "outputs": [
    {
     "name": "stdout",
     "output_type": "stream",
     "text": [
      "2.4972518248886857\n"
     ]
    }
   ],
   "source": [
    "print(df_copy['max_power'].skew())"
   ]
  },
  {
   "cell_type": "code",
   "execution_count": 23,
   "metadata": {},
   "outputs": [
    {
     "name": "stdout",
     "output_type": "stream",
     "text": [
      "count    17451.000\n",
      "mean        97.368\n",
      "std         39.962\n",
      "min         34.200\n",
      "25%         73.900\n",
      "50%         86.700\n",
      "75%        108.600\n",
      "max        626.000\n",
      "Name: max_power, dtype: float64\n"
     ]
    }
   ],
   "source": [
    "print(round(df_copy['max_power'].describe(),3))"
   ]
  },
  {
   "cell_type": "code",
   "execution_count": null,
   "metadata": {},
   "outputs": [],
   "source": []
  },
  {
   "cell_type": "markdown",
   "metadata": {},
   "source": [
    "#### Seats"
   ]
  },
  {
   "cell_type": "code",
   "execution_count": 24,
   "metadata": {},
   "outputs": [
    {
     "data": {
      "image/png": "[encoded data removed]",
      "text/plain": [
       "<Figure size 1080x360 with 2 Axes>"
      ]
     },
     "metadata": {},
     "output_type": "display_data"
    },
    {
     "data": {
      "text/plain": [
       "<Figure size 432x288 with 0 Axes>"
      ]
     },
     "metadata": {},
     "output_type": "display_data"
    }
   ],
   "source": [
    "sns.set_style('darkgrid')\n",
    "fig ,ax = plt.subplots(1,2,figsize = (15,5))\n",
    "sns.countplot(df_copy['seats'],ax=ax[0])\n",
    "sns.boxplot(df_copy['seats'],ax=ax[1])\n",
    "plt.show()\n",
    "plt.savefig('Seats.png')"
   ]
  },
  {
   "cell_type": "code",
   "execution_count": 25,
   "metadata": {},
   "outputs": [
    {
     "name": "stdout",
     "output_type": "stream",
     "text": [
      "2.224878574785228\n"
     ]
    }
   ],
   "source": [
    "print(df_copy['seats'].skew())"
   ]
  },
  {
   "cell_type": "code",
   "execution_count": 26,
   "metadata": {},
   "outputs": [
    {
     "name": "stdout",
     "output_type": "stream",
     "text": [
      "count    17451.000\n",
      "mean         5.299\n",
      "std          0.781\n",
      "min          2.000\n",
      "25%          5.000\n",
      "50%          5.000\n",
      "75%          5.000\n",
      "max          9.000\n",
      "Name: seats, dtype: float64\n"
     ]
    }
   ],
   "source": [
    "print(round(df_copy['seats'].describe(),3))"
   ]
  },
  {
   "cell_type": "code",
   "execution_count": 27,
   "metadata": {},
   "outputs": [
    {
     "data": {
      "text/plain": [
       "5.0    14847\n",
       "7.0     1990\n",
       "8.0      339\n",
       "6.0      114\n",
       "4.0       97\n",
       "9.0       56\n",
       "2.0        8\n",
       "Name: seats, dtype: int64"
      ]
     },
     "execution_count": 27,
     "metadata": {},
     "output_type": "execute_result"
    }
   ],
   "source": [
    "df_copy['seats'].value_counts()"
   ]
  },
  {
   "cell_type": "code",
   "execution_count": null,
   "metadata": {},
   "outputs": [],
   "source": []
  },
  {
   "cell_type": "markdown",
   "metadata": {},
   "source": [
    "#### Min New Price"
   ]
  },
  {
   "cell_type": "code",
   "execution_count": 28,
   "metadata": {},
   "outputs": [
    {
     "data": {
      "image/png": "[encoded data removed]",
      "text/plain": [
       "<Figure size 1080x360 with 2 Axes>"
      ]
     },
     "metadata": {},
     "output_type": "display_data"
    },
    {
     "data": {
      "text/plain": [
       "<Figure size 432x288 with 0 Axes>"
      ]
     },
     "metadata": {},
     "output_type": "display_data"
    }
   ],
   "source": [
    "sns.set_style('darkgrid')\n",
    "fig ,ax = plt.subplots(1,2,figsize = (15,5))\n",
    "sns.boxplot(df_copy['Min new price'],ax=ax[0])\n",
    "sns.distplot(df_copy['Min new price'],ax=ax[1])\n",
    "plt.show()\n",
    "plt.savefig('Min New Price.png')"
   ]
  },
  {
   "cell_type": "code",
   "execution_count": 29,
   "metadata": {},
   "outputs": [
    {
     "name": "stdout",
     "output_type": "stream",
     "text": [
      "11.793337698136188\n"
     ]
    }
   ],
   "source": [
    "print(df_copy['Min new price'].skew())"
   ]
  },
  {
   "cell_type": "code",
   "execution_count": 30,
   "metadata": {},
   "outputs": [
    {
     "data": {
      "text/html": [
       "<div>\n",
       "<style scoped>\n",
       "    .dataframe tbody tr th:only-of-type {\n",
       "        vertical-align: middle;\n",
       "    }\n",
       "\n",
       "    .dataframe tbody tr th {\n",
       "        vertical-align: top;\n",
       "    }\n",
       "\n",
       "    .dataframe thead th {\n",
       "        text-align: right;\n",
       "    }\n",
       "</style>\n",
       "<table border=\"1\" class=\"dataframe\">\n",
       "  <thead>\n",
       "    <tr style=\"text-align: right;\">\n",
       "      <th></th>\n",
       "      <th>Min new price</th>\n",
       "      <th>Max new price</th>\n",
       "      <th>Age</th>\n",
       "      <th>km_driven</th>\n",
       "      <th>mileage</th>\n",
       "      <th>engine</th>\n",
       "      <th>max_power</th>\n",
       "      <th>seats</th>\n",
       "      <th>selling_price</th>\n",
       "    </tr>\n",
       "  </thead>\n",
       "  <tbody>\n",
       "    <tr>\n",
       "      <th>count</th>\n",
       "      <td>17451.000000</td>\n",
       "      <td>17451.000000</td>\n",
       "      <td>17451.000000</td>\n",
       "      <td>17451.000000</td>\n",
       "      <td>17451.000000</td>\n",
       "      <td>17451.000000</td>\n",
       "      <td>17451.000000</td>\n",
       "      <td>17451.000000</td>\n",
       "      <td>17451.000000</td>\n",
       "    </tr>\n",
       "    <tr>\n",
       "      <th>mean</th>\n",
       "      <td>1360446.042576</td>\n",
       "      <td>1719557.629591</td>\n",
       "      <td>6.251046</td>\n",
       "      <td>56632.728898</td>\n",
       "      <td>19.653189</td>\n",
       "      <td>1449.986820</td>\n",
       "      <td>97.368242</td>\n",
       "      <td>5.298779</td>\n",
       "      <td>711406.290585</td>\n",
       "    </tr>\n",
       "    <tr>\n",
       "      <th>std</th>\n",
       "      <td>2345930.933231</td>\n",
       "      <td>2620169.028603</td>\n",
       "      <td>3.061258</td>\n",
       "      <td>50483.104073</td>\n",
       "      <td>4.000263</td>\n",
       "      <td>496.209358</td>\n",
       "      <td>39.961621</td>\n",
       "      <td>0.780572</td>\n",
       "      <td>826357.874816</td>\n",
       "    </tr>\n",
       "    <tr>\n",
       "      <th>min</th>\n",
       "      <td>190000.000000</td>\n",
       "      <td>289000.000000</td>\n",
       "      <td>0.000000</td>\n",
       "      <td>100.000000</td>\n",
       "      <td>4.000000</td>\n",
       "      <td>0.000000</td>\n",
       "      <td>34.200000</td>\n",
       "      <td>2.000000</td>\n",
       "      <td>34000.000000</td>\n",
       "    </tr>\n",
       "    <tr>\n",
       "      <th>25%</th>\n",
       "      <td>598000.000000</td>\n",
       "      <td>742000.000000</td>\n",
       "      <td>4.000000</td>\n",
       "      <td>30000.000000</td>\n",
       "      <td>17.000000</td>\n",
       "      <td>1197.000000</td>\n",
       "      <td>73.900000</td>\n",
       "      <td>5.000000</td>\n",
       "      <td>350000.000000</td>\n",
       "    </tr>\n",
       "    <tr>\n",
       "      <th>50%</th>\n",
       "      <td>803000.000000</td>\n",
       "      <td>1040000.000000</td>\n",
       "      <td>6.000000</td>\n",
       "      <td>50000.000000</td>\n",
       "      <td>19.500000</td>\n",
       "      <td>1248.000000</td>\n",
       "      <td>86.700000</td>\n",
       "      <td>5.000000</td>\n",
       "      <td>525000.000000</td>\n",
       "    </tr>\n",
       "    <tr>\n",
       "      <th>75%</th>\n",
       "      <td>1263000.000000</td>\n",
       "      <td>1680000.000000</td>\n",
       "      <td>8.000000</td>\n",
       "      <td>71896.500000</td>\n",
       "      <td>22.540000</td>\n",
       "      <td>1499.000000</td>\n",
       "      <td>108.600000</td>\n",
       "      <td>5.000000</td>\n",
       "      <td>775000.000000</td>\n",
       "    </tr>\n",
       "    <tr>\n",
       "      <th>max</th>\n",
       "      <td>91100000.000000</td>\n",
       "      <td>91100000.000000</td>\n",
       "      <td>29.000000</td>\n",
       "      <td>3800000.000000</td>\n",
       "      <td>33.540000</td>\n",
       "      <td>6752.000000</td>\n",
       "      <td>626.000000</td>\n",
       "      <td>9.000000</td>\n",
       "      <td>39500000.000000</td>\n",
       "    </tr>\n",
       "  </tbody>\n",
       "</table>\n",
       "</div>"
      ],
      "text/plain": [
       "         Min new price    Max new price           Age       km_driven  \\\n",
       "count     17451.000000     17451.000000  17451.000000    17451.000000   \n",
       "mean    1360446.042576   1719557.629591      6.251046    56632.728898   \n",
       "std     2345930.933231   2620169.028603      3.061258    50483.104073   \n",
       "min      190000.000000    289000.000000      0.000000      100.000000   \n",
       "25%      598000.000000    742000.000000      4.000000    30000.000000   \n",
       "50%      803000.000000   1040000.000000      6.000000    50000.000000   \n",
       "75%     1263000.000000   1680000.000000      8.000000    71896.500000   \n",
       "max    91100000.000000  91100000.000000     29.000000  3800000.000000   \n",
       "\n",
       "            mileage        engine     max_power         seats    selling_price  \n",
       "count  17451.000000  17451.000000  17451.000000  17451.000000     17451.000000  \n",
       "mean      19.653189   1449.986820     97.368242      5.298779    711406.290585  \n",
       "std        4.000263    496.209358     39.961621      0.780572    826357.874816  \n",
       "min        4.000000      0.000000     34.200000      2.000000     34000.000000  \n",
       "25%       17.000000   1197.000000     73.900000      5.000000    350000.000000  \n",
       "50%       19.500000   1248.000000     86.700000      5.000000    525000.000000  \n",
       "75%       22.540000   1499.000000    108.600000      5.000000    775000.000000  \n",
       "max       33.540000   6752.000000    626.000000      9.000000  39500000.000000  "
      ]
     },
     "execution_count": 30,
     "metadata": {},
     "output_type": "execute_result"
    }
   ],
   "source": [
    "df_copy.describe().apply(lambda s: s.apply(lambda x: format(x, 'f')))"
   ]
  },
  {
   "cell_type": "markdown",
   "metadata": {},
   "source": [
    "#### Max New Price"
   ]
  },
  {
   "cell_type": "code",
   "execution_count": 31,
   "metadata": {},
   "outputs": [
    {
     "data": {
      "image/png": "[encoded data removed]",
      "text/plain": [
       "<Figure size 1080x360 with 2 Axes>"
      ]
     },
     "metadata": {},
     "output_type": "display_data"
    },
    {
     "data": {
      "text/plain": [
       "<Figure size 432x288 with 0 Axes>"
      ]
     },
     "metadata": {},
     "output_type": "display_data"
    }
   ],
   "source": [
    "sns.set_style('darkgrid')\n",
    "fig ,ax = plt.subplots(1,2,figsize = (15,5))\n",
    "sns.boxplot(df_copy['Max new price'],ax=ax[0])\n",
    "sns.distplot(df_copy['Max new price'],ax=ax[1])\n",
    "plt.show()\n",
    "plt.savefig('Max New Price.png')"
   ]
  },
  {
   "cell_type": "code",
   "execution_count": 32,
   "metadata": {},
   "outputs": [
    {
     "name": "stdout",
     "output_type": "stream",
     "text": [
      "9.547357524314819\n"
     ]
    }
   ],
   "source": [
    "print(df_copy['Max new price'].skew())"
   ]
  },
  {
   "cell_type": "code",
   "execution_count": 33,
   "metadata": {},
   "outputs": [
    {
     "data": {
      "text/html": [
       "<div>\n",
       "<style scoped>\n",
       "    .dataframe tbody tr th:only-of-type {\n",
       "        vertical-align: middle;\n",
       "    }\n",
       "\n",
       "    .dataframe tbody tr th {\n",
       "        vertical-align: top;\n",
       "    }\n",
       "\n",
       "    .dataframe thead th {\n",
       "        text-align: right;\n",
       "    }\n",
       "</style>\n",
       "<table border=\"1\" class=\"dataframe\">\n",
       "  <thead>\n",
       "    <tr style=\"text-align: right;\">\n",
       "      <th></th>\n",
       "      <th>Min new price</th>\n",
       "      <th>Max new price</th>\n",
       "      <th>Age</th>\n",
       "      <th>km_driven</th>\n",
       "      <th>mileage</th>\n",
       "      <th>engine</th>\n",
       "      <th>max_power</th>\n",
       "      <th>seats</th>\n",
       "      <th>selling_price</th>\n",
       "    </tr>\n",
       "  </thead>\n",
       "  <tbody>\n",
       "    <tr>\n",
       "      <th>count</th>\n",
       "      <td>17451.000000</td>\n",
       "      <td>17451.000000</td>\n",
       "      <td>17451.000000</td>\n",
       "      <td>17451.000000</td>\n",
       "      <td>17451.000000</td>\n",
       "      <td>17451.000000</td>\n",
       "      <td>17451.000000</td>\n",
       "      <td>17451.000000</td>\n",
       "      <td>17451.000000</td>\n",
       "    </tr>\n",
       "    <tr>\n",
       "      <th>mean</th>\n",
       "      <td>1360446.042576</td>\n",
       "      <td>1719557.629591</td>\n",
       "      <td>6.251046</td>\n",
       "      <td>56632.728898</td>\n",
       "      <td>19.653189</td>\n",
       "      <td>1449.986820</td>\n",
       "      <td>97.368242</td>\n",
       "      <td>5.298779</td>\n",
       "      <td>711406.290585</td>\n",
       "    </tr>\n",
       "    <tr>\n",
       "      <th>std</th>\n",
       "      <td>2345930.933231</td>\n",
       "      <td>2620169.028603</td>\n",
       "      <td>3.061258</td>\n",
       "      <td>50483.104073</td>\n",
       "      <td>4.000263</td>\n",
       "      <td>496.209358</td>\n",
       "      <td>39.961621</td>\n",
       "      <td>0.780572</td>\n",
       "      <td>826357.874816</td>\n",
       "    </tr>\n",
       "    <tr>\n",
       "      <th>min</th>\n",
       "      <td>190000.000000</td>\n",
       "      <td>289000.000000</td>\n",
       "      <td>0.000000</td>\n",
       "      <td>100.000000</td>\n",
       "      <td>4.000000</td>\n",
       "      <td>0.000000</td>\n",
       "      <td>34.200000</td>\n",
       "      <td>2.000000</td>\n",
       "      <td>34000.000000</td>\n",
       "    </tr>\n",
       "    <tr>\n",
       "      <th>25%</th>\n",
       "      <td>598000.000000</td>\n",
       "      <td>742000.000000</td>\n",
       "      <td>4.000000</td>\n",
       "      <td>30000.000000</td>\n",
       "      <td>17.000000</td>\n",
       "      <td>1197.000000</td>\n",
       "      <td>73.900000</td>\n",
       "      <td>5.000000</td>\n",
       "      <td>350000.000000</td>\n",
       "    </tr>\n",
       "    <tr>\n",
       "      <th>50%</th>\n",
       "      <td>803000.000000</td>\n",
       "      <td>1040000.000000</td>\n",
       "      <td>6.000000</td>\n",
       "      <td>50000.000000</td>\n",
       "      <td>19.500000</td>\n",
       "      <td>1248.000000</td>\n",
       "      <td>86.700000</td>\n",
       "      <td>5.000000</td>\n",
       "      <td>525000.000000</td>\n",
       "    </tr>\n",
       "    <tr>\n",
       "      <th>75%</th>\n",
       "      <td>1263000.000000</td>\n",
       "      <td>1680000.000000</td>\n",
       "      <td>8.000000</td>\n",
       "      <td>71896.500000</td>\n",
       "      <td>22.540000</td>\n",
       "      <td>1499.000000</td>\n",
       "      <td>108.600000</td>\n",
       "      <td>5.000000</td>\n",
       "      <td>775000.000000</td>\n",
       "    </tr>\n",
       "    <tr>\n",
       "      <th>max</th>\n",
       "      <td>91100000.000000</td>\n",
       "      <td>91100000.000000</td>\n",
       "      <td>29.000000</td>\n",
       "      <td>3800000.000000</td>\n",
       "      <td>33.540000</td>\n",
       "      <td>6752.000000</td>\n",
       "      <td>626.000000</td>\n",
       "      <td>9.000000</td>\n",
       "      <td>39500000.000000</td>\n",
       "    </tr>\n",
       "  </tbody>\n",
       "</table>\n",
       "</div>"
      ],
      "text/plain": [
       "         Min new price    Max new price           Age       km_driven  \\\n",
       "count     17451.000000     17451.000000  17451.000000    17451.000000   \n",
       "mean    1360446.042576   1719557.629591      6.251046    56632.728898   \n",
       "std     2345930.933231   2620169.028603      3.061258    50483.104073   \n",
       "min      190000.000000    289000.000000      0.000000      100.000000   \n",
       "25%      598000.000000    742000.000000      4.000000    30000.000000   \n",
       "50%      803000.000000   1040000.000000      6.000000    50000.000000   \n",
       "75%     1263000.000000   1680000.000000      8.000000    71896.500000   \n",
       "max    91100000.000000  91100000.000000     29.000000  3800000.000000   \n",
       "\n",
       "            mileage        engine     max_power         seats    selling_price  \n",
       "count  17451.000000  17451.000000  17451.000000  17451.000000     17451.000000  \n",
       "mean      19.653189   1449.986820     97.368242      5.298779    711406.290585  \n",
       "std        4.000263    496.209358     39.961621      0.780572    826357.874816  \n",
       "min        4.000000      0.000000     34.200000      2.000000     34000.000000  \n",
       "25%       17.000000   1197.000000     73.900000      5.000000    350000.000000  \n",
       "50%       19.500000   1248.000000     86.700000      5.000000    525000.000000  \n",
       "75%       22.540000   1499.000000    108.600000      5.000000    775000.000000  \n",
       "max       33.540000   6752.000000    626.000000      9.000000  39500000.000000  "
      ]
     },
     "execution_count": 33,
     "metadata": {},
     "output_type": "execute_result"
    }
   ],
   "source": [
    "df_copy.describe().apply(lambda s: s.apply(lambda x: format(x, 'f')))"
   ]
  },
  {
   "cell_type": "code",
   "execution_count": null,
   "metadata": {},
   "outputs": [],
   "source": []
  },
  {
   "cell_type": "markdown",
   "metadata": {},
   "source": [
    "#### Age"
   ]
  },
  {
   "cell_type": "code",
   "execution_count": 34,
   "metadata": {},
   "outputs": [
    {
     "data": {
      "image/png": "[encoded data removed]",
      "text/plain": [
       "<Figure size 1080x360 with 2 Axes>"
      ]
     },
     "metadata": {},
     "output_type": "display_data"
    },
    {
     "data": {
      "text/plain": [
       "<Figure size 432x288 with 0 Axes>"
      ]
     },
     "metadata": {},
     "output_type": "display_data"
    }
   ],
   "source": [
    "sns.set_style('darkgrid')\n",
    "fig ,ax = plt.subplots(1,2,figsize = (15,5))\n",
    "sns.boxplot(df_copy['Age'],ax=ax[0])\n",
    "sns.distplot(df_copy['Age'],ax=ax[1])\n",
    "plt.show()\n",
    "plt.savefig('Age.png')"
   ]
  },
  {
   "cell_type": "code",
   "execution_count": 35,
   "metadata": {},
   "outputs": [
    {
     "name": "stdout",
     "output_type": "stream",
     "text": [
      "0.7844268872274894\n"
     ]
    }
   ],
   "source": [
    "print(df_copy['Age'].skew())"
   ]
  },
  {
   "cell_type": "code",
   "execution_count": 36,
   "metadata": {},
   "outputs": [
    {
     "name": "stdout",
     "output_type": "stream",
     "text": [
      "count    17451.000\n",
      "mean         6.251\n",
      "std          3.061\n",
      "min          0.000\n",
      "25%          4.000\n",
      "50%          6.000\n",
      "75%          8.000\n",
      "max         29.000\n",
      "Name: Age, dtype: float64\n"
     ]
    }
   ],
   "source": [
    "print(round(df_copy['Age'].describe(),3))"
   ]
  },
  {
   "cell_type": "code",
   "execution_count": null,
   "metadata": {},
   "outputs": [],
   "source": []
  },
  {
   "cell_type": "code",
   "execution_count": 37,
   "metadata": {},
   "outputs": [],
   "source": [
    "cat_cols = ['seller_type','owner_type','fuel_type','transmission_type','Maker','Model']"
   ]
  },
  {
   "cell_type": "markdown",
   "metadata": {},
   "source": [
    "# Categorical columns"
   ]
  },
  {
   "cell_type": "markdown",
   "metadata": {},
   "source": [
    "#### Seller Type"
   ]
  },
  {
   "cell_type": "code",
   "execution_count": 38,
   "metadata": {},
   "outputs": [
    {
     "data": {
      "image/png": "[encoded data removed]",
      "text/plain": [
       "<Figure size 360x288 with 1 Axes>"
      ]
     },
     "metadata": {},
     "output_type": "display_data"
    },
    {
     "data": {
      "text/plain": [
       "<Figure size 432x288 with 0 Axes>"
      ]
     },
     "metadata": {},
     "output_type": "display_data"
    }
   ],
   "source": [
    "plt.figure(figsize = (5,4))\n",
    "ax = sns.countplot(df_copy['seller_type'])\n",
    "for p in ax.patches:\n",
    "    ax.annotate(format(p.get_height()/df_copy['seller_type'].count()*100, '.2f'), (p.get_x() + p.get_width() / 2., p.get_height()), ha = 'center', va = 'center', xytext = (0, 10), textcoords = 'offset points')\n",
    "plt.show()\n",
    "plt.savefig('Seller Type.png')"
   ]
  },
  {
   "cell_type": "code",
   "execution_count": 39,
   "metadata": {},
   "outputs": [
    {
     "name": "stdout",
     "output_type": "stream",
     "text": [
      "Seller Type:\n",
      "\n",
      "Count:\n",
      "Dealer              10523\n",
      "Individual           6747\n",
      "Trustmark Dealer      181\n",
      "Name: seller_type, dtype: int64\n",
      "\n",
      "Percentage of classes\n",
      "Dealer              60.300269\n",
      "Individual          38.662541\n",
      "Trustmark Dealer     1.037190\n",
      "Name: seller_type, dtype: float64\n"
     ]
    }
   ],
   "source": [
    "print('Seller Type:\\n')\n",
    "print('Count:')\n",
    "print(df_copy['seller_type'].value_counts())\n",
    "print('\\nPercentage of classes')\n",
    "print(df_copy['seller_type'].value_counts()/len(df_copy['seller_type'])*100)"
   ]
  },
  {
   "cell_type": "code",
   "execution_count": null,
   "metadata": {},
   "outputs": [],
   "source": []
  },
  {
   "cell_type": "markdown",
   "metadata": {},
   "source": [
    "#### Owner Type"
   ]
  },
  {
   "cell_type": "code",
   "execution_count": 40,
   "metadata": {},
   "outputs": [
    {
     "data": {
      "image/png": "[encoded data removed]",
      "text/plain": [
       "<Figure size 360x288 with 1 Axes>"
      ]
     },
     "metadata": {},
     "output_type": "display_data"
    },
    {
     "data": {
      "text/plain": [
       "<Figure size 432x288 with 0 Axes>"
      ]
     },
     "metadata": {},
     "output_type": "display_data"
    }
   ],
   "source": [
    "plt.figure(figsize = (5,4))\n",
    "ax = sns.countplot(df_copy['owner_type'])\n",
    "for p in ax.patches:\n",
    "    ax.annotate(format(p.get_height()/df_copy['owner_type'].count()*100, '.2f'), (p.get_x() + p.get_width() / 2., p.get_height()), ha = 'center', va = 'center', xytext = (0, 10), textcoords = 'offset points')\n",
    "plt.show()\n",
    "plt.savefig('Qwner Type.png')"
   ]
  },
  {
   "cell_type": "code",
   "execution_count": 41,
   "metadata": {},
   "outputs": [
    {
     "name": "stdout",
     "output_type": "stream",
     "text": [
      "Owner Type:\n",
      "\n",
      "Count:\n",
      "First Owner     17448\n",
      "Second Owner        2\n",
      "Third Owner         1\n",
      "Name: owner_type, dtype: int64\n",
      "\n",
      "Percentage of classes\n",
      "First Owner     99.982809\n",
      "Second Owner     0.011461\n",
      "Third Owner      0.005730\n",
      "Name: owner_type, dtype: float64\n"
     ]
    }
   ],
   "source": [
    "print('Owner Type:\\n')\n",
    "print('Count:')\n",
    "print(df_copy['owner_type'].value_counts())\n",
    "print('\\nPercentage of classes')\n",
    "print(df_copy['owner_type'].value_counts()/len(df_copy['owner_type'])*100)"
   ]
  },
  {
   "cell_type": "code",
   "execution_count": null,
   "metadata": {},
   "outputs": [],
   "source": []
  },
  {
   "cell_type": "markdown",
   "metadata": {},
   "source": [
    "#### Fuel type"
   ]
  },
  {
   "cell_type": "code",
   "execution_count": 42,
   "metadata": {},
   "outputs": [
    {
     "data": {
      "image/png": "[encoded data removed]",
      "text/plain": [
       "<Figure size 360x288 with 1 Axes>"
      ]
     },
     "metadata": {},
     "output_type": "display_data"
    }
   ],
   "source": [
    "plt.figure(figsize = (5,4))\n",
    "ax = sns.countplot(df_copy['fuel_type'])\n",
    "for p in ax.patches:\n",
    "    ax.annotate(format(p.get_height()/df_copy['fuel_type'].count()*100, '.2f'), (p.get_x() + p.get_width() / 2., p.get_height()), ha = 'center', va = 'center', xytext = (0, 10), textcoords = 'offset points')\n",
    "plt.show()"
   ]
  },
  {
   "cell_type": "code",
   "execution_count": 43,
   "metadata": {},
   "outputs": [
    {
     "name": "stdout",
     "output_type": "stream",
     "text": [
      "Fuel Type:\n",
      "\n",
      "Count:\n",
      "Petrol      8926\n",
      "Diesel      8275\n",
      "CNG          192\n",
      "LPG           53\n",
      "Electric       5\n",
      "Name: fuel_type, dtype: int64\n",
      "\n",
      "Percentage of classes\n",
      "Petrol      51.148931\n",
      "Diesel      47.418486\n",
      "CNG          1.100223\n",
      "LPG          0.303708\n",
      "Electric     0.028652\n",
      "Name: fuel_type, dtype: float64\n"
     ]
    }
   ],
   "source": [
    "print('Fuel Type:\\n')\n",
    "print('Count:')\n",
    "print(df_copy['fuel_type'].value_counts())\n",
    "print('\\nPercentage of classes')\n",
    "print(df_copy['fuel_type'].value_counts()/len(df_copy['fuel_type'])*100)"
   ]
  },
  {
   "cell_type": "code",
   "execution_count": 44,
   "metadata": {},
   "outputs": [],
   "source": [
    "df_copy.drop(df_copy[df_copy['fuel_type'] == 'Electric'].index,inplace=True)"
   ]
  },
  {
   "cell_type": "code",
   "execution_count": 45,
   "metadata": {},
   "outputs": [],
   "source": [
    "df_copy.drop(df_copy[df_copy['fuel_type'] == 'LPG'].index,inplace=True)"
   ]
  },
  {
   "cell_type": "code",
   "execution_count": 46,
   "metadata": {},
   "outputs": [
    {
     "data": {
      "image/png": "[encoded data removed]",
      "text/plain": [
       "<Figure size 360x288 with 1 Axes>"
      ]
     },
     "metadata": {},
     "output_type": "display_data"
    },
    {
     "data": {
      "text/plain": [
       "<Figure size 432x288 with 0 Axes>"
      ]
     },
     "metadata": {},
     "output_type": "display_data"
    }
   ],
   "source": [
    "plt.figure(figsize = (5,4))\n",
    "ax = sns.countplot(df_copy['fuel_type'])\n",
    "for p in ax.patches:\n",
    "    ax.annotate(format(p.get_height()/df_copy['fuel_type'].count()*100, '.2f'), (p.get_x() + p.get_width() / 2., p.get_height()), ha = 'center', va = 'center', xytext = (0, 10), textcoords = 'offset points')\n",
    "plt.show()\n",
    "plt.savefig('Fuel Type.png')"
   ]
  },
  {
   "cell_type": "markdown",
   "metadata": {},
   "source": [
    "#### Transmission Type"
   ]
  },
  {
   "cell_type": "code",
   "execution_count": 47,
   "metadata": {},
   "outputs": [
    {
     "data": {
      "image/png": "[encoded data removed]",
      "text/plain": [
       "<Figure size 360x288 with 1 Axes>"
      ]
     },
     "metadata": {},
     "output_type": "display_data"
    },
    {
     "data": {
      "text/plain": [
       "<Figure size 432x288 with 0 Axes>"
      ]
     },
     "metadata": {},
     "output_type": "display_data"
    }
   ],
   "source": [
    "plt.figure(figsize = (5,4))\n",
    "ax = sns.countplot(df_copy['transmission_type'])\n",
    "for p in ax.patches:\n",
    "    ax.annotate(format(p.get_height()/df_copy['transmission_type'].count()*100, '.2f'), (p.get_x() + p.get_width() / 2., p.get_height()), ha = 'center', va = 'center', xytext = (0, 10), textcoords = 'offset points')\n",
    "plt.show()\n",
    "plt.savefig('Transmission Type.png')"
   ]
  },
  {
   "cell_type": "code",
   "execution_count": 48,
   "metadata": {},
   "outputs": [
    {
     "name": "stdout",
     "output_type": "stream",
     "text": [
      "Transnission Type:\n",
      "\n",
      "Count:\n",
      "Manual       14157\n",
      "Automatic     3236\n",
      "Name: transmission_type, dtype: int64\n",
      "\n",
      "Percentage of classes\n",
      "Manual       81.394814\n",
      "Automatic    18.605186\n",
      "Name: transmission_type, dtype: float64\n"
     ]
    }
   ],
   "source": [
    "print('Transnission Type:\\n')\n",
    "print('Count:')\n",
    "print(df_copy['transmission_type'].value_counts())\n",
    "print('\\nPercentage of classes')\n",
    "print(df_copy['transmission_type'].value_counts()/len(df_copy['transmission_type'])*100)"
   ]
  },
  {
   "cell_type": "code",
   "execution_count": null,
   "metadata": {},
   "outputs": [],
   "source": []
  },
  {
   "cell_type": "markdown",
   "metadata": {},
   "source": [
    "#### Maker"
   ]
  },
  {
   "cell_type": "code",
   "execution_count": 49,
   "metadata": {},
   "outputs": [
    {
     "data": {
      "image/png": "[encoded data removed]",
      "text/plain": [
       "<Figure size 720x360 with 1 Axes>"
      ]
     },
     "metadata": {},
     "output_type": "display_data"
    },
    {
     "data": {
      "text/plain": [
       "<Figure size 432x288 with 0 Axes>"
      ]
     },
     "metadata": {},
     "output_type": "display_data"
    }
   ],
   "source": [
    "plt.figure(figsize=(10,5))\n",
    "sns.countplot(x='Maker' , data=df_copy )\n",
    "plt.xticks(rotation=90);\n",
    "plt.title(\"Brands and no of items sold\");\n",
    "plt.show()\n",
    "plt.savefig('Maker.png')"
   ]
  },
  {
   "cell_type": "code",
   "execution_count": 50,
   "metadata": {},
   "outputs": [
    {
     "name": "stdout",
     "output_type": "stream",
     "text": [
      "Transnission Type:\n",
      "\n",
      "\n",
      "Percentage of classes\n",
      "MARUTI           29.730351\n",
      "HYUNDAI          20.008049\n",
      "HONDA             9.549819\n",
      "MAHINDRA          6.433623\n",
      "TOYOTA            5.996665\n",
      "FORD              4.846777\n",
      "VOLKSWAGEN        3.984362\n",
      "TATA              3.604899\n",
      "RENAULT           3.098948\n",
      "MERCEDES-BENZ     2.437762\n",
      "BMW               2.236532\n",
      "SKODA             1.598344\n",
      "CHEVROLET         1.581096\n",
      "NISSAN            1.293624\n",
      "AUDI              1.046398\n",
      "DATSUN            0.977405\n",
      "LAND              0.275973\n",
      "JEEP              0.252975\n",
      "FIAT              0.212729\n",
      "KIA               0.183982\n",
      "JAGUAR            0.166734\n",
      "MG                0.114989\n",
      "PORSCHE           0.103490\n",
      "VOLVO             0.074743\n",
      "ISUZU             0.057494\n",
      "LEXUS             0.045996\n",
      "MINI              0.034497\n",
      "BENTLEY           0.022998\n",
      "MASERATI          0.011499\n",
      "MERCEDES-AMG      0.005749\n",
      "ROLLS-ROYCE       0.005749\n",
      "FERRARI           0.005749\n",
      "Name: Maker, dtype: float64\n"
     ]
    }
   ],
   "source": [
    "print('Transnission Type:\\n')\n",
    "print('\\nPercentage of classes')\n",
    "print(df_copy['Maker'].value_counts()/len(df_copy['Maker'])*100)"
   ]
  },
  {
   "cell_type": "code",
   "execution_count": null,
   "metadata": {},
   "outputs": [],
   "source": []
  },
  {
   "cell_type": "markdown",
   "metadata": {},
   "source": [
    "#### Model"
   ]
  },
  {
   "cell_type": "code",
   "execution_count": 51,
   "metadata": {},
   "outputs": [
    {
     "data": {
      "text/plain": [
       "504"
      ]
     },
     "execution_count": 51,
     "metadata": {},
     "output_type": "execute_result"
    }
   ],
   "source": [
    "df_copy['Model'].nunique()"
   ]
  },
  {
   "cell_type": "code",
   "execution_count": 52,
   "metadata": {},
   "outputs": [
    {
     "data": {
      "text/html": [
       "<div>\n",
       "<style scoped>\n",
       "    .dataframe tbody tr th:only-of-type {\n",
       "        vertical-align: middle;\n",
       "    }\n",
       "\n",
       "    .dataframe tbody tr th {\n",
       "        vertical-align: top;\n",
       "    }\n",
       "\n",
       "    .dataframe thead th {\n",
       "        text-align: right;\n",
       "    }\n",
       "</style>\n",
       "<table border=\"1\" class=\"dataframe\">\n",
       "  <thead>\n",
       "    <tr style=\"text-align: right;\">\n",
       "      <th></th>\n",
       "      <th>Min new price</th>\n",
       "      <th>Max new price</th>\n",
       "      <th>Age</th>\n",
       "      <th>km_driven</th>\n",
       "      <th>mileage</th>\n",
       "      <th>engine</th>\n",
       "      <th>max_power</th>\n",
       "      <th>seats</th>\n",
       "      <th>selling_price</th>\n",
       "    </tr>\n",
       "  </thead>\n",
       "  <tbody>\n",
       "    <tr>\n",
       "      <th>count</th>\n",
       "      <td>17393.000000</td>\n",
       "      <td>17393.000000</td>\n",
       "      <td>17393.000000</td>\n",
       "      <td>17393.000000</td>\n",
       "      <td>17393.000000</td>\n",
       "      <td>17393.000000</td>\n",
       "      <td>17393.000000</td>\n",
       "      <td>17393.000000</td>\n",
       "      <td>17393.000000</td>\n",
       "    </tr>\n",
       "    <tr>\n",
       "      <th>mean</th>\n",
       "      <td>1363232.328465</td>\n",
       "      <td>1723149.611568</td>\n",
       "      <td>6.238832</td>\n",
       "      <td>56600.513022</td>\n",
       "      <td>19.658616</td>\n",
       "      <td>1451.753981</td>\n",
       "      <td>97.491329</td>\n",
       "      <td>5.299776</td>\n",
       "      <td>712795.617605</td>\n",
       "    </tr>\n",
       "    <tr>\n",
       "      <th>std</th>\n",
       "      <td>2349255.734242</td>\n",
       "      <td>2623718.488173</td>\n",
       "      <td>3.052213</td>\n",
       "      <td>50525.152587</td>\n",
       "      <td>4.000258</td>\n",
       "      <td>495.815814</td>\n",
       "      <td>39.962732</td>\n",
       "      <td>0.781682</td>\n",
       "      <td>827143.110579</td>\n",
       "    </tr>\n",
       "    <tr>\n",
       "      <th>min</th>\n",
       "      <td>190000.000000</td>\n",
       "      <td>289000.000000</td>\n",
       "      <td>0.000000</td>\n",
       "      <td>100.000000</td>\n",
       "      <td>4.000000</td>\n",
       "      <td>624.000000</td>\n",
       "      <td>34.200000</td>\n",
       "      <td>2.000000</td>\n",
       "      <td>34000.000000</td>\n",
       "    </tr>\n",
       "    <tr>\n",
       "      <th>25%</th>\n",
       "      <td>598000.000000</td>\n",
       "      <td>742000.000000</td>\n",
       "      <td>4.000000</td>\n",
       "      <td>30000.000000</td>\n",
       "      <td>17.000000</td>\n",
       "      <td>1197.000000</td>\n",
       "      <td>73.940000</td>\n",
       "      <td>5.000000</td>\n",
       "      <td>350000.000000</td>\n",
       "    </tr>\n",
       "    <tr>\n",
       "      <th>50%</th>\n",
       "      <td>806000.000000</td>\n",
       "      <td>1040000.000000</td>\n",
       "      <td>6.000000</td>\n",
       "      <td>50000.000000</td>\n",
       "      <td>19.500000</td>\n",
       "      <td>1248.000000</td>\n",
       "      <td>86.700000</td>\n",
       "      <td>5.000000</td>\n",
       "      <td>525000.000000</td>\n",
       "    </tr>\n",
       "    <tr>\n",
       "      <th>75%</th>\n",
       "      <td>1263000.000000</td>\n",
       "      <td>1682000.000000</td>\n",
       "      <td>8.000000</td>\n",
       "      <td>71441.000000</td>\n",
       "      <td>22.540000</td>\n",
       "      <td>1499.000000</td>\n",
       "      <td>108.600000</td>\n",
       "      <td>5.000000</td>\n",
       "      <td>775000.000000</td>\n",
       "    </tr>\n",
       "    <tr>\n",
       "      <th>max</th>\n",
       "      <td>91100000.000000</td>\n",
       "      <td>91100000.000000</td>\n",
       "      <td>29.000000</td>\n",
       "      <td>3800000.000000</td>\n",
       "      <td>33.540000</td>\n",
       "      <td>6752.000000</td>\n",
       "      <td>626.000000</td>\n",
       "      <td>9.000000</td>\n",
       "      <td>39500000.000000</td>\n",
       "    </tr>\n",
       "  </tbody>\n",
       "</table>\n",
       "</div>"
      ],
      "text/plain": [
       "         Min new price    Max new price           Age       km_driven  \\\n",
       "count     17393.000000     17393.000000  17393.000000    17393.000000   \n",
       "mean    1363232.328465   1723149.611568      6.238832    56600.513022   \n",
       "std     2349255.734242   2623718.488173      3.052213    50525.152587   \n",
       "min      190000.000000    289000.000000      0.000000      100.000000   \n",
       "25%      598000.000000    742000.000000      4.000000    30000.000000   \n",
       "50%      806000.000000   1040000.000000      6.000000    50000.000000   \n",
       "75%     1263000.000000   1682000.000000      8.000000    71441.000000   \n",
       "max    91100000.000000  91100000.000000     29.000000  3800000.000000   \n",
       "\n",
       "            mileage        engine     max_power         seats    selling_price  \n",
       "count  17393.000000  17393.000000  17393.000000  17393.000000     17393.000000  \n",
       "mean      19.658616   1451.753981     97.491329      5.299776    712795.617605  \n",
       "std        4.000258    495.815814     39.962732      0.781682    827143.110579  \n",
       "min        4.000000    624.000000     34.200000      2.000000     34000.000000  \n",
       "25%       17.000000   1197.000000     73.940000      5.000000    350000.000000  \n",
       "50%       19.500000   1248.000000     86.700000      5.000000    525000.000000  \n",
       "75%       22.540000   1499.000000    108.600000      5.000000    775000.000000  \n",
       "max       33.540000   6752.000000    626.000000      9.000000  39500000.000000  "
      ]
     },
     "execution_count": 52,
     "metadata": {},
     "output_type": "execute_result"
    }
   ],
   "source": [
    "df_copy.describe().apply(lambda s: s.apply(lambda x: format(x, 'f')))"
   ]
  },
  {
   "cell_type": "code",
   "execution_count": null,
   "metadata": {},
   "outputs": [],
   "source": []
  },
  {
   "cell_type": "markdown",
   "metadata": {},
   "source": [
    "# Bivariate Analysis (Independent feature vs Dependent feature)\n",
    "\n",
    "In the below bivariate analysis, each independent feature is compared with the target variable"
   ]
  },
  {
   "cell_type": "code",
   "execution_count": 53,
   "metadata": {},
   "outputs": [
    {
     "data": {
      "image/png": "[encoded data removed]",
      "text/plain": [
       "<Figure size 720x360 with 1 Axes>"
      ]
     },
     "metadata": {},
     "output_type": "display_data"
    },
    {
     "data": {
      "text/plain": [
       "<Figure size 432x288 with 0 Axes>"
      ]
     },
     "metadata": {},
     "output_type": "display_data"
    }
   ],
   "source": [
    "sns.set_style('darkgrid')\n",
    "plt.figure(figsize=(10,5))\n",
    "sns.boxplot(y='selling_price',x='fuel_type', data=df_copy)\n",
    "plt.title('Fuel Type vs Selling Price');\n",
    "plt.show()\n",
    "plt.savefig('Fuel Type vs Selling Price.png')"
   ]
  },
  {
   "cell_type": "code",
   "execution_count": null,
   "metadata": {},
   "outputs": [],
   "source": []
  },
  {
   "cell_type": "code",
   "execution_count": 54,
   "metadata": {},
   "outputs": [
    {
     "data": {
      "image/png": "[encoded data removed]",
      "text/plain": [
       "<Figure size 720x360 with 1 Axes>"
      ]
     },
     "metadata": {},
     "output_type": "display_data"
    },
    {
     "data": {
      "text/plain": [
       "<Figure size 432x288 with 0 Axes>"
      ]
     },
     "metadata": {},
     "output_type": "display_data"
    }
   ],
   "source": [
    "sns.set_style('darkgrid')\n",
    "plt.figure(figsize=(10,5))\n",
    "sns.boxplot(y='selling_price',x='owner_type', data=df_copy)\n",
    "plt.title('Owner Type vs Selling Price');\n",
    "plt.show()\n",
    "plt.savefig('Owner Type vs Selling Price.png')"
   ]
  },
  {
   "cell_type": "code",
   "execution_count": null,
   "metadata": {},
   "outputs": [],
   "source": []
  },
  {
   "cell_type": "code",
   "execution_count": 55,
   "metadata": {},
   "outputs": [
    {
     "data": {
      "image/png": "[encoded data removed]",
      "text/plain": [
       "<Figure size 720x360 with 1 Axes>"
      ]
     },
     "metadata": {},
     "output_type": "display_data"
    },
    {
     "data": {
      "text/plain": [
       "<Figure size 432x288 with 0 Axes>"
      ]
     },
     "metadata": {},
     "output_type": "display_data"
    }
   ],
   "source": [
    "sns.set_style('darkgrid')\n",
    "plt.figure(figsize=(10,5))\n",
    "sns.boxplot(y='selling_price',x='seller_type', data=df_copy)\n",
    "plt.title('Seller Type vs Selling Price');\n",
    "plt.show()\n",
    "plt.savefig('Seller Type vs Selling Price.png')"
   ]
  },
  {
   "cell_type": "code",
   "execution_count": null,
   "metadata": {},
   "outputs": [],
   "source": []
  },
  {
   "cell_type": "code",
   "execution_count": 56,
   "metadata": {},
   "outputs": [
    {
     "data": {
      "image/png": "[encoded data removed]",
      "text/plain": [
       "<Figure size 720x360 with 1 Axes>"
      ]
     },
     "metadata": {},
     "output_type": "display_data"
    },
    {
     "data": {
      "text/plain": [
       "<Figure size 432x288 with 0 Axes>"
      ]
     },
     "metadata": {},
     "output_type": "display_data"
    }
   ],
   "source": [
    "sns.set_style('darkgrid')\n",
    "plt.figure(figsize=(10,5))\n",
    "sns.boxplot(y='selling_price',x='transmission_type', data=df_copy)\n",
    "plt.title('Transmission Type vs Selling Price');\n",
    "plt.show()\n",
    "plt.savefig('Transmission Type vs Selling Price.png')"
   ]
  },
  {
   "cell_type": "code",
   "execution_count": 57,
   "metadata": {},
   "outputs": [
    {
     "data": {
      "text/plain": [
       "Index(['Maker', 'Model', 'Min new price', 'Max new price', 'Age', 'km_driven',\n",
       "       'seller_type', 'owner_type', 'fuel_type', 'transmission_type',\n",
       "       'mileage', 'engine', 'max_power', 'seats', 'selling_price'],\n",
       "      dtype='object')"
      ]
     },
     "execution_count": 57,
     "metadata": {},
     "output_type": "execute_result"
    }
   ],
   "source": [
    "df_copy.columns"
   ]
  },
  {
   "cell_type": "code",
   "execution_count": 58,
   "metadata": {
    "scrolled": true
   },
   "outputs": [
    {
     "data": {
      "text/plain": [
       "Min new price    11.779131\n",
       "Max new price     9.536543\n",
       "Age               0.790046\n",
       "km_driven        26.780228\n",
       "mileage           0.101613\n",
       "engine            1.745960\n",
       "max_power         2.499324\n",
       "seats             2.219170\n",
       "selling_price    11.917024\n",
       "dtype: float64"
      ]
     },
     "execution_count": 58,
     "metadata": {},
     "output_type": "execute_result"
    }
   ],
   "source": [
    "df_copy.skew()"
   ]
  },
  {
   "cell_type": "markdown",
   "metadata": {},
   "source": [
    "## Treating Outlier :-  "
   ]
  },
  {
   "cell_type": "code",
   "execution_count": 59,
   "metadata": {},
   "outputs": [],
   "source": [
    "import math"
   ]
  },
  {
   "cell_type": "code",
   "execution_count": 60,
   "metadata": {},
   "outputs": [
    {
     "data": {
      "image/png": "[encoded data removed]",
      "text/plain": [
       "<Figure size 1152x576 with 1 Axes>"
      ]
     },
     "metadata": {},
     "output_type": "display_data"
    },
    {
     "data": {
      "text/plain": [
       "<Figure size 432x288 with 0 Axes>"
      ]
     },
     "metadata": {},
     "output_type": "display_data"
    }
   ],
   "source": [
    "plt.figure(figsize=(16,8))\n",
    "sns.boxplot(data=df_copy, orient='h')\n",
    "plt.show()\n",
    "plt.savefig('Outlier.png')"
   ]
  },
  {
   "cell_type": "code",
   "execution_count": 61,
   "metadata": {},
   "outputs": [],
   "source": [
    "df_copy['km_driven_sqrt_TB'] = np.sqrt(df_copy['km_driven'])"
   ]
  },
  {
   "cell_type": "code",
   "execution_count": 62,
   "metadata": {},
   "outputs": [
    {
     "data": {
      "text/html": [
       "<div>\n",
       "<style scoped>\n",
       "    .dataframe tbody tr th:only-of-type {\n",
       "        vertical-align: middle;\n",
       "    }\n",
       "\n",
       "    .dataframe tbody tr th {\n",
       "        vertical-align: top;\n",
       "    }\n",
       "\n",
       "    .dataframe thead th {\n",
       "        text-align: right;\n",
       "    }\n",
       "</style>\n",
       "<table border=\"1\" class=\"dataframe\">\n",
       "  <thead>\n",
       "    <tr style=\"text-align: right;\">\n",
       "      <th></th>\n",
       "      <th>Maker</th>\n",
       "      <th>Model</th>\n",
       "      <th>Min new price</th>\n",
       "      <th>Max new price</th>\n",
       "      <th>Age</th>\n",
       "      <th>km_driven</th>\n",
       "      <th>seller_type</th>\n",
       "      <th>owner_type</th>\n",
       "      <th>fuel_type</th>\n",
       "      <th>transmission_type</th>\n",
       "      <th>mileage</th>\n",
       "      <th>engine</th>\n",
       "      <th>max_power</th>\n",
       "      <th>seats</th>\n",
       "      <th>selling_price</th>\n",
       "      <th>km_driven_sqrt_TB</th>\n",
       "    </tr>\n",
       "  </thead>\n",
       "  <tbody>\n",
       "    <tr>\n",
       "      <th>0</th>\n",
       "      <td>MARUTI</td>\n",
       "      <td>ALTO STD</td>\n",
       "      <td>299800.0</td>\n",
       "      <td>299800.0</td>\n",
       "      <td>9.0</td>\n",
       "      <td>120000.0</td>\n",
       "      <td>Individual</td>\n",
       "      <td>First Owner</td>\n",
       "      <td>Petrol</td>\n",
       "      <td>Manual</td>\n",
       "      <td>19.7</td>\n",
       "      <td>796.0</td>\n",
       "      <td>46.3</td>\n",
       "      <td>5.0</td>\n",
       "      <td>120000.0</td>\n",
       "      <td>346.410162</td>\n",
       "    </tr>\n",
       "  </tbody>\n",
       "</table>\n",
       "</div>"
      ],
      "text/plain": [
       "    Maker     Model  Min new price  Max new price  Age  km_driven seller_type  \\\n",
       "0  MARUTI  ALTO STD       299800.0       299800.0  9.0   120000.0  Individual   \n",
       "\n",
       "    owner_type fuel_type transmission_type  mileage  engine  max_power  seats  \\\n",
       "0  First Owner    Petrol            Manual     19.7   796.0       46.3    5.0   \n",
       "\n",
       "   selling_price  km_driven_sqrt_TB  \n",
       "0       120000.0         346.410162  "
      ]
     },
     "execution_count": 62,
     "metadata": {},
     "output_type": "execute_result"
    }
   ],
   "source": [
    "df_copy.head(1)"
   ]
  },
  {
   "cell_type": "code",
   "execution_count": 63,
   "metadata": {},
   "outputs": [
    {
     "data": {
      "text/plain": [
       "1.367515664249313"
      ]
     },
     "execution_count": 63,
     "metadata": {},
     "output_type": "execute_result"
    }
   ],
   "source": [
    "df_copy['km_driven_sqrt_TB'].skew()"
   ]
  },
  {
   "cell_type": "code",
   "execution_count": 64,
   "metadata": {},
   "outputs": [],
   "source": [
    "df_copy['km_driven_log_TB'] = np.log(df_copy['km_driven'])"
   ]
  },
  {
   "cell_type": "code",
   "execution_count": 65,
   "metadata": {},
   "outputs": [
    {
     "data": {
      "text/plain": [
       "-1.058771625695737"
      ]
     },
     "execution_count": 65,
     "metadata": {},
     "output_type": "execute_result"
    }
   ],
   "source": [
    "df_copy['km_driven_log_TB'].skew()"
   ]
  },
  {
   "cell_type": "code",
   "execution_count": 66,
   "metadata": {},
   "outputs": [
    {
     "data": {
      "text/plain": [
       "<matplotlib.axes._subplots.AxesSubplot at 0x1857749fb88>"
      ]
     },
     "execution_count": 66,
     "metadata": {},
     "output_type": "execute_result"
    },
    {
     "data": {
      "image/png": "[encoded data removed]",
      "text/plain": [
       "<Figure size 432x288 with 1 Axes>"
      ]
     },
     "metadata": {},
     "output_type": "display_data"
    }
   ],
   "source": [
    "sns.distplot(df_copy['km_driven_log_TB'])"
   ]
  },
  {
   "cell_type": "code",
   "execution_count": 67,
   "metadata": {},
   "outputs": [
    {
     "data": {
      "text/plain": [
       "<matplotlib.axes._subplots.AxesSubplot at 0x18577638188>"
      ]
     },
     "execution_count": 67,
     "metadata": {},
     "output_type": "execute_result"
    },
    {
     "data": {
      "image/png": "[encoded data removed]",
      "text/plain": [
       "<Figure size 432x288 with 1 Axes>"
      ]
     },
     "metadata": {},
     "output_type": "display_data"
    }
   ],
   "source": [
    "sns.distplot(df_copy['km_driven_sqrt_TB'])"
   ]
  },
  {
   "cell_type": "code",
   "execution_count": null,
   "metadata": {},
   "outputs": [],
   "source": []
  },
  {
   "cell_type": "code",
   "execution_count": null,
   "metadata": {},
   "outputs": [],
   "source": []
  },
  {
   "cell_type": "code",
   "execution_count": 68,
   "metadata": {},
   "outputs": [],
   "source": [
    "df_copy['selling_price_sqrt_TB'] = np.log(df_copy['selling_price'])"
   ]
  },
  {
   "cell_type": "code",
   "execution_count": 69,
   "metadata": {},
   "outputs": [
    {
     "data": {
      "text/plain": [
       "0.419440437772616"
      ]
     },
     "execution_count": 69,
     "metadata": {},
     "output_type": "execute_result"
    }
   ],
   "source": [
    "df_copy['selling_price_sqrt_TB'].skew()"
   ]
  },
  {
   "cell_type": "code",
   "execution_count": 70,
   "metadata": {},
   "outputs": [
    {
     "data": {
      "text/plain": [
       "<matplotlib.axes._subplots.AxesSubplot at 0x1857770ea88>"
      ]
     },
     "execution_count": 70,
     "metadata": {},
     "output_type": "execute_result"
    },
    {
     "data": {
      "image/png": "[encoded data removed]",
      "text/plain": [
       "<Figure size 432x288 with 1 Axes>"
      ]
     },
     "metadata": {},
     "output_type": "display_data"
    }
   ],
   "source": [
    "sns.distplot(df_copy['selling_price_sqrt_TB'])"
   ]
  },
  {
   "cell_type": "code",
   "execution_count": 71,
   "metadata": {},
   "outputs": [],
   "source": [
    "df_copy['selling_price_log_TB'] = np.log(df_copy['selling_price'])"
   ]
  },
  {
   "cell_type": "code",
   "execution_count": 72,
   "metadata": {},
   "outputs": [
    {
     "data": {
      "text/plain": [
       "0.419440437772616"
      ]
     },
     "execution_count": 72,
     "metadata": {},
     "output_type": "execute_result"
    }
   ],
   "source": [
    "df_copy['selling_price_log_TB'].skew()"
   ]
  },
  {
   "cell_type": "code",
   "execution_count": 73,
   "metadata": {},
   "outputs": [
    {
     "data": {
      "text/plain": [
       "<matplotlib.axes._subplots.AxesSubplot at 0x1857770e748>"
      ]
     },
     "execution_count": 73,
     "metadata": {},
     "output_type": "execute_result"
    },
    {
     "data": {
      "image/png": "[encoded data removed]",
      "text/plain": [
       "<Figure size 432x288 with 1 Axes>"
      ]
     },
     "metadata": {},
     "output_type": "display_data"
    }
   ],
   "source": [
    "sns.distplot(df_copy['selling_price_log_TB'])"
   ]
  },
  {
   "cell_type": "code",
   "execution_count": null,
   "metadata": {},
   "outputs": [],
   "source": []
  },
  {
   "cell_type": "code",
   "execution_count": null,
   "metadata": {},
   "outputs": [],
   "source": []
  },
  {
   "cell_type": "code",
   "execution_count": 74,
   "metadata": {},
   "outputs": [],
   "source": [
    "df_copy['Max new price_log_TB'] = np.log(df_copy['Max new price'])"
   ]
  },
  {
   "cell_type": "code",
   "execution_count": 75,
   "metadata": {},
   "outputs": [
    {
     "data": {
      "text/plain": [
       "1.2520445785906245"
      ]
     },
     "execution_count": 75,
     "metadata": {},
     "output_type": "execute_result"
    }
   ],
   "source": [
    "df_copy['Max new price_log_TB'].skew()"
   ]
  },
  {
   "cell_type": "code",
   "execution_count": 76,
   "metadata": {},
   "outputs": [
    {
     "data": {
      "text/plain": [
       "<matplotlib.axes._subplots.AxesSubplot at 0x1857751a788>"
      ]
     },
     "execution_count": 76,
     "metadata": {},
     "output_type": "execute_result"
    },
    {
     "data": {
      "image/png": "[encoded data removed]",
      "text/plain": [
       "<Figure size 432x288 with 1 Axes>"
      ]
     },
     "metadata": {},
     "output_type": "display_data"
    }
   ],
   "source": [
    "sns.distplot(df_copy['Max new price_log_TB'])"
   ]
  },
  {
   "cell_type": "code",
   "execution_count": 77,
   "metadata": {},
   "outputs": [],
   "source": [
    "df_copy['Min new price_log_TB'] = np.log(df_copy['Min new price'])"
   ]
  },
  {
   "cell_type": "code",
   "execution_count": 78,
   "metadata": {},
   "outputs": [
    {
     "data": {
      "text/plain": [
       "1.4129174870901442"
      ]
     },
     "execution_count": 78,
     "metadata": {},
     "output_type": "execute_result"
    }
   ],
   "source": [
    "df_copy['Min new price_log_TB'].skew()"
   ]
  },
  {
   "cell_type": "code",
   "execution_count": 79,
   "metadata": {},
   "outputs": [
    {
     "data": {
      "text/plain": [
       "<matplotlib.axes._subplots.AxesSubplot at 0x18577261608>"
      ]
     },
     "execution_count": 79,
     "metadata": {},
     "output_type": "execute_result"
    },
    {
     "data": {
      "image/png": "[encoded data removed]",
      "text/plain": [
       "<Figure size 432x288 with 1 Axes>"
      ]
     },
     "metadata": {},
     "output_type": "display_data"
    }
   ],
   "source": [
    "sns.distplot(df_copy['Min new price_log_TB'])"
   ]
  },
  {
   "cell_type": "code",
   "execution_count": 80,
   "metadata": {
    "scrolled": true
   },
   "outputs": [
    {
     "data": {
      "text/plain": [
       "Min new price            11.779131\n",
       "Max new price             9.536543\n",
       "Age                       0.790046\n",
       "km_driven                26.780228\n",
       "mileage                   0.101613\n",
       "engine                    1.745960\n",
       "max_power                 2.499324\n",
       "seats                     2.219170\n",
       "selling_price            11.917024\n",
       "km_driven_sqrt_TB         1.367516\n",
       "km_driven_log_TB         -1.058772\n",
       "selling_price_sqrt_TB     0.419440\n",
       "selling_price_log_TB      0.419440\n",
       "Max new price_log_TB      1.252045\n",
       "Min new price_log_TB      1.412917\n",
       "dtype: float64"
      ]
     },
     "execution_count": 80,
     "metadata": {},
     "output_type": "execute_result"
    }
   ],
   "source": [
    "df_copy.skew()"
   ]
  },
  {
   "cell_type": "code",
   "execution_count": 81,
   "metadata": {},
   "outputs": [
    {
     "data": {
      "text/plain": [
       "<matplotlib.axes._subplots.AxesSubplot at 0x1857788e2c8>"
      ]
     },
     "execution_count": 81,
     "metadata": {},
     "output_type": "execute_result"
    },
    {
     "data": {
      "image/png": "[encoded data removed]",
      "text/plain": [
       "<Figure size 1152x576 with 1 Axes>"
      ]
     },
     "metadata": {},
     "output_type": "display_data"
    }
   ],
   "source": [
    "plt.figure(figsize=(16,8))\n",
    "sns.boxplot(data=df_copy, orient='h')"
   ]
  },
  {
   "cell_type": "code",
   "execution_count": 82,
   "metadata": {
    "scrolled": true
   },
   "outputs": [
    {
     "data": {
      "text/html": [
       "<div>\n",
       "<style scoped>\n",
       "    .dataframe tbody tr th:only-of-type {\n",
       "        vertical-align: middle;\n",
       "    }\n",
       "\n",
       "    .dataframe tbody tr th {\n",
       "        vertical-align: top;\n",
       "    }\n",
       "\n",
       "    .dataframe thead th {\n",
       "        text-align: right;\n",
       "    }\n",
       "</style>\n",
       "<table border=\"1\" class=\"dataframe\">\n",
       "  <thead>\n",
       "    <tr style=\"text-align: right;\">\n",
       "      <th></th>\n",
       "      <th>Maker</th>\n",
       "      <th>Model</th>\n",
       "      <th>Min new price</th>\n",
       "      <th>Max new price</th>\n",
       "      <th>Age</th>\n",
       "      <th>km_driven</th>\n",
       "      <th>seller_type</th>\n",
       "      <th>owner_type</th>\n",
       "      <th>fuel_type</th>\n",
       "      <th>transmission_type</th>\n",
       "      <th>...</th>\n",
       "      <th>engine</th>\n",
       "      <th>max_power</th>\n",
       "      <th>seats</th>\n",
       "      <th>selling_price</th>\n",
       "      <th>km_driven_sqrt_TB</th>\n",
       "      <th>km_driven_log_TB</th>\n",
       "      <th>selling_price_sqrt_TB</th>\n",
       "      <th>selling_price_log_TB</th>\n",
       "      <th>Max new price_log_TB</th>\n",
       "      <th>Min new price_log_TB</th>\n",
       "    </tr>\n",
       "  </thead>\n",
       "  <tbody>\n",
       "    <tr>\n",
       "      <th>0</th>\n",
       "      <td>MARUTI</td>\n",
       "      <td>ALTO STD</td>\n",
       "      <td>299800.0</td>\n",
       "      <td>299800.0</td>\n",
       "      <td>9.0</td>\n",
       "      <td>120000.0</td>\n",
       "      <td>Individual</td>\n",
       "      <td>First Owner</td>\n",
       "      <td>Petrol</td>\n",
       "      <td>Manual</td>\n",
       "      <td>...</td>\n",
       "      <td>796.0</td>\n",
       "      <td>46.30</td>\n",
       "      <td>5.0</td>\n",
       "      <td>120000.0</td>\n",
       "      <td>346.410162</td>\n",
       "      <td>11.695247</td>\n",
       "      <td>11.695247</td>\n",
       "      <td>11.695247</td>\n",
       "      <td>12.610871</td>\n",
       "      <td>12.610871</td>\n",
       "    </tr>\n",
       "    <tr>\n",
       "      <th>1</th>\n",
       "      <td>HYUNDAI</td>\n",
       "      <td>GRAND I10</td>\n",
       "      <td>711000.0</td>\n",
       "      <td>748000.0</td>\n",
       "      <td>5.0</td>\n",
       "      <td>20000.0</td>\n",
       "      <td>Individual</td>\n",
       "      <td>First Owner</td>\n",
       "      <td>Petrol</td>\n",
       "      <td>Manual</td>\n",
       "      <td>...</td>\n",
       "      <td>1197.0</td>\n",
       "      <td>82.00</td>\n",
       "      <td>5.0</td>\n",
       "      <td>550000.0</td>\n",
       "      <td>141.421356</td>\n",
       "      <td>9.903488</td>\n",
       "      <td>13.217674</td>\n",
       "      <td>13.217674</td>\n",
       "      <td>13.525158</td>\n",
       "      <td>13.474428</td>\n",
       "    </tr>\n",
       "    <tr>\n",
       "      <th>2</th>\n",
       "      <td>HYUNDAI</td>\n",
       "      <td>I20 ASTA</td>\n",
       "      <td>791000.0</td>\n",
       "      <td>1324000.0</td>\n",
       "      <td>11.0</td>\n",
       "      <td>60000.0</td>\n",
       "      <td>Individual</td>\n",
       "      <td>First Owner</td>\n",
       "      <td>Petrol</td>\n",
       "      <td>Manual</td>\n",
       "      <td>...</td>\n",
       "      <td>1197.0</td>\n",
       "      <td>80.00</td>\n",
       "      <td>5.0</td>\n",
       "      <td>215000.0</td>\n",
       "      <td>244.948974</td>\n",
       "      <td>11.002100</td>\n",
       "      <td>12.278393</td>\n",
       "      <td>12.278393</td>\n",
       "      <td>14.096168</td>\n",
       "      <td>13.581053</td>\n",
       "    </tr>\n",
       "    <tr>\n",
       "      <th>3</th>\n",
       "      <td>MARUTI</td>\n",
       "      <td>ALTO K10</td>\n",
       "      <td>356000.0</td>\n",
       "      <td>451000.0</td>\n",
       "      <td>9.0</td>\n",
       "      <td>37000.0</td>\n",
       "      <td>Individual</td>\n",
       "      <td>First Owner</td>\n",
       "      <td>Petrol</td>\n",
       "      <td>Manual</td>\n",
       "      <td>...</td>\n",
       "      <td>998.0</td>\n",
       "      <td>67.10</td>\n",
       "      <td>5.0</td>\n",
       "      <td>226000.0</td>\n",
       "      <td>192.353841</td>\n",
       "      <td>10.518673</td>\n",
       "      <td>12.328290</td>\n",
       "      <td>12.328290</td>\n",
       "      <td>13.019223</td>\n",
       "      <td>12.782686</td>\n",
       "    </tr>\n",
       "    <tr>\n",
       "      <th>4</th>\n",
       "      <td>FORD</td>\n",
       "      <td>ECOSPORT 2015-2021</td>\n",
       "      <td>1014000.0</td>\n",
       "      <td>1379000.0</td>\n",
       "      <td>6.0</td>\n",
       "      <td>30000.0</td>\n",
       "      <td>Dealer</td>\n",
       "      <td>First Owner</td>\n",
       "      <td>Diesel</td>\n",
       "      <td>Manual</td>\n",
       "      <td>...</td>\n",
       "      <td>1498.0</td>\n",
       "      <td>98.59</td>\n",
       "      <td>5.0</td>\n",
       "      <td>570000.0</td>\n",
       "      <td>173.205081</td>\n",
       "      <td>10.308953</td>\n",
       "      <td>13.253392</td>\n",
       "      <td>13.253392</td>\n",
       "      <td>14.136869</td>\n",
       "      <td>13.829413</td>\n",
       "    </tr>\n",
       "  </tbody>\n",
       "</table>\n",
       "<p>5 rows × 21 columns</p>\n",
       "</div>"
      ],
      "text/plain": [
       "     Maker               Model  Min new price  Max new price   Age  km_driven  \\\n",
       "0   MARUTI            ALTO STD       299800.0       299800.0   9.0   120000.0   \n",
       "1  HYUNDAI           GRAND I10       711000.0       748000.0   5.0    20000.0   \n",
       "2  HYUNDAI            I20 ASTA       791000.0      1324000.0  11.0    60000.0   \n",
       "3   MARUTI            ALTO K10       356000.0       451000.0   9.0    37000.0   \n",
       "4     FORD  ECOSPORT 2015-2021      1014000.0      1379000.0   6.0    30000.0   \n",
       "\n",
       "  seller_type   owner_type fuel_type transmission_type  ...  engine  \\\n",
       "0  Individual  First Owner    Petrol            Manual  ...   796.0   \n",
       "1  Individual  First Owner    Petrol            Manual  ...  1197.0   \n",
       "2  Individual  First Owner    Petrol            Manual  ...  1197.0   \n",
       "3  Individual  First Owner    Petrol            Manual  ...   998.0   \n",
       "4      Dealer  First Owner    Diesel            Manual  ...  1498.0   \n",
       "\n",
       "   max_power  seats  selling_price  km_driven_sqrt_TB  km_driven_log_TB  \\\n",
       "0      46.30    5.0       120000.0         346.410162         11.695247   \n",
       "1      82.00    5.0       550000.0         141.421356          9.903488   \n",
       "2      80.00    5.0       215000.0         244.948974         11.002100   \n",
       "3      67.10    5.0       226000.0         192.353841         10.518673   \n",
       "4      98.59    5.0       570000.0         173.205081         10.308953   \n",
       "\n",
       "   selling_price_sqrt_TB  selling_price_log_TB  Max new price_log_TB  \\\n",
       "0              11.695247             11.695247             12.610871   \n",
       "1              13.217674             13.217674             13.525158   \n",
       "2              12.278393             12.278393             14.096168   \n",
       "3              12.328290             12.328290             13.019223   \n",
       "4              13.253392             13.253392             14.136869   \n",
       "\n",
       "   Min new price_log_TB  \n",
       "0             12.610871  \n",
       "1             13.474428  \n",
       "2             13.581053  \n",
       "3             12.782686  \n",
       "4             13.829413  \n",
       "\n",
       "[5 rows x 21 columns]"
      ]
     },
     "execution_count": 82,
     "metadata": {},
     "output_type": "execute_result"
    }
   ],
   "source": [
    "df_copy.head()"
   ]
  },
  {
   "cell_type": "code",
   "execution_count": 83,
   "metadata": {},
   "outputs": [],
   "source": [
    "df_copy.drop(df_copy[df_copy['Max new price'] > 10000000].index, inplace=True)\n",
    "df_copy.drop(df_copy[df_copy['selling_price'] > 10000000].index, inplace=True)\n",
    "df_copy.drop(df_copy[df_copy['Min new price'] > 10000000].index, inplace=True)"
   ]
  },
  {
   "cell_type": "code",
   "execution_count": 84,
   "metadata": {
    "scrolled": true
   },
   "outputs": [
    {
     "data": {
      "text/plain": [
       "<matplotlib.axes._subplots.AxesSubplot at 0x18577626c08>"
      ]
     },
     "execution_count": 84,
     "metadata": {},
     "output_type": "execute_result"
    },
    {
     "data": {
      "image/png": "[encoded data removed]",
      "text/plain": [
       "<Figure size 1152x576 with 1 Axes>"
      ]
     },
     "metadata": {},
     "output_type": "display_data"
    }
   ],
   "source": [
    "plt.figure(figsize=(16,8))\n",
    "sns.boxplot(data=df_copy, orient='h')"
   ]
  },
  {
   "cell_type": "code",
   "execution_count": 85,
   "metadata": {},
   "outputs": [
    {
     "data": {
      "text/plain": [
       "(17200, 21)"
      ]
     },
     "execution_count": 85,
     "metadata": {},
     "output_type": "execute_result"
    }
   ],
   "source": [
    "df_copy.shape"
   ]
  },
  {
   "cell_type": "code",
   "execution_count": 86,
   "metadata": {
    "scrolled": true
   },
   "outputs": [
    {
     "data": {
      "text/html": [
       "<div>\n",
       "<style scoped>\n",
       "    .dataframe tbody tr th:only-of-type {\n",
       "        vertical-align: middle;\n",
       "    }\n",
       "\n",
       "    .dataframe tbody tr th {\n",
       "        vertical-align: top;\n",
       "    }\n",
       "\n",
       "    .dataframe thead th {\n",
       "        text-align: right;\n",
       "    }\n",
       "</style>\n",
       "<table border=\"1\" class=\"dataframe\">\n",
       "  <thead>\n",
       "    <tr style=\"text-align: right;\">\n",
       "      <th></th>\n",
       "      <th>Maker</th>\n",
       "      <th>Model</th>\n",
       "      <th>Min new price</th>\n",
       "      <th>Max new price</th>\n",
       "      <th>Age</th>\n",
       "      <th>km_driven</th>\n",
       "      <th>seller_type</th>\n",
       "      <th>owner_type</th>\n",
       "      <th>fuel_type</th>\n",
       "      <th>transmission_type</th>\n",
       "      <th>...</th>\n",
       "      <th>engine</th>\n",
       "      <th>max_power</th>\n",
       "      <th>seats</th>\n",
       "      <th>selling_price</th>\n",
       "      <th>km_driven_sqrt_TB</th>\n",
       "      <th>km_driven_log_TB</th>\n",
       "      <th>selling_price_sqrt_TB</th>\n",
       "      <th>selling_price_log_TB</th>\n",
       "      <th>Max new price_log_TB</th>\n",
       "      <th>Min new price_log_TB</th>\n",
       "    </tr>\n",
       "  </thead>\n",
       "  <tbody>\n",
       "    <tr>\n",
       "      <th>0</th>\n",
       "      <td>MARUTI</td>\n",
       "      <td>ALTO STD</td>\n",
       "      <td>299800.0</td>\n",
       "      <td>299800.0</td>\n",
       "      <td>9.0</td>\n",
       "      <td>120000.0</td>\n",
       "      <td>Individual</td>\n",
       "      <td>First Owner</td>\n",
       "      <td>Petrol</td>\n",
       "      <td>Manual</td>\n",
       "      <td>...</td>\n",
       "      <td>796.0</td>\n",
       "      <td>46.30</td>\n",
       "      <td>5.0</td>\n",
       "      <td>120000.0</td>\n",
       "      <td>346.410162</td>\n",
       "      <td>11.695247</td>\n",
       "      <td>11.695247</td>\n",
       "      <td>11.695247</td>\n",
       "      <td>12.610871</td>\n",
       "      <td>12.610871</td>\n",
       "    </tr>\n",
       "    <tr>\n",
       "      <th>1</th>\n",
       "      <td>HYUNDAI</td>\n",
       "      <td>GRAND I10</td>\n",
       "      <td>711000.0</td>\n",
       "      <td>748000.0</td>\n",
       "      <td>5.0</td>\n",
       "      <td>20000.0</td>\n",
       "      <td>Individual</td>\n",
       "      <td>First Owner</td>\n",
       "      <td>Petrol</td>\n",
       "      <td>Manual</td>\n",
       "      <td>...</td>\n",
       "      <td>1197.0</td>\n",
       "      <td>82.00</td>\n",
       "      <td>5.0</td>\n",
       "      <td>550000.0</td>\n",
       "      <td>141.421356</td>\n",
       "      <td>9.903488</td>\n",
       "      <td>13.217674</td>\n",
       "      <td>13.217674</td>\n",
       "      <td>13.525158</td>\n",
       "      <td>13.474428</td>\n",
       "    </tr>\n",
       "    <tr>\n",
       "      <th>2</th>\n",
       "      <td>HYUNDAI</td>\n",
       "      <td>I20 ASTA</td>\n",
       "      <td>791000.0</td>\n",
       "      <td>1324000.0</td>\n",
       "      <td>11.0</td>\n",
       "      <td>60000.0</td>\n",
       "      <td>Individual</td>\n",
       "      <td>First Owner</td>\n",
       "      <td>Petrol</td>\n",
       "      <td>Manual</td>\n",
       "      <td>...</td>\n",
       "      <td>1197.0</td>\n",
       "      <td>80.00</td>\n",
       "      <td>5.0</td>\n",
       "      <td>215000.0</td>\n",
       "      <td>244.948974</td>\n",
       "      <td>11.002100</td>\n",
       "      <td>12.278393</td>\n",
       "      <td>12.278393</td>\n",
       "      <td>14.096168</td>\n",
       "      <td>13.581053</td>\n",
       "    </tr>\n",
       "    <tr>\n",
       "      <th>3</th>\n",
       "      <td>MARUTI</td>\n",
       "      <td>ALTO K10</td>\n",
       "      <td>356000.0</td>\n",
       "      <td>451000.0</td>\n",
       "      <td>9.0</td>\n",
       "      <td>37000.0</td>\n",
       "      <td>Individual</td>\n",
       "      <td>First Owner</td>\n",
       "      <td>Petrol</td>\n",
       "      <td>Manual</td>\n",
       "      <td>...</td>\n",
       "      <td>998.0</td>\n",
       "      <td>67.10</td>\n",
       "      <td>5.0</td>\n",
       "      <td>226000.0</td>\n",
       "      <td>192.353841</td>\n",
       "      <td>10.518673</td>\n",
       "      <td>12.328290</td>\n",
       "      <td>12.328290</td>\n",
       "      <td>13.019223</td>\n",
       "      <td>12.782686</td>\n",
       "    </tr>\n",
       "    <tr>\n",
       "      <th>4</th>\n",
       "      <td>FORD</td>\n",
       "      <td>ECOSPORT 2015-2021</td>\n",
       "      <td>1014000.0</td>\n",
       "      <td>1379000.0</td>\n",
       "      <td>6.0</td>\n",
       "      <td>30000.0</td>\n",
       "      <td>Dealer</td>\n",
       "      <td>First Owner</td>\n",
       "      <td>Diesel</td>\n",
       "      <td>Manual</td>\n",
       "      <td>...</td>\n",
       "      <td>1498.0</td>\n",
       "      <td>98.59</td>\n",
       "      <td>5.0</td>\n",
       "      <td>570000.0</td>\n",
       "      <td>173.205081</td>\n",
       "      <td>10.308953</td>\n",
       "      <td>13.253392</td>\n",
       "      <td>13.253392</td>\n",
       "      <td>14.136869</td>\n",
       "      <td>13.829413</td>\n",
       "    </tr>\n",
       "  </tbody>\n",
       "</table>\n",
       "<p>5 rows × 21 columns</p>\n",
       "</div>"
      ],
      "text/plain": [
       "     Maker               Model  Min new price  Max new price   Age  km_driven  \\\n",
       "0   MARUTI            ALTO STD       299800.0       299800.0   9.0   120000.0   \n",
       "1  HYUNDAI           GRAND I10       711000.0       748000.0   5.0    20000.0   \n",
       "2  HYUNDAI            I20 ASTA       791000.0      1324000.0  11.0    60000.0   \n",
       "3   MARUTI            ALTO K10       356000.0       451000.0   9.0    37000.0   \n",
       "4     FORD  ECOSPORT 2015-2021      1014000.0      1379000.0   6.0    30000.0   \n",
       "\n",
       "  seller_type   owner_type fuel_type transmission_type  ...  engine  \\\n",
       "0  Individual  First Owner    Petrol            Manual  ...   796.0   \n",
       "1  Individual  First Owner    Petrol            Manual  ...  1197.0   \n",
       "2  Individual  First Owner    Petrol            Manual  ...  1197.0   \n",
       "3  Individual  First Owner    Petrol            Manual  ...   998.0   \n",
       "4      Dealer  First Owner    Diesel            Manual  ...  1498.0   \n",
       "\n",
       "   max_power  seats  selling_price  km_driven_sqrt_TB  km_driven_log_TB  \\\n",
       "0      46.30    5.0       120000.0         346.410162         11.695247   \n",
       "1      82.00    5.0       550000.0         141.421356          9.903488   \n",
       "2      80.00    5.0       215000.0         244.948974         11.002100   \n",
       "3      67.10    5.0       226000.0         192.353841         10.518673   \n",
       "4      98.59    5.0       570000.0         173.205081         10.308953   \n",
       "\n",
       "   selling_price_sqrt_TB  selling_price_log_TB  Max new price_log_TB  \\\n",
       "0              11.695247             11.695247             12.610871   \n",
       "1              13.217674             13.217674             13.525158   \n",
       "2              12.278393             12.278393             14.096168   \n",
       "3              12.328290             12.328290             13.019223   \n",
       "4              13.253392             13.253392             14.136869   \n",
       "\n",
       "   Min new price_log_TB  \n",
       "0             12.610871  \n",
       "1             13.474428  \n",
       "2             13.581053  \n",
       "3             12.782686  \n",
       "4             13.829413  \n",
       "\n",
       "[5 rows x 21 columns]"
      ]
     },
     "execution_count": 86,
     "metadata": {},
     "output_type": "execute_result"
    }
   ],
   "source": [
    "df_copy.head()"
   ]
  },
  {
   "cell_type": "code",
   "execution_count": 87,
   "metadata": {},
   "outputs": [
    {
     "data": {
      "text/plain": [
       "Min new price             3.217838\n",
       "Max new price             3.117152\n",
       "Age                       0.798813\n",
       "km_driven                26.814662\n",
       "mileage                   0.140050\n",
       "engine                    1.366970\n",
       "max_power                 1.545829\n",
       "seats                     2.242738\n",
       "selling_price             3.882390\n",
       "km_driven_sqrt_TB         1.382402\n",
       "km_driven_log_TB         -1.053374\n",
       "selling_price_sqrt_TB     0.278492\n",
       "selling_price_log_TB      0.278492\n",
       "Max new price_log_TB      0.933580\n",
       "Min new price_log_TB      1.157453\n",
       "dtype: float64"
      ]
     },
     "execution_count": 87,
     "metadata": {},
     "output_type": "execute_result"
    }
   ],
   "source": [
    "df_copy.skew()"
   ]
  },
  {
   "cell_type": "code",
   "execution_count": 88,
   "metadata": {},
   "outputs": [
    {
     "data": {
      "text/plain": [
       "(17200, 21)"
      ]
     },
     "execution_count": 88,
     "metadata": {},
     "output_type": "execute_result"
    }
   ],
   "source": [
    "df_copy.shape"
   ]
  },
  {
   "cell_type": "code",
   "execution_count": 89,
   "metadata": {},
   "outputs": [
    {
     "data": {
      "text/plain": [
       "Index(['Maker', 'Model', 'Min new price', 'Max new price', 'Age', 'km_driven',\n",
       "       'seller_type', 'owner_type', 'fuel_type', 'transmission_type',\n",
       "       'mileage', 'engine', 'max_power', 'seats', 'selling_price',\n",
       "       'km_driven_sqrt_TB', 'km_driven_log_TB', 'selling_price_sqrt_TB',\n",
       "       'selling_price_log_TB', 'Max new price_log_TB', 'Min new price_log_TB'],\n",
       "      dtype='object')"
      ]
     },
     "execution_count": 89,
     "metadata": {},
     "output_type": "execute_result"
    }
   ],
   "source": [
    "df_copy.columns"
   ]
  },
  {
   "cell_type": "code",
   "execution_count": 90,
   "metadata": {},
   "outputs": [],
   "source": [
    "from sklearn.preprocessing import LabelEncoder\n",
    "le =LabelEncoder()\n",
    "df_copy.seller_type = le.fit_transform(df_copy.seller_type)\n",
    "df_copy.fuel_type = le.fit_transform(df_copy.fuel_type)\n",
    "df_copy.transmission_type = le.fit_transform(df_copy.transmission_type)\n",
    "df_copy.owner_type = le.fit_transform(df_copy.owner_type)"
   ]
  },
  {
   "cell_type": "code",
   "execution_count": 91,
   "metadata": {},
   "outputs": [],
   "source": [
    "df_final = df_copy.copy()"
   ]
  },
  {
   "cell_type": "code",
   "execution_count": 92,
   "metadata": {},
   "outputs": [],
   "source": [
    "df_final.drop(['Min new price','Max new price','selling_price','km_driven','km_driven_sqrt_TB','selling_price_sqrt_TB'],axis=1,inplace=True)"
   ]
  },
  {
   "cell_type": "code",
   "execution_count": 93,
   "metadata": {},
   "outputs": [
    {
     "data": {
      "text/plain": [
       "(17200, 15)"
      ]
     },
     "execution_count": 93,
     "metadata": {},
     "output_type": "execute_result"
    }
   ],
   "source": [
    "df_final.shape"
   ]
  },
  {
   "cell_type": "code",
   "execution_count": 94,
   "metadata": {},
   "outputs": [
    {
     "data": {
      "text/html": [
       "<div>\n",
       "<style scoped>\n",
       "    .dataframe tbody tr th:only-of-type {\n",
       "        vertical-align: middle;\n",
       "    }\n",
       "\n",
       "    .dataframe tbody tr th {\n",
       "        vertical-align: top;\n",
       "    }\n",
       "\n",
       "    .dataframe thead th {\n",
       "        text-align: right;\n",
       "    }\n",
       "</style>\n",
       "<table border=\"1\" class=\"dataframe\">\n",
       "  <thead>\n",
       "    <tr style=\"text-align: right;\">\n",
       "      <th></th>\n",
       "      <th>Maker</th>\n",
       "      <th>Model</th>\n",
       "      <th>Age</th>\n",
       "      <th>seller_type</th>\n",
       "      <th>owner_type</th>\n",
       "      <th>fuel_type</th>\n",
       "      <th>transmission_type</th>\n",
       "      <th>mileage</th>\n",
       "      <th>engine</th>\n",
       "      <th>max_power</th>\n",
       "      <th>seats</th>\n",
       "      <th>km_driven_log_TB</th>\n",
       "      <th>selling_price_log_TB</th>\n",
       "      <th>Max new price_log_TB</th>\n",
       "      <th>Min new price_log_TB</th>\n",
       "    </tr>\n",
       "  </thead>\n",
       "  <tbody>\n",
       "    <tr>\n",
       "      <th>0</th>\n",
       "      <td>MARUTI</td>\n",
       "      <td>ALTO STD</td>\n",
       "      <td>9.0</td>\n",
       "      <td>1</td>\n",
       "      <td>0</td>\n",
       "      <td>2</td>\n",
       "      <td>1</td>\n",
       "      <td>19.70</td>\n",
       "      <td>796.0</td>\n",
       "      <td>46.30</td>\n",
       "      <td>5.0</td>\n",
       "      <td>11.695247</td>\n",
       "      <td>11.695247</td>\n",
       "      <td>12.610871</td>\n",
       "      <td>12.610871</td>\n",
       "    </tr>\n",
       "    <tr>\n",
       "      <th>1</th>\n",
       "      <td>HYUNDAI</td>\n",
       "      <td>GRAND I10</td>\n",
       "      <td>5.0</td>\n",
       "      <td>1</td>\n",
       "      <td>0</td>\n",
       "      <td>2</td>\n",
       "      <td>1</td>\n",
       "      <td>18.90</td>\n",
       "      <td>1197.0</td>\n",
       "      <td>82.00</td>\n",
       "      <td>5.0</td>\n",
       "      <td>9.903488</td>\n",
       "      <td>13.217674</td>\n",
       "      <td>13.525158</td>\n",
       "      <td>13.474428</td>\n",
       "    </tr>\n",
       "    <tr>\n",
       "      <th>2</th>\n",
       "      <td>HYUNDAI</td>\n",
       "      <td>I20 ASTA</td>\n",
       "      <td>11.0</td>\n",
       "      <td>1</td>\n",
       "      <td>0</td>\n",
       "      <td>2</td>\n",
       "      <td>1</td>\n",
       "      <td>17.00</td>\n",
       "      <td>1197.0</td>\n",
       "      <td>80.00</td>\n",
       "      <td>5.0</td>\n",
       "      <td>11.002100</td>\n",
       "      <td>12.278393</td>\n",
       "      <td>14.096168</td>\n",
       "      <td>13.581053</td>\n",
       "    </tr>\n",
       "    <tr>\n",
       "      <th>3</th>\n",
       "      <td>MARUTI</td>\n",
       "      <td>ALTO K10</td>\n",
       "      <td>9.0</td>\n",
       "      <td>1</td>\n",
       "      <td>0</td>\n",
       "      <td>2</td>\n",
       "      <td>1</td>\n",
       "      <td>20.92</td>\n",
       "      <td>998.0</td>\n",
       "      <td>67.10</td>\n",
       "      <td>5.0</td>\n",
       "      <td>10.518673</td>\n",
       "      <td>12.328290</td>\n",
       "      <td>13.019223</td>\n",
       "      <td>12.782686</td>\n",
       "    </tr>\n",
       "    <tr>\n",
       "      <th>4</th>\n",
       "      <td>FORD</td>\n",
       "      <td>ECOSPORT 2015-2021</td>\n",
       "      <td>6.0</td>\n",
       "      <td>0</td>\n",
       "      <td>0</td>\n",
       "      <td>1</td>\n",
       "      <td>1</td>\n",
       "      <td>22.77</td>\n",
       "      <td>1498.0</td>\n",
       "      <td>98.59</td>\n",
       "      <td>5.0</td>\n",
       "      <td>10.308953</td>\n",
       "      <td>13.253392</td>\n",
       "      <td>14.136869</td>\n",
       "      <td>13.829413</td>\n",
       "    </tr>\n",
       "  </tbody>\n",
       "</table>\n",
       "</div>"
      ],
      "text/plain": [
       "     Maker               Model   Age  seller_type  owner_type  fuel_type  \\\n",
       "0   MARUTI            ALTO STD   9.0            1           0          2   \n",
       "1  HYUNDAI           GRAND I10   5.0            1           0          2   \n",
       "2  HYUNDAI            I20 ASTA  11.0            1           0          2   \n",
       "3   MARUTI            ALTO K10   9.0            1           0          2   \n",
       "4     FORD  ECOSPORT 2015-2021   6.0            0           0          1   \n",
       "\n",
       "   transmission_type  mileage  engine  max_power  seats  km_driven_log_TB  \\\n",
       "0                  1    19.70   796.0      46.30    5.0         11.695247   \n",
       "1                  1    18.90  1197.0      82.00    5.0          9.903488   \n",
       "2                  1    17.00  1197.0      80.00    5.0         11.002100   \n",
       "3                  1    20.92   998.0      67.10    5.0         10.518673   \n",
       "4                  1    22.77  1498.0      98.59    5.0         10.308953   \n",
       "\n",
       "   selling_price_log_TB  Max new price_log_TB  Min new price_log_TB  \n",
       "0             11.695247             12.610871             12.610871  \n",
       "1             13.217674             13.525158             13.474428  \n",
       "2             12.278393             14.096168             13.581053  \n",
       "3             12.328290             13.019223             12.782686  \n",
       "4             13.253392             14.136869             13.829413  "
      ]
     },
     "execution_count": 94,
     "metadata": {},
     "output_type": "execute_result"
    }
   ],
   "source": [
    "df_final.head()"
   ]
  },
  {
   "cell_type": "code",
   "execution_count": 95,
   "metadata": {},
   "outputs": [],
   "source": [
    "#sns.pairplot(df_final)\n",
    "#plt.show()\n",
    "#plt.savefig('pair.png')"
   ]
  },
  {
   "cell_type": "code",
   "execution_count": 96,
   "metadata": {},
   "outputs": [
    {
     "data": {
      "text/html": [
       "<div>\n",
       "<style scoped>\n",
       "    .dataframe tbody tr th:only-of-type {\n",
       "        vertical-align: middle;\n",
       "    }\n",
       "\n",
       "    .dataframe tbody tr th {\n",
       "        vertical-align: top;\n",
       "    }\n",
       "\n",
       "    .dataframe thead th {\n",
       "        text-align: right;\n",
       "    }\n",
       "</style>\n",
       "<table border=\"1\" class=\"dataframe\">\n",
       "  <thead>\n",
       "    <tr style=\"text-align: right;\">\n",
       "      <th></th>\n",
       "      <th>Maker</th>\n",
       "      <th>Model</th>\n",
       "      <th>Age</th>\n",
       "      <th>seller_type</th>\n",
       "      <th>owner_type</th>\n",
       "      <th>fuel_type</th>\n",
       "      <th>transmission_type</th>\n",
       "      <th>mileage</th>\n",
       "      <th>engine</th>\n",
       "      <th>max_power</th>\n",
       "      <th>seats</th>\n",
       "      <th>km_driven_log_TB</th>\n",
       "      <th>selling_price_log_TB</th>\n",
       "      <th>Max new price_log_TB</th>\n",
       "      <th>Min new price_log_TB</th>\n",
       "    </tr>\n",
       "  </thead>\n",
       "  <tbody>\n",
       "    <tr>\n",
       "      <th>0</th>\n",
       "      <td>MARUTI</td>\n",
       "      <td>ALTO STD</td>\n",
       "      <td>9.0</td>\n",
       "      <td>1</td>\n",
       "      <td>0</td>\n",
       "      <td>2</td>\n",
       "      <td>1</td>\n",
       "      <td>19.70</td>\n",
       "      <td>796.0</td>\n",
       "      <td>46.30</td>\n",
       "      <td>5.0</td>\n",
       "      <td>11.695247</td>\n",
       "      <td>11.695247</td>\n",
       "      <td>12.610871</td>\n",
       "      <td>12.610871</td>\n",
       "    </tr>\n",
       "    <tr>\n",
       "      <th>1</th>\n",
       "      <td>HYUNDAI</td>\n",
       "      <td>GRAND I10</td>\n",
       "      <td>5.0</td>\n",
       "      <td>1</td>\n",
       "      <td>0</td>\n",
       "      <td>2</td>\n",
       "      <td>1</td>\n",
       "      <td>18.90</td>\n",
       "      <td>1197.0</td>\n",
       "      <td>82.00</td>\n",
       "      <td>5.0</td>\n",
       "      <td>9.903488</td>\n",
       "      <td>13.217674</td>\n",
       "      <td>13.525158</td>\n",
       "      <td>13.474428</td>\n",
       "    </tr>\n",
       "    <tr>\n",
       "      <th>2</th>\n",
       "      <td>HYUNDAI</td>\n",
       "      <td>I20 ASTA</td>\n",
       "      <td>11.0</td>\n",
       "      <td>1</td>\n",
       "      <td>0</td>\n",
       "      <td>2</td>\n",
       "      <td>1</td>\n",
       "      <td>17.00</td>\n",
       "      <td>1197.0</td>\n",
       "      <td>80.00</td>\n",
       "      <td>5.0</td>\n",
       "      <td>11.002100</td>\n",
       "      <td>12.278393</td>\n",
       "      <td>14.096168</td>\n",
       "      <td>13.581053</td>\n",
       "    </tr>\n",
       "    <tr>\n",
       "      <th>3</th>\n",
       "      <td>MARUTI</td>\n",
       "      <td>ALTO K10</td>\n",
       "      <td>9.0</td>\n",
       "      <td>1</td>\n",
       "      <td>0</td>\n",
       "      <td>2</td>\n",
       "      <td>1</td>\n",
       "      <td>20.92</td>\n",
       "      <td>998.0</td>\n",
       "      <td>67.10</td>\n",
       "      <td>5.0</td>\n",
       "      <td>10.518673</td>\n",
       "      <td>12.328290</td>\n",
       "      <td>13.019223</td>\n",
       "      <td>12.782686</td>\n",
       "    </tr>\n",
       "    <tr>\n",
       "      <th>4</th>\n",
       "      <td>FORD</td>\n",
       "      <td>ECOSPORT 2015-2021</td>\n",
       "      <td>6.0</td>\n",
       "      <td>0</td>\n",
       "      <td>0</td>\n",
       "      <td>1</td>\n",
       "      <td>1</td>\n",
       "      <td>22.77</td>\n",
       "      <td>1498.0</td>\n",
       "      <td>98.59</td>\n",
       "      <td>5.0</td>\n",
       "      <td>10.308953</td>\n",
       "      <td>13.253392</td>\n",
       "      <td>14.136869</td>\n",
       "      <td>13.829413</td>\n",
       "    </tr>\n",
       "  </tbody>\n",
       "</table>\n",
       "</div>"
      ],
      "text/plain": [
       "     Maker               Model   Age  seller_type  owner_type  fuel_type  \\\n",
       "0   MARUTI            ALTO STD   9.0            1           0          2   \n",
       "1  HYUNDAI           GRAND I10   5.0            1           0          2   \n",
       "2  HYUNDAI            I20 ASTA  11.0            1           0          2   \n",
       "3   MARUTI            ALTO K10   9.0            1           0          2   \n",
       "4     FORD  ECOSPORT 2015-2021   6.0            0           0          1   \n",
       "\n",
       "   transmission_type  mileage  engine  max_power  seats  km_driven_log_TB  \\\n",
       "0                  1    19.70   796.0      46.30    5.0         11.695247   \n",
       "1                  1    18.90  1197.0      82.00    5.0          9.903488   \n",
       "2                  1    17.00  1197.0      80.00    5.0         11.002100   \n",
       "3                  1    20.92   998.0      67.10    5.0         10.518673   \n",
       "4                  1    22.77  1498.0      98.59    5.0         10.308953   \n",
       "\n",
       "   selling_price_log_TB  Max new price_log_TB  Min new price_log_TB  \n",
       "0             11.695247             12.610871             12.610871  \n",
       "1             13.217674             13.525158             13.474428  \n",
       "2             12.278393             14.096168             13.581053  \n",
       "3             12.328290             13.019223             12.782686  \n",
       "4             13.253392             14.136869             13.829413  "
      ]
     },
     "execution_count": 96,
     "metadata": {},
     "output_type": "execute_result"
    }
   ],
   "source": [
    "df_final.head()"
   ]
  },
  {
   "cell_type": "code",
   "execution_count": 97,
   "metadata": {},
   "outputs": [],
   "source": [
    "df_model = df_final.copy()"
   ]
  },
  {
   "cell_type": "code",
   "execution_count": null,
   "metadata": {},
   "outputs": [],
   "source": []
  },
  {
   "cell_type": "code",
   "execution_count": 98,
   "metadata": {},
   "outputs": [],
   "source": [
    "import statsmodels.api as sm \n",
    "X = df_model.drop(['selling_price_log_TB','Maker','Model'],axis=1)\n",
    "y = df_model['selling_price_log_TB']"
   ]
  },
  {
   "cell_type": "code",
   "execution_count": 99,
   "metadata": {},
   "outputs": [
    {
     "data": {
      "text/html": [
       "<table class=\"simpletable\">\n",
       "<caption>OLS Regression Results</caption>\n",
       "<tr>\n",
       "  <th>Dep. Variable:</th>    <td>selling_price_log_TB</td> <th>  R-squared:         </th> <td>   0.888</td> \n",
       "</tr>\n",
       "<tr>\n",
       "  <th>Model:</th>                     <td>OLS</td>         <th>  Adj. R-squared:    </th> <td>   0.888</td> \n",
       "</tr>\n",
       "<tr>\n",
       "  <th>Method:</th>               <td>Least Squares</td>    <th>  F-statistic:       </th> <td>1.136e+04</td>\n",
       "</tr>\n",
       "<tr>\n",
       "  <th>Date:</th>               <td>Sat, 19 Jun 2021</td>   <th>  Prob (F-statistic):</th>  <td>  0.00</td>  \n",
       "</tr>\n",
       "<tr>\n",
       "  <th>Time:</th>                   <td>20:42:11</td>       <th>  Log-Likelihood:    </th> <td>  1215.9</td> \n",
       "</tr>\n",
       "<tr>\n",
       "  <th>No. Observations:</th>        <td> 17200</td>        <th>  AIC:               </th> <td>  -2406.</td> \n",
       "</tr>\n",
       "<tr>\n",
       "  <th>Df Residuals:</th>            <td> 17187</td>        <th>  BIC:               </th> <td>  -2305.</td> \n",
       "</tr>\n",
       "<tr>\n",
       "  <th>Df Model:</th>                <td>    12</td>        <th>                     </th>     <td> </td>    \n",
       "</tr>\n",
       "<tr>\n",
       "  <th>Covariance Type:</th>        <td>nonrobust</td>      <th>                     </th>     <td> </td>    \n",
       "</tr>\n",
       "</table>\n",
       "<table class=\"simpletable\">\n",
       "<tr>\n",
       "            <td></td>              <th>coef</th>     <th>std err</th>      <th>t</th>      <th>P>|t|</th>  <th>[0.025</th>    <th>0.975]</th>  \n",
       "</tr>\n",
       "<tr>\n",
       "  <th>const</th>                <td>    6.5658</td> <td>    0.112</td> <td>   58.832</td> <td> 0.000</td> <td>    6.347</td> <td>    6.785</td>\n",
       "</tr>\n",
       "<tr>\n",
       "  <th>Age</th>                  <td>   -0.1117</td> <td>    0.001</td> <td> -149.277</td> <td> 0.000</td> <td>   -0.113</td> <td>   -0.110</td>\n",
       "</tr>\n",
       "<tr>\n",
       "  <th>seller_type</th>          <td>   -0.0719</td> <td>    0.003</td> <td>  -20.766</td> <td> 0.000</td> <td>   -0.079</td> <td>   -0.065</td>\n",
       "</tr>\n",
       "<tr>\n",
       "  <th>owner_type</th>           <td>   -0.0820</td> <td>    0.092</td> <td>   -0.890</td> <td> 0.374</td> <td>   -0.263</td> <td>    0.099</td>\n",
       "</tr>\n",
       "<tr>\n",
       "  <th>fuel_type</th>            <td>   -0.0634</td> <td>    0.006</td> <td>  -11.231</td> <td> 0.000</td> <td>   -0.075</td> <td>   -0.052</td>\n",
       "</tr>\n",
       "<tr>\n",
       "  <th>transmission_type</th>    <td>   -0.1247</td> <td>    0.006</td> <td>  -22.635</td> <td> 0.000</td> <td>   -0.136</td> <td>   -0.114</td>\n",
       "</tr>\n",
       "<tr>\n",
       "  <th>mileage</th>              <td>    0.0072</td> <td>    0.001</td> <td>    8.492</td> <td> 0.000</td> <td>    0.006</td> <td>    0.009</td>\n",
       "</tr>\n",
       "<tr>\n",
       "  <th>engine</th>               <td> 9.621e-05</td> <td> 1.02e-05</td> <td>    9.476</td> <td> 0.000</td> <td> 7.63e-05</td> <td>    0.000</td>\n",
       "</tr>\n",
       "<tr>\n",
       "  <th>max_power</th>            <td>    0.0031</td> <td>    0.000</td> <td>   23.169</td> <td> 0.000</td> <td>    0.003</td> <td>    0.003</td>\n",
       "</tr>\n",
       "<tr>\n",
       "  <th>seats</th>                <td>    0.0546</td> <td>    0.003</td> <td>   16.145</td> <td> 0.000</td> <td>    0.048</td> <td>    0.061</td>\n",
       "</tr>\n",
       "<tr>\n",
       "  <th>km_driven_log_TB</th>     <td>   -0.0265</td> <td>    0.003</td> <td>   -9.276</td> <td> 0.000</td> <td>   -0.032</td> <td>   -0.021</td>\n",
       "</tr>\n",
       "<tr>\n",
       "  <th>Max new price_log_TB</th> <td>    0.3513</td> <td>    0.013</td> <td>   26.889</td> <td> 0.000</td> <td>    0.326</td> <td>    0.377</td>\n",
       "</tr>\n",
       "<tr>\n",
       "  <th>Min new price_log_TB</th> <td>    0.1485</td> <td>    0.013</td> <td>   11.295</td> <td> 0.000</td> <td>    0.123</td> <td>    0.174</td>\n",
       "</tr>\n",
       "</table>\n",
       "<table class=\"simpletable\">\n",
       "<tr>\n",
       "  <th>Omnibus:</th>       <td>1418.862</td> <th>  Durbin-Watson:     </th> <td>   1.928</td>\n",
       "</tr>\n",
       "<tr>\n",
       "  <th>Prob(Omnibus):</th>  <td> 0.000</td>  <th>  Jarque-Bera (JB):  </th> <td>3460.066</td>\n",
       "</tr>\n",
       "<tr>\n",
       "  <th>Skew:</th>           <td>-0.499</td>  <th>  Prob(JB):          </th> <td>    0.00</td>\n",
       "</tr>\n",
       "<tr>\n",
       "  <th>Kurtosis:</th>       <td> 4.958</td>  <th>  Cond. No.          </th> <td>9.83e+04</td>\n",
       "</tr>\n",
       "</table><br/><br/>Warnings:<br/>[1] Standard Errors assume that the covariance matrix of the errors is correctly specified.<br/>[2] The condition number is large, 9.83e+04. This might indicate that there are<br/>strong multicollinearity or other numerical problems."
      ],
      "text/plain": [
       "<class 'statsmodels.iolib.summary.Summary'>\n",
       "\"\"\"\n",
       "                             OLS Regression Results                             \n",
       "================================================================================\n",
       "Dep. Variable:     selling_price_log_TB   R-squared:                       0.888\n",
       "Model:                              OLS   Adj. R-squared:                  0.888\n",
       "Method:                   Least Squares   F-statistic:                 1.136e+04\n",
       "Date:                  Sat, 19 Jun 2021   Prob (F-statistic):               0.00\n",
       "Time:                          20:42:11   Log-Likelihood:                 1215.9\n",
       "No. Observations:                 17200   AIC:                            -2406.\n",
       "Df Residuals:                     17187   BIC:                            -2305.\n",
       "Df Model:                            12                                         \n",
       "Covariance Type:              nonrobust                                         \n",
       "========================================================================================\n",
       "                           coef    std err          t      P>|t|      [0.025      0.975]\n",
       "----------------------------------------------------------------------------------------\n",
       "const                    6.5658      0.112     58.832      0.000       6.347       6.785\n",
       "Age                     -0.1117      0.001   -149.277      0.000      -0.113      -0.110\n",
       "seller_type             -0.0719      0.003    -20.766      0.000      -0.079      -0.065\n",
       "owner_type              -0.0820      0.092     -0.890      0.374      -0.263       0.099\n",
       "fuel_type               -0.0634      0.006    -11.231      0.000      -0.075      -0.052\n",
       "transmission_type       -0.1247      0.006    -22.635      0.000      -0.136      -0.114\n",
       "mileage                  0.0072      0.001      8.492      0.000       0.006       0.009\n",
       "engine                9.621e-05   1.02e-05      9.476      0.000    7.63e-05       0.000\n",
       "max_power                0.0031      0.000     23.169      0.000       0.003       0.003\n",
       "seats                    0.0546      0.003     16.145      0.000       0.048       0.061\n",
       "km_driven_log_TB        -0.0265      0.003     -9.276      0.000      -0.032      -0.021\n",
       "Max new price_log_TB     0.3513      0.013     26.889      0.000       0.326       0.377\n",
       "Min new price_log_TB     0.1485      0.013     11.295      0.000       0.123       0.174\n",
       "==============================================================================\n",
       "Omnibus:                     1418.862   Durbin-Watson:                   1.928\n",
       "Prob(Omnibus):                  0.000   Jarque-Bera (JB):             3460.066\n",
       "Skew:                          -0.499   Prob(JB):                         0.00\n",
       "Kurtosis:                       4.958   Cond. No.                     9.83e+04\n",
       "==============================================================================\n",
       "\n",
       "Warnings:\n",
       "[1] Standard Errors assume that the covariance matrix of the errors is correctly specified.\n",
       "[2] The condition number is large, 9.83e+04. This might indicate that there are\n",
       "strong multicollinearity or other numerical problems.\n",
       "\"\"\""
      ]
     },
     "execution_count": 99,
     "metadata": {},
     "output_type": "execute_result"
    }
   ],
   "source": [
    "Xc = sm.add_constant(X)\n",
    "model = sm.OLS(y,Xc).fit()\n",
    "model.summary()"
   ]
  }
 ],
 "metadata": {
  "kernelspec": {
   "display_name": "Python 3",
   "language": "python",
   "name": "python3"
  },
  "language_info": {
   "codemirror_mode": {
    "name": "ipython",
    "version": 3
   },
   "file_extension": ".py",
   "mimetype": "text/x-python",
   "name": "python",
   "nbconvert_exporter": "python",
   "pygments_lexer": "ipython3",
   "version": "3.8.5"
  }
 },
 "nbformat": 4,
 "nbformat_minor": 4
}
