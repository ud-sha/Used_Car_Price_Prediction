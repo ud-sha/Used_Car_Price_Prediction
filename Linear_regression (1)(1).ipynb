{
 "cells": [
  {
   "cell_type": "code",
   "execution_count": 3,
   "metadata": {},
   "outputs": [],
   "source": [
    "import numpy as np\n",
    "import pandas as pd\n",
    "import seaborn as sns \n",
    "import matplotlib.pyplot as plt\n",
    "import scipy \n",
    "from scipy import stats \n",
    "\n",
    "#display all columns of Data Frame\n",
    "pd.options.display.max_columns = None\n",
    "\n",
    "#display all rows of Data Frame\n",
    "pd.options.display.max_rows = None\n",
    "\n",
    "#to supress the notaion 'e'\n",
    "pd.options.display.float_format = '{:.6f}'.format\n",
    "\n",
    " \n",
    "# import various metrics from 'Scikit-learn' (sklearn) \n",
    "from sklearn.model_selection import train_test_split \n",
    "\n",
    "# 'Statsmodels' is used to build and analyze various statistical models import statsmodels \n",
    "import statsmodels.api as sm \n",
    "import statsmodels.stats.api as sms \n",
    "import statsmodels.formula.api as smf \n",
    "from statsmodels.tools.eval_measures import rmse \n",
    "from statsmodels.stats.outliers_influence import variance_inflation_factor\n",
    "from statsmodels.stats.diagnostic import linear_rainbow\n",
    "import statsmodels.tsa.api as smt \n",
    "from statsmodels.graphics.gofplots import qqplot\n",
    "from statsmodels.stats.stattools import durbin_watson\n",
    "\n",
    "#scipy\n",
    "from scipy import stats\n",
    "from scipy.stats import shapiro\n",
    "\n",
    "from sklearn.metrics import mean_absolute_error,r2_score,mean_squared_error\n",
    "\n",
    "from sklearn.preprocessing import StandardScaler"
   ]
  },
  {
   "cell_type": "code",
   "execution_count": 5,
   "metadata": {},
   "outputs": [],
   "source": [
    "df = pd.read_csv('model_data_1.csv')"
   ]
  },
  {
   "cell_type": "code",
   "execution_count": 6,
   "metadata": {},
   "outputs": [
    {
     "data": {
      "text/html": [
       "<div>\n",
       "<style scoped>\n",
       "    .dataframe tbody tr th:only-of-type {\n",
       "        vertical-align: middle;\n",
       "    }\n",
       "\n",
       "    .dataframe tbody tr th {\n",
       "        vertical-align: top;\n",
       "    }\n",
       "\n",
       "    .dataframe thead th {\n",
       "        text-align: right;\n",
       "    }\n",
       "</style>\n",
       "<table border=\"1\" class=\"dataframe\">\n",
       "  <thead>\n",
       "    <tr style=\"text-align: right;\">\n",
       "      <th></th>\n",
       "      <th>Age</th>\n",
       "      <th>seller_type</th>\n",
       "      <th>fuel_type</th>\n",
       "      <th>transmission_type</th>\n",
       "      <th>mileage</th>\n",
       "      <th>engine</th>\n",
       "      <th>max_power</th>\n",
       "      <th>seats</th>\n",
       "      <th>Min new price_boxcox</th>\n",
       "      <th>Max new price_boxcox</th>\n",
       "      <th>km_driven_boxcox</th>\n",
       "      <th>selling_price_boxcox</th>\n",
       "    </tr>\n",
       "  </thead>\n",
       "  <tbody>\n",
       "    <tr>\n",
       "      <th>0</th>\n",
       "      <td>0.904671</td>\n",
       "      <td>1.159240</td>\n",
       "      <td>0.954444</td>\n",
       "      <td>0.478100</td>\n",
       "      <td>0.010346</td>\n",
       "      <td>-1.322614</td>\n",
       "      <td>-1.281014</td>\n",
       "      <td>-0.383512</td>\n",
       "      <td>-2.387438</td>\n",
       "      <td>-3.090250</td>\n",
       "      <td>1.500426</td>\n",
       "      <td>-2.374496</td>\n",
       "    </tr>\n",
       "    <tr>\n",
       "      <th>1</th>\n",
       "      <td>-0.405892</td>\n",
       "      <td>1.159240</td>\n",
       "      <td>0.954444</td>\n",
       "      <td>0.478100</td>\n",
       "      <td>-0.189647</td>\n",
       "      <td>-0.513822</td>\n",
       "      <td>-0.387656</td>\n",
       "      <td>-0.383512</td>\n",
       "      <td>-0.255887</td>\n",
       "      <td>-0.682937</td>\n",
       "      <td>-1.098101</td>\n",
       "      <td>0.079590</td>\n",
       "    </tr>\n",
       "    <tr>\n",
       "      <th>2</th>\n",
       "      <td>1.559952</td>\n",
       "      <td>1.159240</td>\n",
       "      <td>0.954444</td>\n",
       "      <td>0.478100</td>\n",
       "      <td>-0.664630</td>\n",
       "      <td>-0.513822</td>\n",
       "      <td>-0.437704</td>\n",
       "      <td>-0.383512</td>\n",
       "      <td>-0.061377</td>\n",
       "      <td>0.322403</td>\n",
       "      <td>0.320688</td>\n",
       "      <td>-1.372344</td>\n",
       "    </tr>\n",
       "    <tr>\n",
       "      <th>3</th>\n",
       "      <td>0.904671</td>\n",
       "      <td>1.159240</td>\n",
       "      <td>0.954444</td>\n",
       "      <td>0.478100</td>\n",
       "      <td>0.315335</td>\n",
       "      <td>-0.915193</td>\n",
       "      <td>-0.760514</td>\n",
       "      <td>-0.383512</td>\n",
       "      <td>-1.870991</td>\n",
       "      <td>-1.869337</td>\n",
       "      <td>-0.363692</td>\n",
       "      <td>-1.290327</td>\n",
       "    </tr>\n",
       "    <tr>\n",
       "      <th>4</th>\n",
       "      <td>-0.078251</td>\n",
       "      <td>-0.794128</td>\n",
       "      <td>-0.962711</td>\n",
       "      <td>0.478100</td>\n",
       "      <td>0.777818</td>\n",
       "      <td>0.093275</td>\n",
       "      <td>0.027493</td>\n",
       "      <td>-0.383512</td>\n",
       "      <td>0.346181</td>\n",
       "      <td>0.383035</td>\n",
       "      <td>-0.630012</td>\n",
       "      <td>0.131130</td>\n",
       "    </tr>\n",
       "  </tbody>\n",
       "</table>\n",
       "</div>"
      ],
      "text/plain": [
       "        Age  seller_type  fuel_type  transmission_type   mileage    engine  \\\n",
       "0  0.904671     1.159240   0.954444           0.478100  0.010346 -1.322614   \n",
       "1 -0.405892     1.159240   0.954444           0.478100 -0.189647 -0.513822   \n",
       "2  1.559952     1.159240   0.954444           0.478100 -0.664630 -0.513822   \n",
       "3  0.904671     1.159240   0.954444           0.478100  0.315335 -0.915193   \n",
       "4 -0.078251    -0.794128  -0.962711           0.478100  0.777818  0.093275   \n",
       "\n",
       "   max_power     seats  Min new price_boxcox  Max new price_boxcox  \\\n",
       "0  -1.281014 -0.383512             -2.387438             -3.090250   \n",
       "1  -0.387656 -0.383512             -0.255887             -0.682937   \n",
       "2  -0.437704 -0.383512             -0.061377              0.322403   \n",
       "3  -0.760514 -0.383512             -1.870991             -1.869337   \n",
       "4   0.027493 -0.383512              0.346181              0.383035   \n",
       "\n",
       "   km_driven_boxcox  selling_price_boxcox  \n",
       "0          1.500426             -2.374496  \n",
       "1         -1.098101              0.079590  \n",
       "2          0.320688             -1.372344  \n",
       "3         -0.363692             -1.290327  \n",
       "4         -0.630012              0.131130  "
      ]
     },
     "execution_count": 6,
     "metadata": {},
     "output_type": "execute_result"
    }
   ],
   "source": [
    "df.head()"
   ]
  },
  {
   "cell_type": "code",
   "execution_count": 7,
   "metadata": {},
   "outputs": [
    {
     "data": {
      "text/plain": [
       "Index(['Age', 'seller_type', 'fuel_type', 'transmission_type', 'mileage',\n",
       "       'engine', 'max_power', 'seats', 'Min new price_boxcox',\n",
       "       'Max new price_boxcox', 'km_driven_boxcox', 'selling_price_boxcox'],\n",
       "      dtype='object')"
      ]
     },
     "execution_count": 7,
     "metadata": {},
     "output_type": "execute_result"
    }
   ],
   "source": [
    "df.columns"
   ]
  },
  {
   "cell_type": "code",
   "execution_count": 35,
   "metadata": {},
   "outputs": [],
   "source": [
    "X = df.drop(['selling_price_boxcox'],axis=1)\n",
    "Xc = sm.add_constant(X)\n",
    "y = df['selling_price_boxcox']"
   ]
  },
  {
   "cell_type": "raw",
   "metadata": {},
   "source": [
    "Setting up the target variable and against the other variables for model development"
   ]
  },
  {
   "cell_type": "code",
   "execution_count": 36,
   "metadata": {},
   "outputs": [],
   "source": [
    "X_train,X_test,y_train,y_test = train_test_split(Xc,y,test_size=0.3,random_state=1)"
   ]
  },
  {
   "cell_type": "raw",
   "metadata": {},
   "source": [
    "Splitting the data into train and test set in the ratio 70:30 . This is used for training the data for successful development of the model and such that model can predict accuratley after training the data. The model is trained post that it is tested. If the model performs well in the train data and does not perform well in the test data, the model is said to be overfitting and if the model does not perform well in both training and test model it is called underfitting"
   ]
  },
  {
   "cell_type": "code",
   "execution_count": 37,
   "metadata": {},
   "outputs": [
    {
     "data": {
      "text/html": [
       "<table class=\"simpletable\">\n",
       "<caption>OLS Regression Results</caption>\n",
       "<tr>\n",
       "  <th>Dep. Variable:</th>    <td>selling_price_boxcox</td> <th>  R-squared:         </th> <td>   0.886</td>\n",
       "</tr>\n",
       "<tr>\n",
       "  <th>Model:</th>                     <td>OLS</td>         <th>  Adj. R-squared:    </th> <td>   0.886</td>\n",
       "</tr>\n",
       "<tr>\n",
       "  <th>Method:</th>               <td>Least Squares</td>    <th>  F-statistic:       </th> <td>   8587.</td>\n",
       "</tr>\n",
       "<tr>\n",
       "  <th>Date:</th>               <td>Fri, 06 Aug 2021</td>   <th>  Prob (F-statistic):</th>  <td>  0.00</td> \n",
       "</tr>\n",
       "<tr>\n",
       "  <th>Time:</th>                   <td>15:19:57</td>       <th>  Log-Likelihood:    </th> <td> -4101.6</td>\n",
       "</tr>\n",
       "<tr>\n",
       "  <th>No. Observations:</th>        <td> 12175</td>        <th>  AIC:               </th> <td>   8227.</td>\n",
       "</tr>\n",
       "<tr>\n",
       "  <th>Df Residuals:</th>            <td> 12163</td>        <th>  BIC:               </th> <td>   8316.</td>\n",
       "</tr>\n",
       "<tr>\n",
       "  <th>Df Model:</th>                <td>    11</td>        <th>                     </th>     <td> </td>   \n",
       "</tr>\n",
       "<tr>\n",
       "  <th>Covariance Type:</th>        <td>nonrobust</td>      <th>                     </th>     <td> </td>   \n",
       "</tr>\n",
       "</table>\n",
       "<table class=\"simpletable\">\n",
       "<tr>\n",
       "            <td></td>              <th>coef</th>     <th>std err</th>      <th>t</th>      <th>P>|t|</th>  <th>[0.025</th>    <th>0.975]</th>  \n",
       "</tr>\n",
       "<tr>\n",
       "  <th>const</th>                <td>    0.0025</td> <td>    0.003</td> <td>    0.818</td> <td> 0.413</td> <td>   -0.004</td> <td>    0.009</td>\n",
       "</tr>\n",
       "<tr>\n",
       "  <th>Age</th>                  <td>   -0.5061</td> <td>    0.004</td> <td> -124.847</td> <td> 0.000</td> <td>   -0.514</td> <td>   -0.498</td>\n",
       "</tr>\n",
       "<tr>\n",
       "  <th>seller_type</th>          <td>   -0.0600</td> <td>    0.003</td> <td>  -18.704</td> <td> 0.000</td> <td>   -0.066</td> <td>   -0.054</td>\n",
       "</tr>\n",
       "<tr>\n",
       "  <th>fuel_type</th>            <td>   -0.0501</td> <td>    0.005</td> <td>   -9.553</td> <td> 0.000</td> <td>   -0.060</td> <td>   -0.040</td>\n",
       "</tr>\n",
       "<tr>\n",
       "  <th>transmission_type</th>    <td>   -0.0920</td> <td>    0.004</td> <td>  -24.410</td> <td> 0.000</td> <td>   -0.099</td> <td>   -0.085</td>\n",
       "</tr>\n",
       "<tr>\n",
       "  <th>mileage</th>              <td>    0.0480</td> <td>    0.006</td> <td>    7.993</td> <td> 0.000</td> <td>    0.036</td> <td>    0.060</td>\n",
       "</tr>\n",
       "<tr>\n",
       "  <th>engine</th>               <td>    0.0796</td> <td>    0.008</td> <td>    9.419</td> <td> 0.000</td> <td>    0.063</td> <td>    0.096</td>\n",
       "</tr>\n",
       "<tr>\n",
       "  <th>max_power</th>            <td>    0.2358</td> <td>    0.007</td> <td>   31.572</td> <td> 0.000</td> <td>    0.221</td> <td>    0.250</td>\n",
       "</tr>\n",
       "<tr>\n",
       "  <th>seats</th>                <td>    0.0562</td> <td>    0.005</td> <td>   12.159</td> <td> 0.000</td> <td>    0.047</td> <td>    0.065</td>\n",
       "</tr>\n",
       "<tr>\n",
       "  <th>Min new price_boxcox</th> <td>    0.1740</td> <td>    0.013</td> <td>   13.268</td> <td> 0.000</td> <td>    0.148</td> <td>    0.200</td>\n",
       "</tr>\n",
       "<tr>\n",
       "  <th>Max new price_boxcox</th> <td>    0.2341</td> <td>    0.013</td> <td>   18.518</td> <td> 0.000</td> <td>    0.209</td> <td>    0.259</td>\n",
       "</tr>\n",
       "<tr>\n",
       "  <th>km_driven_boxcox</th>     <td>   -0.0296</td> <td>    0.004</td> <td>   -7.541</td> <td> 0.000</td> <td>   -0.037</td> <td>   -0.022</td>\n",
       "</tr>\n",
       "</table>\n",
       "<table class=\"simpletable\">\n",
       "<tr>\n",
       "  <th>Omnibus:</th>       <td>1454.122</td> <th>  Durbin-Watson:     </th> <td>   1.993</td>\n",
       "</tr>\n",
       "<tr>\n",
       "  <th>Prob(Omnibus):</th>  <td> 0.000</td>  <th>  Jarque-Bera (JB):  </th> <td>4520.792</td>\n",
       "</tr>\n",
       "<tr>\n",
       "  <th>Skew:</th>           <td>-0.624</td>  <th>  Prob(JB):          </th> <td>    0.00</td>\n",
       "</tr>\n",
       "<tr>\n",
       "  <th>Kurtosis:</th>       <td> 5.711</td>  <th>  Cond. No.          </th> <td>    12.2</td>\n",
       "</tr>\n",
       "</table><br/><br/>Warnings:<br/>[1] Standard Errors assume that the covariance matrix of the errors is correctly specified."
      ],
      "text/plain": [
       "<class 'statsmodels.iolib.summary.Summary'>\n",
       "\"\"\"\n",
       "                             OLS Regression Results                             \n",
       "================================================================================\n",
       "Dep. Variable:     selling_price_boxcox   R-squared:                       0.886\n",
       "Model:                              OLS   Adj. R-squared:                  0.886\n",
       "Method:                   Least Squares   F-statistic:                     8587.\n",
       "Date:                  Fri, 06 Aug 2021   Prob (F-statistic):               0.00\n",
       "Time:                          15:19:57   Log-Likelihood:                -4101.6\n",
       "No. Observations:                 12175   AIC:                             8227.\n",
       "Df Residuals:                     12163   BIC:                             8316.\n",
       "Df Model:                            11                                         \n",
       "Covariance Type:              nonrobust                                         \n",
       "========================================================================================\n",
       "                           coef    std err          t      P>|t|      [0.025      0.975]\n",
       "----------------------------------------------------------------------------------------\n",
       "const                    0.0025      0.003      0.818      0.413      -0.004       0.009\n",
       "Age                     -0.5061      0.004   -124.847      0.000      -0.514      -0.498\n",
       "seller_type             -0.0600      0.003    -18.704      0.000      -0.066      -0.054\n",
       "fuel_type               -0.0501      0.005     -9.553      0.000      -0.060      -0.040\n",
       "transmission_type       -0.0920      0.004    -24.410      0.000      -0.099      -0.085\n",
       "mileage                  0.0480      0.006      7.993      0.000       0.036       0.060\n",
       "engine                   0.0796      0.008      9.419      0.000       0.063       0.096\n",
       "max_power                0.2358      0.007     31.572      0.000       0.221       0.250\n",
       "seats                    0.0562      0.005     12.159      0.000       0.047       0.065\n",
       "Min new price_boxcox     0.1740      0.013     13.268      0.000       0.148       0.200\n",
       "Max new price_boxcox     0.2341      0.013     18.518      0.000       0.209       0.259\n",
       "km_driven_boxcox        -0.0296      0.004     -7.541      0.000      -0.037      -0.022\n",
       "==============================================================================\n",
       "Omnibus:                     1454.122   Durbin-Watson:                   1.993\n",
       "Prob(Omnibus):                  0.000   Jarque-Bera (JB):             4520.792\n",
       "Skew:                          -0.624   Prob(JB):                         0.00\n",
       "Kurtosis:                       5.711   Cond. No.                         12.2\n",
       "==============================================================================\n",
       "\n",
       "Warnings:\n",
       "[1] Standard Errors assume that the covariance matrix of the errors is correctly specified.\n",
       "\"\"\""
      ]
     },
     "execution_count": 37,
     "metadata": {},
     "output_type": "execute_result"
    }
   ],
   "source": [
    "base_model = sm.OLS(y_train,X_train).fit()\n",
    "base_model.summary()"
   ]
  },
  {
   "cell_type": "raw",
   "metadata": {},
   "source": [
    "selling_price = -0.5 * Age + (-0.06) * seller type + (-0.05) * fuel type + (-0.09) * transmission type + 0.04 * mileage +    0.07 * engine + 0.23 * max power + 0.05 * seats + 0.17 * Min new price + 0.23 * Max new price + (-0.02)*km driven"
   ]
  },
  {
   "cell_type": "raw",
   "metadata": {},
   "source": [
    "Model is developed with the train set and the r2 value is observed to be 88.6 . r2 value being high shows that the model developed is a good fit with respect to the data. The model developed with train model is a good fit for the data"
   ]
  },
  {
   "cell_type": "raw",
   "metadata": {},
   "source": [
    "From the Durbin-Watson score we can observe that there is a slight correlation within the features"
   ]
  },
  {
   "cell_type": "raw",
   "metadata": {},
   "source": [
    "From the Jarque-Bera score it is observed that the data is normally distributed"
   ]
  },
  {
   "cell_type": "code",
   "execution_count": 38,
   "metadata": {},
   "outputs": [],
   "source": [
    "y_pred_train = base_model.predict(X_train)\n",
    "y_pred_test = base_model.predict(X_test)"
   ]
  },
  {
   "cell_type": "code",
   "execution_count": 39,
   "metadata": {},
   "outputs": [
    {
     "name": "stdout",
     "output_type": "stream",
     "text": [
      "0.25309570003372844\n",
      "0.25611687272961836\n"
     ]
    }
   ],
   "source": [
    "print(mean_absolute_error(y_pred_train,y_train))\n",
    "print(mean_absolute_error(y_pred_test,y_test))"
   ]
  },
  {
   "cell_type": "raw",
   "metadata": {},
   "source": [
    "It is observed that there is no big difference between the train and test prediction"
   ]
  },
  {
   "cell_type": "code",
   "execution_count": 40,
   "metadata": {},
   "outputs": [
    {
     "name": "stdout",
     "output_type": "stream",
     "text": [
      "0.1148522969792539\n",
      "0.11288916105462522\n"
     ]
    }
   ],
   "source": [
    "print(mean_squared_error(y_pred_train,y_train))\n",
    "print(mean_squared_error(y_pred_test,y_test))"
   ]
  },
  {
   "cell_type": "code",
   "execution_count": 41,
   "metadata": {},
   "outputs": [
    {
     "name": "stdout",
     "output_type": "stream",
     "text": [
      "0.33889865296169874\n",
      "0.33598982284382545\n"
     ]
    }
   ],
   "source": [
    "print(np.sqrt(mean_squared_error(y_pred_train,y_train)))\n",
    "print(np.sqrt(mean_squared_error(y_pred_test,y_test)))"
   ]
  },
  {
   "cell_type": "raw",
   "metadata": {},
   "source": [
    "Using the Variance Inflation Factor to treat the correlation observed"
   ]
  },
  {
   "cell_type": "code",
   "execution_count": 42,
   "metadata": {},
   "outputs": [],
   "source": [
    "from statsmodels.stats.outliers_influence import variance_inflation_factor\n",
    "vif = pd.DataFrame()\n",
    "vif[\"vif_values\"] = [variance_inflation_factor(df.values , i ) for i in range (df.shape[1])]\n",
    "vif['Variables'] = df.columns"
   ]
  },
  {
   "cell_type": "code",
   "execution_count": 43,
   "metadata": {},
   "outputs": [
    {
     "data": {
      "text/html": [
       "<div>\n",
       "<style scoped>\n",
       "    .dataframe tbody tr th:only-of-type {\n",
       "        vertical-align: middle;\n",
       "    }\n",
       "\n",
       "    .dataframe tbody tr th {\n",
       "        vertical-align: top;\n",
       "    }\n",
       "\n",
       "    .dataframe thead th {\n",
       "        text-align: right;\n",
       "    }\n",
       "</style>\n",
       "<table border=\"1\" class=\"dataframe\">\n",
       "  <thead>\n",
       "    <tr style=\"text-align: right;\">\n",
       "      <th></th>\n",
       "      <th>vif_values</th>\n",
       "      <th>Variables</th>\n",
       "    </tr>\n",
       "  </thead>\n",
       "  <tbody>\n",
       "    <tr>\n",
       "      <th>0</th>\n",
       "      <td>3.942211</td>\n",
       "      <td>Age</td>\n",
       "    </tr>\n",
       "    <tr>\n",
       "      <th>1</th>\n",
       "      <td>1.102819</td>\n",
       "      <td>seller_type</td>\n",
       "    </tr>\n",
       "    <tr>\n",
       "      <th>2</th>\n",
       "      <td>2.924495</td>\n",
       "      <td>fuel_type</td>\n",
       "    </tr>\n",
       "    <tr>\n",
       "      <th>3</th>\n",
       "      <td>1.572280</td>\n",
       "      <td>transmission_type</td>\n",
       "    </tr>\n",
       "    <tr>\n",
       "      <th>4</th>\n",
       "      <td>3.827383</td>\n",
       "      <td>mileage</td>\n",
       "    </tr>\n",
       "    <tr>\n",
       "      <th>5</th>\n",
       "      <td>7.604590</td>\n",
       "      <td>engine</td>\n",
       "    </tr>\n",
       "    <tr>\n",
       "      <th>6</th>\n",
       "      <td>6.373603</td>\n",
       "      <td>max_power</td>\n",
       "    </tr>\n",
       "    <tr>\n",
       "      <th>7</th>\n",
       "      <td>2.300942</td>\n",
       "      <td>seats</td>\n",
       "    </tr>\n",
       "    <tr>\n",
       "      <th>8</th>\n",
       "      <td>18.282256</td>\n",
       "      <td>Min new price_boxcox</td>\n",
       "    </tr>\n",
       "    <tr>\n",
       "      <th>9</th>\n",
       "      <td>17.264385</td>\n",
       "      <td>Max new price_boxcox</td>\n",
       "    </tr>\n",
       "    <tr>\n",
       "      <th>10</th>\n",
       "      <td>1.667021</td>\n",
       "      <td>km_driven_boxcox</td>\n",
       "    </tr>\n",
       "    <tr>\n",
       "      <th>11</th>\n",
       "      <td>8.757612</td>\n",
       "      <td>selling_price_boxcox</td>\n",
       "    </tr>\n",
       "  </tbody>\n",
       "</table>\n",
       "</div>"
      ],
      "text/plain": [
       "    vif_values             Variables\n",
       "0     3.942211                   Age\n",
       "1     1.102819           seller_type\n",
       "2     2.924495             fuel_type\n",
       "3     1.572280     transmission_type\n",
       "4     3.827383               mileage\n",
       "5     7.604590                engine\n",
       "6     6.373603             max_power\n",
       "7     2.300942                 seats\n",
       "8    18.282256  Min new price_boxcox\n",
       "9    17.264385  Max new price_boxcox\n",
       "10    1.667021      km_driven_boxcox\n",
       "11    8.757612  selling_price_boxcox"
      ]
     },
     "execution_count": 43,
     "metadata": {},
     "output_type": "execute_result"
    }
   ],
   "source": [
    "vif"
   ]
  },
  {
   "cell_type": "raw",
   "metadata": {},
   "source": [
    "We can observe high vif corresponding to the feature Min new price_boxcox so removing it for better model"
   ]
  },
  {
   "cell_type": "code",
   "execution_count": 44,
   "metadata": {},
   "outputs": [],
   "source": [
    "X = df.drop(['selling_price_boxcox','Min new price_boxcox'],axis=1)\n",
    "Xc = sm.add_constant(X)\n",
    "y = df['selling_price_boxcox']"
   ]
  },
  {
   "cell_type": "code",
   "execution_count": 45,
   "metadata": {},
   "outputs": [],
   "source": [
    "X_train,X_test,y_train,y_test = train_test_split(Xc,y,test_size=0.3,random_state=1)"
   ]
  },
  {
   "cell_type": "code",
   "execution_count": 46,
   "metadata": {},
   "outputs": [
    {
     "data": {
      "text/html": [
       "<table class=\"simpletable\">\n",
       "<caption>OLS Regression Results</caption>\n",
       "<tr>\n",
       "  <th>Dep. Variable:</th>    <td>selling_price_boxcox</td> <th>  R-squared:         </th> <td>   0.884</td>\n",
       "</tr>\n",
       "<tr>\n",
       "  <th>Model:</th>                     <td>OLS</td>         <th>  Adj. R-squared:    </th> <td>   0.884</td>\n",
       "</tr>\n",
       "<tr>\n",
       "  <th>Method:</th>               <td>Least Squares</td>    <th>  F-statistic:       </th> <td>   9294.</td>\n",
       "</tr>\n",
       "<tr>\n",
       "  <th>Date:</th>               <td>Fri, 06 Aug 2021</td>   <th>  Prob (F-statistic):</th>  <td>  0.00</td> \n",
       "</tr>\n",
       "<tr>\n",
       "  <th>Time:</th>                   <td>15:21:07</td>       <th>  Log-Likelihood:    </th> <td> -4189.0</td>\n",
       "</tr>\n",
       "<tr>\n",
       "  <th>No. Observations:</th>        <td> 12175</td>        <th>  AIC:               </th> <td>   8400.</td>\n",
       "</tr>\n",
       "<tr>\n",
       "  <th>Df Residuals:</th>            <td> 12164</td>        <th>  BIC:               </th> <td>   8482.</td>\n",
       "</tr>\n",
       "<tr>\n",
       "  <th>Df Model:</th>                <td>    10</td>        <th>                     </th>     <td> </td>   \n",
       "</tr>\n",
       "<tr>\n",
       "  <th>Covariance Type:</th>        <td>nonrobust</td>      <th>                     </th>     <td> </td>   \n",
       "</tr>\n",
       "</table>\n",
       "<table class=\"simpletable\">\n",
       "<tr>\n",
       "            <td></td>              <th>coef</th>     <th>std err</th>      <th>t</th>      <th>P>|t|</th>  <th>[0.025</th>    <th>0.975]</th>  \n",
       "</tr>\n",
       "<tr>\n",
       "  <th>const</th>                <td>    0.0027</td> <td>    0.003</td> <td>    0.873</td> <td> 0.383</td> <td>   -0.003</td> <td>    0.009</td>\n",
       "</tr>\n",
       "<tr>\n",
       "  <th>Age</th>                  <td>   -0.4996</td> <td>    0.004</td> <td> -123.269</td> <td> 0.000</td> <td>   -0.508</td> <td>   -0.492</td>\n",
       "</tr>\n",
       "<tr>\n",
       "  <th>seller_type</th>          <td>   -0.0622</td> <td>    0.003</td> <td>  -19.266</td> <td> 0.000</td> <td>   -0.068</td> <td>   -0.056</td>\n",
       "</tr>\n",
       "<tr>\n",
       "  <th>fuel_type</th>            <td>   -0.0662</td> <td>    0.005</td> <td>  -12.882</td> <td> 0.000</td> <td>   -0.076</td> <td>   -0.056</td>\n",
       "</tr>\n",
       "<tr>\n",
       "  <th>transmission_type</th>    <td>   -0.0932</td> <td>    0.004</td> <td>  -24.560</td> <td> 0.000</td> <td>   -0.101</td> <td>   -0.086</td>\n",
       "</tr>\n",
       "<tr>\n",
       "  <th>mileage</th>              <td>    0.0424</td> <td>    0.006</td> <td>    7.032</td> <td> 0.000</td> <td>    0.031</td> <td>    0.054</td>\n",
       "</tr>\n",
       "<tr>\n",
       "  <th>engine</th>               <td>    0.0877</td> <td>    0.008</td> <td>   10.330</td> <td> 0.000</td> <td>    0.071</td> <td>    0.104</td>\n",
       "</tr>\n",
       "<tr>\n",
       "  <th>max_power</th>            <td>    0.2457</td> <td>    0.007</td> <td>   32.826</td> <td> 0.000</td> <td>    0.231</td> <td>    0.260</td>\n",
       "</tr>\n",
       "<tr>\n",
       "  <th>seats</th>                <td>    0.0545</td> <td>    0.005</td> <td>   11.713</td> <td> 0.000</td> <td>    0.045</td> <td>    0.064</td>\n",
       "</tr>\n",
       "<tr>\n",
       "  <th>Max new price_boxcox</th> <td>    0.3784</td> <td>    0.006</td> <td>   58.366</td> <td> 0.000</td> <td>    0.366</td> <td>    0.391</td>\n",
       "</tr>\n",
       "<tr>\n",
       "  <th>km_driven_boxcox</th>     <td>   -0.0289</td> <td>    0.004</td> <td>   -7.312</td> <td> 0.000</td> <td>   -0.037</td> <td>   -0.021</td>\n",
       "</tr>\n",
       "</table>\n",
       "<table class=\"simpletable\">\n",
       "<tr>\n",
       "  <th>Omnibus:</th>       <td>1493.894</td> <th>  Durbin-Watson:     </th> <td>   1.993</td>\n",
       "</tr>\n",
       "<tr>\n",
       "  <th>Prob(Omnibus):</th>  <td> 0.000</td>  <th>  Jarque-Bera (JB):  </th> <td>4821.737</td>\n",
       "</tr>\n",
       "<tr>\n",
       "  <th>Skew:</th>           <td>-0.630</td>  <th>  Prob(JB):          </th> <td>    0.00</td>\n",
       "</tr>\n",
       "<tr>\n",
       "  <th>Kurtosis:</th>       <td> 5.814</td>  <th>  Cond. No.          </th> <td>    6.59</td>\n",
       "</tr>\n",
       "</table><br/><br/>Warnings:<br/>[1] Standard Errors assume that the covariance matrix of the errors is correctly specified."
      ],
      "text/plain": [
       "<class 'statsmodels.iolib.summary.Summary'>\n",
       "\"\"\"\n",
       "                             OLS Regression Results                             \n",
       "================================================================================\n",
       "Dep. Variable:     selling_price_boxcox   R-squared:                       0.884\n",
       "Model:                              OLS   Adj. R-squared:                  0.884\n",
       "Method:                   Least Squares   F-statistic:                     9294.\n",
       "Date:                  Fri, 06 Aug 2021   Prob (F-statistic):               0.00\n",
       "Time:                          15:21:07   Log-Likelihood:                -4189.0\n",
       "No. Observations:                 12175   AIC:                             8400.\n",
       "Df Residuals:                     12164   BIC:                             8482.\n",
       "Df Model:                            10                                         \n",
       "Covariance Type:              nonrobust                                         \n",
       "========================================================================================\n",
       "                           coef    std err          t      P>|t|      [0.025      0.975]\n",
       "----------------------------------------------------------------------------------------\n",
       "const                    0.0027      0.003      0.873      0.383      -0.003       0.009\n",
       "Age                     -0.4996      0.004   -123.269      0.000      -0.508      -0.492\n",
       "seller_type             -0.0622      0.003    -19.266      0.000      -0.068      -0.056\n",
       "fuel_type               -0.0662      0.005    -12.882      0.000      -0.076      -0.056\n",
       "transmission_type       -0.0932      0.004    -24.560      0.000      -0.101      -0.086\n",
       "mileage                  0.0424      0.006      7.032      0.000       0.031       0.054\n",
       "engine                   0.0877      0.008     10.330      0.000       0.071       0.104\n",
       "max_power                0.2457      0.007     32.826      0.000       0.231       0.260\n",
       "seats                    0.0545      0.005     11.713      0.000       0.045       0.064\n",
       "Max new price_boxcox     0.3784      0.006     58.366      0.000       0.366       0.391\n",
       "km_driven_boxcox        -0.0289      0.004     -7.312      0.000      -0.037      -0.021\n",
       "==============================================================================\n",
       "Omnibus:                     1493.894   Durbin-Watson:                   1.993\n",
       "Prob(Omnibus):                  0.000   Jarque-Bera (JB):             4821.737\n",
       "Skew:                          -0.630   Prob(JB):                         0.00\n",
       "Kurtosis:                       5.814   Cond. No.                         6.59\n",
       "==============================================================================\n",
       "\n",
       "Warnings:\n",
       "[1] Standard Errors assume that the covariance matrix of the errors is correctly specified.\n",
       "\"\"\""
      ]
     },
     "execution_count": 46,
     "metadata": {},
     "output_type": "execute_result"
    }
   ],
   "source": [
    "model_1 = sm.OLS(y_train,X_train).fit()\n",
    "model_1.summary()"
   ]
  },
  {
   "cell_type": "raw",
   "metadata": {},
   "source": [
    "selling_price = -0.49 * Age + (-0.06) * seller type + (-0.06) * fuel type + (-0.09) * transmission type + 0.04 * mileage +    0.08 * engine + 0.24 * max power + 0.05 * seats + 0.37 * Max new price + (-0.02)*km driven"
   ]
  },
  {
   "cell_type": "raw",
   "metadata": {},
   "source": [
    "We can observe increase in the Jarque-Bera score for the new model . Increased  Jarque-Bera score shows us that the data is getting better with distribution and will be better for the prediction "
   ]
  },
  {
   "cell_type": "code",
   "execution_count": 47,
   "metadata": {},
   "outputs": [],
   "source": [
    "df_copy = df.copy()"
   ]
  },
  {
   "cell_type": "code",
   "execution_count": 48,
   "metadata": {},
   "outputs": [],
   "source": [
    "df_copy.drop(['selling_price_boxcox','Min new price_boxcox'],axis=1,inplace=True)"
   ]
  },
  {
   "cell_type": "code",
   "execution_count": 49,
   "metadata": {},
   "outputs": [],
   "source": [
    "from statsmodels.stats.outliers_influence import variance_inflation_factor\n",
    "vif = pd.DataFrame()\n",
    "vif[\"vif_values\"] = [variance_inflation_factor(df_copy.values , i ) for i in range (df_copy.shape[1])]\n",
    "vif['Variables'] = df_copy.columns"
   ]
  },
  {
   "cell_type": "code",
   "execution_count": 50,
   "metadata": {},
   "outputs": [
    {
     "data": {
      "text/html": [
       "<div>\n",
       "<style scoped>\n",
       "    .dataframe tbody tr th:only-of-type {\n",
       "        vertical-align: middle;\n",
       "    }\n",
       "\n",
       "    .dataframe tbody tr th {\n",
       "        vertical-align: top;\n",
       "    }\n",
       "\n",
       "    .dataframe thead th {\n",
       "        text-align: right;\n",
       "    }\n",
       "</style>\n",
       "<table border=\"1\" class=\"dataframe\">\n",
       "  <thead>\n",
       "    <tr style=\"text-align: right;\">\n",
       "      <th></th>\n",
       "      <th>vif_values</th>\n",
       "      <th>Variables</th>\n",
       "    </tr>\n",
       "  </thead>\n",
       "  <tbody>\n",
       "    <tr>\n",
       "      <th>0</th>\n",
       "      <td>1.716679</td>\n",
       "      <td>Age</td>\n",
       "    </tr>\n",
       "    <tr>\n",
       "      <th>1</th>\n",
       "      <td>1.072029</td>\n",
       "      <td>seller_type</td>\n",
       "    </tr>\n",
       "    <tr>\n",
       "      <th>2</th>\n",
       "      <td>2.747128</td>\n",
       "      <td>fuel_type</td>\n",
       "    </tr>\n",
       "    <tr>\n",
       "      <th>3</th>\n",
       "      <td>1.499493</td>\n",
       "      <td>transmission_type</td>\n",
       "    </tr>\n",
       "    <tr>\n",
       "      <th>4</th>\n",
       "      <td>3.788718</td>\n",
       "      <td>mileage</td>\n",
       "    </tr>\n",
       "    <tr>\n",
       "      <th>5</th>\n",
       "      <td>7.525346</td>\n",
       "      <td>engine</td>\n",
       "    </tr>\n",
       "    <tr>\n",
       "      <th>6</th>\n",
       "      <td>5.829364</td>\n",
       "      <td>max_power</td>\n",
       "    </tr>\n",
       "    <tr>\n",
       "      <th>7</th>\n",
       "      <td>2.266952</td>\n",
       "      <td>seats</td>\n",
       "    </tr>\n",
       "    <tr>\n",
       "      <th>8</th>\n",
       "      <td>4.369883</td>\n",
       "      <td>Max new price_boxcox</td>\n",
       "    </tr>\n",
       "    <tr>\n",
       "      <th>9</th>\n",
       "      <td>1.658144</td>\n",
       "      <td>km_driven_boxcox</td>\n",
       "    </tr>\n",
       "  </tbody>\n",
       "</table>\n",
       "</div>"
      ],
      "text/plain": [
       "   vif_values             Variables\n",
       "0    1.716679                   Age\n",
       "1    1.072029           seller_type\n",
       "2    2.747128             fuel_type\n",
       "3    1.499493     transmission_type\n",
       "4    3.788718               mileage\n",
       "5    7.525346                engine\n",
       "6    5.829364             max_power\n",
       "7    2.266952                 seats\n",
       "8    4.369883  Max new price_boxcox\n",
       "9    1.658144      km_driven_boxcox"
      ]
     },
     "execution_count": 50,
     "metadata": {},
     "output_type": "execute_result"
    }
   ],
   "source": [
    "vif"
   ]
  },
  {
   "cell_type": "code",
   "execution_count": 51,
   "metadata": {},
   "outputs": [],
   "source": [
    "y_pred_train = model_1.predict(X_train)\n",
    "y_pred_test = model_1.predict(X_test)"
   ]
  },
  {
   "cell_type": "code",
   "execution_count": 52,
   "metadata": {},
   "outputs": [
    {
     "name": "stdout",
     "output_type": "stream",
     "text": [
      "0.34134249867050626\n",
      "0.33923434396701085\n"
     ]
    }
   ],
   "source": [
    "print(np.sqrt(mean_squared_error(y_pred_train,y_train)))\n",
    "print(np.sqrt(mean_squared_error(y_pred_test,y_test)))"
   ]
  },
  {
   "cell_type": "raw",
   "metadata": {},
   "source": [
    "We can observe fitting of the model performs well in the train data and the test data"
   ]
  },
  {
   "cell_type": "code",
   "execution_count": 53,
   "metadata": {},
   "outputs": [
    {
     "name": "stdout",
     "output_type": "stream",
     "text": [
      "Regression Plot\n"
     ]
    },
    {
     "data": {
      "text/plain": [
       "<matplotlib.axes._subplots.AxesSubplot at 0x22e72112248>"
      ]
     },
     "execution_count": 53,
     "metadata": {},
     "output_type": "execute_result"
    },
    {
     "data": {
      "image/png": "[encoded data removed]",
      "text/plain": [
       "<Figure size 360x360 with 1 Axes>"
      ]
     },
     "metadata": {
      "needs_background": "light"
     },
     "output_type": "display_data"
    }
   ],
   "source": [
    "print(\"Regression Plot\")\n",
    "plt.figure(figsize=(5,5))\n",
    "sns.regplot(y_train , y_pred_train)"
   ]
  },
  {
   "cell_type": "raw",
   "metadata": {},
   "source": [
    "From the regression plot made between the train data and the target variable it can be observed that most of the data falls in the predicted line"
   ]
  },
  {
   "cell_type": "code",
   "execution_count": 54,
   "metadata": {},
   "outputs": [
    {
     "name": "stdout",
     "output_type": "stream",
     "text": [
      "Regression Plot\n"
     ]
    },
    {
     "data": {
      "text/plain": [
       "<matplotlib.axes._subplots.AxesSubplot at 0x22e72ce8f88>"
      ]
     },
     "execution_count": 54,
     "metadata": {},
     "output_type": "execute_result"
    },
    {
     "data": {
      "image/png": "[encoded data removed]",
      "text/plain": [
       "<Figure size 360x360 with 1 Axes>"
      ]
     },
     "metadata": {
      "needs_background": "light"
     },
     "output_type": "display_data"
    }
   ],
   "source": [
    "print(\"Regression Plot\")\n",
    "plt.figure(figsize=(5,5))\n",
    "sns.regplot(y_test , y_pred_test)"
   ]
  },
  {
   "cell_type": "raw",
   "metadata": {},
   "source": [
    "From the regression plot made between the test data and the target variable it can be observed that most of the data falls in the predicted line"
   ]
  },
  {
   "cell_type": "code",
   "execution_count": 68,
   "metadata": {},
   "outputs": [],
   "source": [
    "## Step-10 : Plot r2 and RMSE against n_features\n",
    "metrics=pd.DataFrame({\"RMSE\":[np.sqrt(mean_squared_error(y_train,y_pred_train)),np.sqrt(mean_squared_error(y_test,y_pred_test))],\n",
    "                      \"R2\":[r2_score(y_train,y_pred_train),r2_score(y_test,y_pred_test)]},index=[\"Train\",\"Test\"])\n",
    "#metrics['RMSE'] = metrics['RMSE'] * (10**11)"
   ]
  },
  {
   "cell_type": "code",
   "execution_count": 69,
   "metadata": {},
   "outputs": [
    {
     "data": {
      "text/plain": [
       "<Figure size 504x360 with 0 Axes>"
      ]
     },
     "metadata": {},
     "output_type": "display_data"
    },
    {
     "data": {
      "image/png": "[encoded data removed]",
      "text/plain": [
       "<Figure size 432x288 with 1 Axes>"
      ]
     },
     "metadata": {
      "needs_background": "light"
     },
     "output_type": "display_data"
    }
   ],
   "source": [
    "plt.figure(figsize=(7,5))\n",
    "metrics.plot(kind=\"bar\")\n",
    "plt.show()"
   ]
  },
  {
   "cell_type": "raw",
   "metadata": {},
   "source": [
    "The bar plot confirms that there is no underfitting or overfitting in the model . The model is a good fit with r2 value as 88%"
   ]
  },
  {
   "cell_type": "markdown",
   "metadata": {},
   "source": [
    "# Linear Regression Assumptions Validation"
   ]
  },
  {
   "cell_type": "raw",
   "metadata": {},
   "source": [
    "Testing Assumptions:\n",
    "1. SST = SSR + SSE will be true if the residuals are normally distributed with mean 0\n",
    "2.Linear regression can handle curvature in addition to lines\n",
    "3.Residual are normally distributed with mean 0\n",
    "4.Homoscadisity of the features\n",
    "5.No auto-correlation among the features/residuals\n",
    "6.There is no multi-collinearity\n",
    "7.Linearity of the relationship between the target feature and others\n",
    "8.The number of observation must be greater than number of params to be estimated\n",
    "9.The x-values in a given sample must not be same"
   ]
  },
  {
   "cell_type": "code",
   "execution_count": 77,
   "metadata": {},
   "outputs": [
    {
     "name": "stdout",
     "output_type": "stream",
     "text": [
      "statval 0.9532455029809428\n",
      "pval 0.9690477018847864\n"
     ]
    }
   ],
   "source": [
    "## 1. Linearity of Model \n",
    "stat,pval=sm.stats.diagnostic.linear_rainbow(model_1,frac=0.5)\n",
    "print(\"statval\",stat)\n",
    "print(\"pval\",pval)"
   ]
  },
  {
   "cell_type": "code",
   "execution_count": null,
   "metadata": {},
   "outputs": [],
   "source": [
    "#p>0.05 , hence we fail to reject null and we conclude model linear."
   ]
  },
  {
   "cell_type": "code",
   "execution_count": 74,
   "metadata": {},
   "outputs": [
    {
     "data": {
      "text/plain": [
       "(1.0037622970962754, 0.4418191518188324, 'increasing')"
      ]
     },
     "execution_count": 74,
     "metadata": {},
     "output_type": "execute_result"
    }
   ],
   "source": [
    "## 2. Homoscedasticity (equal variance) of residuals\n",
    "import statsmodels.stats.api as sms\n",
    "residuals = model_1.resid\n",
    "sms.het_goldfeldquandt(y=residuals, x=X_train)"
   ]
  },
  {
   "cell_type": "code",
   "execution_count": null,
   "metadata": {},
   "outputs": [],
   "source": [
    "## Since p-value>005 we fail to reject H0, to conclude that variance of residuals is constant."
   ]
  },
  {
   "cell_type": "code",
   "execution_count": 71,
   "metadata": {},
   "outputs": [
    {
     "data": {
      "image/png": "[encoded data removed]",
      "text/plain": [
       "<Figure size 432x288 with 1 Axes>"
      ]
     },
     "metadata": {
      "needs_background": "light"
     },
     "output_type": "display_data"
    }
   ],
   "source": [
    "## 3. Normality of Residuals\n",
    "residuals = model_1.resid\n",
    "sm.qqplot(residuals)\n",
    "plt.show()"
   ]
  },
  {
   "cell_type": "code",
   "execution_count": 85,
   "metadata": {},
   "outputs": [
    {
     "data": {
      "text/plain": [
       "<matplotlib.axes._subplots.AxesSubplot at 0x22e6f6a9608>"
      ]
     },
     "execution_count": 85,
     "metadata": {},
     "output_type": "execute_result"
    },
    {
     "data": {
      "image/png": "[encoded data removed]",
      "text/plain": [
       "<Figure size 432x288 with 1 Axes>"
      ]
     },
     "metadata": {
      "needs_background": "light"
     },
     "output_type": "display_data"
    }
   ],
   "source": [
    "sns.distplot(model_1.resid)"
   ]
  },
  {
   "cell_type": "code",
   "execution_count": 92,
   "metadata": {},
   "outputs": [
    {
     "data": {
      "text/plain": [
       "<matplotlib.axes._subplots.AxesSubplot at 0x22e75db4b48>"
      ]
     },
     "execution_count": 92,
     "metadata": {},
     "output_type": "execute_result"
    },
    {
     "data": {
      "image/png": "[encoded data removed]",
      "text/plain": [
       "<Figure size 720x360 with 1 Axes>"
      ]
     },
     "metadata": {
      "needs_background": "light"
     },
     "output_type": "display_data"
    }
   ],
   "source": [
    "error = y_pred_train - y_train\n",
    "plt.figure(figsize=(10,5))\n",
    "sns.distplot(error)"
   ]
  },
  {
   "cell_type": "code",
   "execution_count": 87,
   "metadata": {},
   "outputs": [
    {
     "name": "stdout",
     "output_type": "stream",
     "text": [
      "cv mean is            : 0.8838603309085826\n",
      "Minimum value is      : 0.883088066228936\n",
      "Maximum values is     : 0.8851269452623653\n",
      "Mean_Squared_error is : 0.35136042400930156\n"
     ]
    }
   ],
   "source": [
    "#K-Fold Cross Validation\n",
    "from sklearn.linear_model import LinearRegression\n",
    "lr=LinearRegression()\n",
    "\n",
    "from sklearn.model_selection import cross_val_score,KFold\n",
    "\n",
    "kfold=KFold(n_splits=3,shuffle=True)\n",
    "cv=cross_val_score(lr,X=X,y=y,cv=kfold,scoring=\"r2\")\n",
    "\n",
    "er=cross_val_score(lr,X=X,y=y,cv=3,scoring=\"neg_mean_squared_error\")\n",
    "print(\"cv mean is            :\",cv.mean())\n",
    "print(\"Minimum value is      :\",cv.min())\n",
    "print(\"Maximum values is     :\",cv.max())\n",
    "print('Mean_Squared_error is :',np.sum(np.abs(er)))"
   ]
  },
  {
   "cell_type": "code",
   "execution_count": 88,
   "metadata": {},
   "outputs": [],
   "source": [
    "from sklearn.linear_model import LinearRegression\n",
    "import mlxtend\n",
    "from mlxtend.feature_selection import SequentialFeatureSelector as sfs\n",
    "lin_reg = LinearRegression()"
   ]
  },
  {
   "cell_type": "code",
   "execution_count": 89,
   "metadata": {},
   "outputs": [
    {
     "name": "stdout",
     "output_type": "stream",
     "text": [
      "Features using Forward Selection: ('Age', 'fuel_type', 'transmission_type', 'max_power', 'seats', 'Max new price_boxcox')\n"
     ]
    }
   ],
   "source": [
    "sfs_reg = sfs(lin_reg,k_features=6,forward=True,scoring='r2')\n",
    "forward_model = sfs_reg.fit(Xc,y)\n",
    "print(\"Features using Forward Selection:\",forward_model.k_feature_names_)"
   ]
  },
  {
   "cell_type": "code",
   "execution_count": 90,
   "metadata": {},
   "outputs": [
    {
     "name": "stdout",
     "output_type": "stream",
     "text": [
      "Features using Backward Selection: ('Age', 'fuel_type', 'transmission_type', 'max_power', 'Max new price_boxcox')\n"
     ]
    }
   ],
   "source": [
    "sfs_reg = sfs(lin_reg,k_features=5,forward=False,scoring='r2')\n",
    "backward_model = sfs_reg.fit(Xc,y)\n",
    "print(\"Features using Backward Selection:\",backward_model.k_feature_names_)"
   ]
  },
  {
   "cell_type": "raw",
   "metadata": {},
   "source": [
    "From the model developed the price of the selling car can be determined as :\n",
    "selling_price = -0.49 * Age + (-0.06) * seller type + (-0.06) * fuel type + (-0.09) * transmission type + 0.04 * mileage +    0.08 * engine + 0.24 * max power + 0.05 * seats + 0.37 * Max new price + (-0.02)*km driven"
   ]
  },
  {
   "cell_type": "raw",
   "metadata": {},
   "source": [
    "The selling price of the car increases based on :\n",
    "1.Mileage of the car\n",
    "2.Engine capacity\n",
    "3.Max power\n",
    "4.Number of seats\n",
    "5.Max new price of a new car\n",
    "\n",
    "The selling price of the car decreases based on :\n",
    "1.Age of the car\n",
    "2.Seller type\n",
    "3.Fuel type\n",
    "4.Transmission type\n",
    "5.KM driven"
   ]
  }
 ],
 "metadata": {
  "kernelspec": {
   "display_name": "Python 3",
   "language": "python",
   "name": "python3"
  },
  "language_info": {
   "codemirror_mode": {
    "name": "ipython",
    "version": 3
   },
   "file_extension": ".py",
   "mimetype": "text/x-python",
   "name": "python",
   "nbconvert_exporter": "python",
   "pygments_lexer": "ipython3",
   "version": "3.8.5"
  }
 },
 "nbformat": 4,
 "nbformat_minor": 4
}
