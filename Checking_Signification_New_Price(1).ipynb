{
 "cells": [
  {
   "cell_type": "code",
   "execution_count": 1,
   "metadata": {},
   "outputs": [],
   "source": [
    "import pandas as pd\n",
    "import numpy as np\n",
    "import matplotlib.pyplot as plt\n",
    "import seaborn as sns"
   ]
  },
  {
   "cell_type": "code",
   "execution_count": 2,
   "metadata": {},
   "outputs": [],
   "source": [
    "df = pd.read_csv('clean_data.csv')"
   ]
  },
  {
   "cell_type": "code",
   "execution_count": 3,
   "metadata": {},
   "outputs": [],
   "source": [
    "df.dropna(axis=0, inplace=True)"
   ]
  },
  {
   "cell_type": "code",
   "execution_count": 4,
   "metadata": {},
   "outputs": [
    {
     "data": {
      "text/html": [
       "<div>\n",
       "<style scoped>\n",
       "    .dataframe tbody tr th:only-of-type {\n",
       "        vertical-align: middle;\n",
       "    }\n",
       "\n",
       "    .dataframe tbody tr th {\n",
       "        vertical-align: top;\n",
       "    }\n",
       "\n",
       "    .dataframe thead th {\n",
       "        text-align: right;\n",
       "    }\n",
       "</style>\n",
       "<table border=\"1\" class=\"dataframe\">\n",
       "  <thead>\n",
       "    <tr style=\"text-align: right;\">\n",
       "      <th></th>\n",
       "      <th>selling_price</th>\n",
       "      <th>seller_type</th>\n",
       "      <th>km_driven</th>\n",
       "      <th>owner_type</th>\n",
       "      <th>fuel_type</th>\n",
       "      <th>transmission_type</th>\n",
       "      <th>mileage</th>\n",
       "      <th>engine</th>\n",
       "      <th>max_power</th>\n",
       "      <th>seats</th>\n",
       "      <th>Maker</th>\n",
       "      <th>Model</th>\n",
       "      <th>Min new price</th>\n",
       "      <th>Max new price</th>\n",
       "      <th>Age</th>\n",
       "    </tr>\n",
       "  </thead>\n",
       "  <tbody>\n",
       "    <tr>\n",
       "      <th>1</th>\n",
       "      <td>550000.0</td>\n",
       "      <td>Individual</td>\n",
       "      <td>20000.0</td>\n",
       "      <td>First Owner</td>\n",
       "      <td>Petrol</td>\n",
       "      <td>Manual</td>\n",
       "      <td>18.9</td>\n",
       "      <td>1197.0</td>\n",
       "      <td>82.0</td>\n",
       "      <td>5.0</td>\n",
       "      <td>HYUNDAI</td>\n",
       "      <td>GRAND</td>\n",
       "      <td>711000.0</td>\n",
       "      <td>748000.0</td>\n",
       "      <td>5.0</td>\n",
       "    </tr>\n",
       "  </tbody>\n",
       "</table>\n",
       "</div>"
      ],
      "text/plain": [
       "   selling_price seller_type  km_driven   owner_type fuel_type  \\\n",
       "1       550000.0  Individual    20000.0  First Owner    Petrol   \n",
       "\n",
       "  transmission_type  mileage  engine  max_power  seats    Maker  Model  \\\n",
       "1            Manual     18.9  1197.0       82.0    5.0  HYUNDAI  GRAND   \n",
       "\n",
       "   Min new price  Max new price  Age  \n",
       "1       711000.0       748000.0  5.0  "
      ]
     },
     "execution_count": 4,
     "metadata": {},
     "output_type": "execute_result"
    }
   ],
   "source": [
    "df.head(1)"
   ]
  },
  {
   "cell_type": "code",
   "execution_count": 5,
   "metadata": {},
   "outputs": [
    {
     "data": {
      "text/plain": [
       "selling_price        0.0\n",
       "seller_type          0.0\n",
       "km_driven            0.0\n",
       "owner_type           0.0\n",
       "fuel_type            0.0\n",
       "transmission_type    0.0\n",
       "mileage              0.0\n",
       "engine               0.0\n",
       "max_power            0.0\n",
       "seats                0.0\n",
       "Maker                0.0\n",
       "Model                0.0\n",
       "Min new price        0.0\n",
       "Max new price        0.0\n",
       "Age                  0.0\n",
       "dtype: float64"
      ]
     },
     "execution_count": 5,
     "metadata": {},
     "output_type": "execute_result"
    }
   ],
   "source": [
    "df.isnull().sum()/len(df)*100"
   ]
  },
  {
   "cell_type": "code",
   "execution_count": 6,
   "metadata": {},
   "outputs": [
    {
     "data": {
      "text/plain": [
       "(9187, 15)"
      ]
     },
     "execution_count": 6,
     "metadata": {},
     "output_type": "execute_result"
    }
   ],
   "source": [
    "df.shape"
   ]
  },
  {
   "cell_type": "code",
   "execution_count": 7,
   "metadata": {},
   "outputs": [
    {
     "name": "stdout",
     "output_type": "stream",
     "text": [
      "<class 'pandas.core.frame.DataFrame'>\n",
      "Int64Index: 9187 entries, 1 to 20024\n",
      "Data columns (total 15 columns):\n",
      " #   Column             Non-Null Count  Dtype  \n",
      "---  ------             --------------  -----  \n",
      " 0   selling_price      9187 non-null   float64\n",
      " 1   seller_type        9187 non-null   object \n",
      " 2   km_driven          9187 non-null   float64\n",
      " 3   owner_type         9187 non-null   object \n",
      " 4   fuel_type          9187 non-null   object \n",
      " 5   transmission_type  9187 non-null   object \n",
      " 6   mileage            9187 non-null   float64\n",
      " 7   engine             9187 non-null   float64\n",
      " 8   max_power          9187 non-null   float64\n",
      " 9   seats              9187 non-null   float64\n",
      " 10  Maker              9187 non-null   object \n",
      " 11  Model              9187 non-null   object \n",
      " 12  Min new price      9187 non-null   float64\n",
      " 13  Max new price      9187 non-null   float64\n",
      " 14  Age                9187 non-null   float64\n",
      "dtypes: float64(9), object(6)\n",
      "memory usage: 1.1+ MB\n"
     ]
    }
   ],
   "source": [
    "df.info()"
   ]
  },
  {
   "cell_type": "code",
   "execution_count": 9,
   "metadata": {},
   "outputs": [],
   "source": [
    "from sklearn.preprocessing import LabelEncoder\n",
    "le =LabelEncoder()\n",
    "df.seller_type = le.fit_transform(df.seller_type)\n",
    "df.fuel_type = le.fit_transform(df.fuel_type)\n",
    "df.transmission_type = le.fit_transform(df.transmission_type)\n",
    "df.Maker = le.fit_transform(df.Maker)\n",
    "df.Model = le.fit_transform(df.Model)\n",
    "df.owner_type = le.fit_transform(df.owner_type)"
   ]
  },
  {
   "cell_type": "code",
   "execution_count": 10,
   "metadata": {},
   "outputs": [
    {
     "name": "stdout",
     "output_type": "stream",
     "text": [
      "<class 'pandas.core.frame.DataFrame'>\n",
      "Int64Index: 9187 entries, 1 to 20024\n",
      "Data columns (total 15 columns):\n",
      " #   Column             Non-Null Count  Dtype  \n",
      "---  ------             --------------  -----  \n",
      " 0   selling_price      9187 non-null   float64\n",
      " 1   seller_type        9187 non-null   int32  \n",
      " 2   km_driven          9187 non-null   float64\n",
      " 3   owner_type         9187 non-null   int32  \n",
      " 4   fuel_type          9187 non-null   int32  \n",
      " 5   transmission_type  9187 non-null   int32  \n",
      " 6   mileage            9187 non-null   float64\n",
      " 7   engine             9187 non-null   float64\n",
      " 8   max_power          9187 non-null   float64\n",
      " 9   seats              9187 non-null   float64\n",
      " 10  Maker              9187 non-null   int32  \n",
      " 11  Model              9187 non-null   int32  \n",
      " 12  Min new price      9187 non-null   float64\n",
      " 13  Max new price      9187 non-null   float64\n",
      " 14  Age                9187 non-null   float64\n",
      "dtypes: float64(9), int32(6)\n",
      "memory usage: 933.1 KB\n"
     ]
    }
   ],
   "source": [
    "df.info()"
   ]
  },
  {
   "cell_type": "code",
   "execution_count": 11,
   "metadata": {},
   "outputs": [],
   "source": [
    "from statsmodels.stats.outliers_influence import variance_inflation_factor\n",
    "vif = pd.DataFrame()\n",
    "vif[\"vif_values\"] = [variance_inflation_factor(df.values , i ) for i in range (df.shape[1])]\n",
    "vif['Variables'] = df.columns"
   ]
  },
  {
   "cell_type": "code",
   "execution_count": 12,
   "metadata": {},
   "outputs": [
    {
     "data": {
      "text/html": [
       "<div>\n",
       "<style scoped>\n",
       "    .dataframe tbody tr th:only-of-type {\n",
       "        vertical-align: middle;\n",
       "    }\n",
       "\n",
       "    .dataframe tbody tr th {\n",
       "        vertical-align: top;\n",
       "    }\n",
       "\n",
       "    .dataframe thead th {\n",
       "        text-align: right;\n",
       "    }\n",
       "</style>\n",
       "<table border=\"1\" class=\"dataframe\">\n",
       "  <thead>\n",
       "    <tr style=\"text-align: right;\">\n",
       "      <th></th>\n",
       "      <th>vif_values</th>\n",
       "      <th>Variables</th>\n",
       "    </tr>\n",
       "  </thead>\n",
       "  <tbody>\n",
       "    <tr>\n",
       "      <th>0</th>\n",
       "      <td>6.807471</td>\n",
       "      <td>selling_price</td>\n",
       "    </tr>\n",
       "    <tr>\n",
       "      <th>1</th>\n",
       "      <td>1.759282</td>\n",
       "      <td>seller_type</td>\n",
       "    </tr>\n",
       "    <tr>\n",
       "      <th>2</th>\n",
       "      <td>2.168231</td>\n",
       "      <td>km_driven</td>\n",
       "    </tr>\n",
       "    <tr>\n",
       "      <th>3</th>\n",
       "      <td>1.002546</td>\n",
       "      <td>owner_type</td>\n",
       "    </tr>\n",
       "    <tr>\n",
       "      <th>4</th>\n",
       "      <td>7.673295</td>\n",
       "      <td>fuel_type</td>\n",
       "    </tr>\n",
       "    <tr>\n",
       "      <th>5</th>\n",
       "      <td>6.523634</td>\n",
       "      <td>transmission_type</td>\n",
       "    </tr>\n",
       "    <tr>\n",
       "      <th>6</th>\n",
       "      <td>17.566707</td>\n",
       "      <td>mileage</td>\n",
       "    </tr>\n",
       "    <tr>\n",
       "      <th>7</th>\n",
       "      <td>71.146768</td>\n",
       "      <td>engine</td>\n",
       "    </tr>\n",
       "    <tr>\n",
       "      <th>8</th>\n",
       "      <td>39.612287</td>\n",
       "      <td>max_power</td>\n",
       "    </tr>\n",
       "    <tr>\n",
       "      <th>9</th>\n",
       "      <td>73.320803</td>\n",
       "      <td>seats</td>\n",
       "    </tr>\n",
       "    <tr>\n",
       "      <th>10</th>\n",
       "      <td>4.961817</td>\n",
       "      <td>Maker</td>\n",
       "    </tr>\n",
       "    <tr>\n",
       "      <th>11</th>\n",
       "      <td>4.782072</td>\n",
       "      <td>Model</td>\n",
       "    </tr>\n",
       "    <tr>\n",
       "      <th>12</th>\n",
       "      <td>10.793977</td>\n",
       "      <td>Min new price</td>\n",
       "    </tr>\n",
       "    <tr>\n",
       "      <th>13</th>\n",
       "      <td>9.530286</td>\n",
       "      <td>Max new price</td>\n",
       "    </tr>\n",
       "    <tr>\n",
       "      <th>14</th>\n",
       "      <td>7.225477</td>\n",
       "      <td>Age</td>\n",
       "    </tr>\n",
       "  </tbody>\n",
       "</table>\n",
       "</div>"
      ],
      "text/plain": [
       "    vif_values          Variables\n",
       "0     6.807471      selling_price\n",
       "1     1.759282        seller_type\n",
       "2     2.168231          km_driven\n",
       "3     1.002546         owner_type\n",
       "4     7.673295          fuel_type\n",
       "5     6.523634  transmission_type\n",
       "6    17.566707            mileage\n",
       "7    71.146768             engine\n",
       "8    39.612287          max_power\n",
       "9    73.320803              seats\n",
       "10    4.961817              Maker\n",
       "11    4.782072              Model\n",
       "12   10.793977      Min new price\n",
       "13    9.530286      Max new price\n",
       "14    7.225477                Age"
      ]
     },
     "execution_count": 12,
     "metadata": {},
     "output_type": "execute_result"
    }
   ],
   "source": [
    "vif"
   ]
  },
  {
   "cell_type": "code",
   "execution_count": 16,
   "metadata": {},
   "outputs": [],
   "source": [
    "import statsmodels.api as sm \n",
    "X = df.drop('selling_price',axis=1)\n",
    "y = df['selling_price']"
   ]
  },
  {
   "cell_type": "code",
   "execution_count": 18,
   "metadata": {},
   "outputs": [],
   "source": [
    "Xc = sm.add_constant(X)\n",
    "model = sm.OLS(y,Xc).fit()"
   ]
  },
  {
   "cell_type": "code",
   "execution_count": 19,
   "metadata": {},
   "outputs": [
    {
     "data": {
      "text/html": [
       "<table class=\"simpletable\">\n",
       "<caption>OLS Regression Results</caption>\n",
       "<tr>\n",
       "  <th>Dep. Variable:</th>      <td>selling_price</td>  <th>  R-squared:         </th>  <td>   0.701</td>  \n",
       "</tr>\n",
       "<tr>\n",
       "  <th>Model:</th>                   <td>OLS</td>       <th>  Adj. R-squared:    </th>  <td>   0.701</td>  \n",
       "</tr>\n",
       "<tr>\n",
       "  <th>Method:</th>             <td>Least Squares</td>  <th>  F-statistic:       </th>  <td>   1538.</td>  \n",
       "</tr>\n",
       "<tr>\n",
       "  <th>Date:</th>             <td>Tue, 08 Jun 2021</td> <th>  Prob (F-statistic):</th>   <td>  0.00</td>   \n",
       "</tr>\n",
       "<tr>\n",
       "  <th>Time:</th>                 <td>22:37:00</td>     <th>  Log-Likelihood:    </th> <td>-1.3192e+05</td>\n",
       "</tr>\n",
       "<tr>\n",
       "  <th>No. Observations:</th>      <td>  9187</td>      <th>  AIC:               </th>  <td>2.639e+05</td> \n",
       "</tr>\n",
       "<tr>\n",
       "  <th>Df Residuals:</th>          <td>  9172</td>      <th>  BIC:               </th>  <td>2.640e+05</td> \n",
       "</tr>\n",
       "<tr>\n",
       "  <th>Df Model:</th>              <td>    14</td>      <th>                     </th>      <td> </td>     \n",
       "</tr>\n",
       "<tr>\n",
       "  <th>Covariance Type:</th>      <td>nonrobust</td>    <th>                     </th>      <td> </td>     \n",
       "</tr>\n",
       "</table>\n",
       "<table class=\"simpletable\">\n",
       "<tr>\n",
       "          <td></td>             <th>coef</th>     <th>std err</th>      <th>t</th>      <th>P>|t|</th>  <th>[0.025</th>    <th>0.975]</th>  \n",
       "</tr>\n",
       "<tr>\n",
       "  <th>const</th>             <td> 2.706e+05</td> <td> 9.25e+04</td> <td>    2.927</td> <td> 0.003</td> <td> 8.94e+04</td> <td> 4.52e+05</td>\n",
       "</tr>\n",
       "<tr>\n",
       "  <th>seller_type</th>       <td>-3.746e+04</td> <td> 8600.120</td> <td>   -4.356</td> <td> 0.000</td> <td>-5.43e+04</td> <td>-2.06e+04</td>\n",
       "</tr>\n",
       "<tr>\n",
       "  <th>km_driven</th>         <td>   -0.5210</td> <td>    0.084</td> <td>   -6.194</td> <td> 0.000</td> <td>   -0.686</td> <td>   -0.356</td>\n",
       "</tr>\n",
       "<tr>\n",
       "  <th>owner_type</th>        <td>  2.09e+05</td> <td> 1.87e+05</td> <td>    1.120</td> <td> 0.263</td> <td>-1.57e+05</td> <td> 5.75e+05</td>\n",
       "</tr>\n",
       "<tr>\n",
       "  <th>fuel_type</th>         <td>-1.932e+04</td> <td> 7273.859</td> <td>   -2.656</td> <td> 0.008</td> <td>-3.36e+04</td> <td>-5062.711</td>\n",
       "</tr>\n",
       "<tr>\n",
       "  <th>transmission_type</th> <td>-9.522e+04</td> <td> 1.27e+04</td> <td>   -7.513</td> <td> 0.000</td> <td> -1.2e+05</td> <td>-7.04e+04</td>\n",
       "</tr>\n",
       "<tr>\n",
       "  <th>mileage</th>           <td> 1253.6120</td> <td> 1943.219</td> <td>    0.645</td> <td> 0.519</td> <td>-2555.530</td> <td> 5062.754</td>\n",
       "</tr>\n",
       "<tr>\n",
       "  <th>engine</th>            <td>  150.8379</td> <td>   23.293</td> <td>    6.476</td> <td> 0.000</td> <td>  105.179</td> <td>  196.497</td>\n",
       "</tr>\n",
       "<tr>\n",
       "  <th>max_power</th>         <td> 5921.7564</td> <td>  243.246</td> <td>   24.345</td> <td> 0.000</td> <td> 5444.940</td> <td> 6398.573</td>\n",
       "</tr>\n",
       "<tr>\n",
       "  <th>seats</th>             <td> 1498.4878</td> <td> 8937.725</td> <td>    0.168</td> <td> 0.867</td> <td> -1.6e+04</td> <td>  1.9e+04</td>\n",
       "</tr>\n",
       "<tr>\n",
       "  <th>Maker</th>             <td>  -59.7096</td> <td>  692.689</td> <td>   -0.086</td> <td> 0.931</td> <td>-1417.533</td> <td> 1298.114</td>\n",
       "</tr>\n",
       "<tr>\n",
       "  <th>Model</th>             <td>  582.5104</td> <td>  166.545</td> <td>    3.498</td> <td> 0.000</td> <td>  256.045</td> <td>  908.976</td>\n",
       "</tr>\n",
       "<tr>\n",
       "  <th>Min new price</th>     <td>    0.2393</td> <td>    0.007</td> <td>   36.440</td> <td> 0.000</td> <td>    0.226</td> <td>    0.252</td>\n",
       "</tr>\n",
       "<tr>\n",
       "  <th>Max new price</th>     <td>   -0.0378</td> <td>    0.006</td> <td>   -6.466</td> <td> 0.000</td> <td>   -0.049</td> <td>   -0.026</td>\n",
       "</tr>\n",
       "<tr>\n",
       "  <th>Age</th>               <td>-8.744e+04</td> <td> 1649.841</td> <td>  -53.001</td> <td> 0.000</td> <td>-9.07e+04</td> <td>-8.42e+04</td>\n",
       "</tr>\n",
       "</table>\n",
       "<table class=\"simpletable\">\n",
       "<tr>\n",
       "  <th>Omnibus:</th>       <td>7843.153</td> <th>  Durbin-Watson:     </th>  <td>   2.025</td> \n",
       "</tr>\n",
       "<tr>\n",
       "  <th>Prob(Omnibus):</th>  <td> 0.000</td>  <th>  Jarque-Bera (JB):  </th> <td>930746.367</td>\n",
       "</tr>\n",
       "<tr>\n",
       "  <th>Skew:</th>           <td> 3.515</td>  <th>  Prob(JB):          </th>  <td>    0.00</td> \n",
       "</tr>\n",
       "<tr>\n",
       "  <th>Kurtosis:</th>       <td>51.806</td>  <th>  Cond. No.          </th>  <td>1.31e+08</td> \n",
       "</tr>\n",
       "</table><br/><br/>Warnings:<br/>[1] Standard Errors assume that the covariance matrix of the errors is correctly specified.<br/>[2] The condition number is large, 1.31e+08. This might indicate that there are<br/>strong multicollinearity or other numerical problems."
      ],
      "text/plain": [
       "<class 'statsmodels.iolib.summary.Summary'>\n",
       "\"\"\"\n",
       "                            OLS Regression Results                            \n",
       "==============================================================================\n",
       "Dep. Variable:          selling_price   R-squared:                       0.701\n",
       "Model:                            OLS   Adj. R-squared:                  0.701\n",
       "Method:                 Least Squares   F-statistic:                     1538.\n",
       "Date:                Tue, 08 Jun 2021   Prob (F-statistic):               0.00\n",
       "Time:                        22:37:00   Log-Likelihood:            -1.3192e+05\n",
       "No. Observations:                9187   AIC:                         2.639e+05\n",
       "Df Residuals:                    9172   BIC:                         2.640e+05\n",
       "Df Model:                          14                                         \n",
       "Covariance Type:            nonrobust                                         \n",
       "=====================================================================================\n",
       "                        coef    std err          t      P>|t|      [0.025      0.975]\n",
       "-------------------------------------------------------------------------------------\n",
       "const              2.706e+05   9.25e+04      2.927      0.003    8.94e+04    4.52e+05\n",
       "seller_type       -3.746e+04   8600.120     -4.356      0.000   -5.43e+04   -2.06e+04\n",
       "km_driven            -0.5210      0.084     -6.194      0.000      -0.686      -0.356\n",
       "owner_type          2.09e+05   1.87e+05      1.120      0.263   -1.57e+05    5.75e+05\n",
       "fuel_type         -1.932e+04   7273.859     -2.656      0.008   -3.36e+04   -5062.711\n",
       "transmission_type -9.522e+04   1.27e+04     -7.513      0.000    -1.2e+05   -7.04e+04\n",
       "mileage            1253.6120   1943.219      0.645      0.519   -2555.530    5062.754\n",
       "engine              150.8379     23.293      6.476      0.000     105.179     196.497\n",
       "max_power          5921.7564    243.246     24.345      0.000    5444.940    6398.573\n",
       "seats              1498.4878   8937.725      0.168      0.867    -1.6e+04     1.9e+04\n",
       "Maker               -59.7096    692.689     -0.086      0.931   -1417.533    1298.114\n",
       "Model               582.5104    166.545      3.498      0.000     256.045     908.976\n",
       "Min new price         0.2393      0.007     36.440      0.000       0.226       0.252\n",
       "Max new price        -0.0378      0.006     -6.466      0.000      -0.049      -0.026\n",
       "Age               -8.744e+04   1649.841    -53.001      0.000   -9.07e+04   -8.42e+04\n",
       "==============================================================================\n",
       "Omnibus:                     7843.153   Durbin-Watson:                   2.025\n",
       "Prob(Omnibus):                  0.000   Jarque-Bera (JB):           930746.367\n",
       "Skew:                           3.515   Prob(JB):                         0.00\n",
       "Kurtosis:                      51.806   Cond. No.                     1.31e+08\n",
       "==============================================================================\n",
       "\n",
       "Warnings:\n",
       "[1] Standard Errors assume that the covariance matrix of the errors is correctly specified.\n",
       "[2] The condition number is large, 1.31e+08. This might indicate that there are\n",
       "strong multicollinearity or other numerical problems.\n",
       "\"\"\""
      ]
     },
     "execution_count": 19,
     "metadata": {},
     "output_type": "execute_result"
    }
   ],
   "source": [
    "model.summary()"
   ]
  },
  {
   "cell_type": "code",
   "execution_count": 21,
   "metadata": {},
   "outputs": [],
   "source": [
    "from sklearn.linear_model import LinearRegression\n",
    "import mlxtend\n",
    "from mlxtend.feature_selection import SequentialFeatureSelector as sfs\n",
    "lin_reg = LinearRegression()"
   ]
  },
  {
   "cell_type": "code",
   "execution_count": 34,
   "metadata": {},
   "outputs": [],
   "source": [
    "sfs_reg = sfs(lin_reg,k_features=5,forward=True,scoring='r2')"
   ]
  },
  {
   "cell_type": "code",
   "execution_count": 35,
   "metadata": {},
   "outputs": [],
   "source": [
    "forward_model = sfs_reg.fit(Xc,y)"
   ]
  },
  {
   "cell_type": "code",
   "execution_count": 36,
   "metadata": {
    "scrolled": true
   },
   "outputs": [
    {
     "data": {
      "text/plain": [
       "('transmission_type', 'engine', 'max_power', 'Min new price', 'Age')"
      ]
     },
     "execution_count": 36,
     "metadata": {},
     "output_type": "execute_result"
    }
   ],
   "source": [
    "forward_model.k_feature_names_"
   ]
  }
 ],
 "metadata": {
  "kernelspec": {
   "display_name": "Python 3",
   "language": "python",
   "name": "python3"
  },
  "language_info": {
   "codemirror_mode": {
    "name": "ipython",
    "version": 3
   },
   "file_extension": ".py",
   "mimetype": "text/x-python",
   "name": "python",
   "nbconvert_exporter": "python",
   "pygments_lexer": "ipython3",
   "version": "3.8.5"
  }
 },
 "nbformat": 4,
 "nbformat_minor": 4
}
